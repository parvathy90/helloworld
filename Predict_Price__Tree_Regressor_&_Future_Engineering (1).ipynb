{
  "nbformat": 4,
  "nbformat_minor": 0,
  "metadata": {
    "colab": {
      "name": "Predict Price_ Tree Regressor & Future Engineering.ipynb",
      "version": "0.3.2",
      "provenance": []
    },
    "language_info": {
      "name": "python",
      "version": "3.6.4",
      "mimetype": "text/x-python",
      "codemirror_mode": {
        "name": "ipython",
        "version": 3
      },
      "pygments_lexer": "ipython3",
      "nbconvert_exporter": "python",
      "file_extension": ".py"
    },
    "kernelspec": {
      "display_name": "Python 3",
      "language": "python",
      "name": "python3"
    }
  },
  "cells": [
    {
      "cell_type": "code",
      "metadata": {
        "_uuid": "8f2839f25d086af736a60e9eeb907d3b93b6e0e5",
        "_cell_guid": "b1076dfc-b9ad-4769-8c92-a6c4dae69d19",
        "trusted": true,
        "id": "08bSS9yi2-tx",
        "colab_type": "code",
        "colab": {}
      },
      "source": [
        "#load fundamental libraary\n",
        "import numpy as np # linear algebra\n",
        "import pandas as pd # data processing, CSV file I/O (e.g. pd.read_csv)\n",
        "import matplotlib.pyplot as plt #visualization\n",
        "import seaborn as sns #visualization"
      ],
      "execution_count": 0,
      "outputs": []
    },
    {
      "cell_type": "code",
      "metadata": {
        "trusted": true,
        "id": "zq2Ih2VT2-t7",
        "colab_type": "code",
        "colab": {}
      },
      "source": [
        "#load listinings data\n",
        "dataset = pd.read_csv(\"/content/gdrive/My Drive/listings.csv\")\n",
        "dataset2 = pd.read_csv('/content/gdrive/My Drive/listings_summary.csv')"
      ],
      "execution_count": 0,
      "outputs": []
    },
    {
      "cell_type": "code",
      "metadata": {
        "id": "nATuhAy03NAc",
        "colab_type": "code",
        "colab": {
          "base_uri": "https://localhost:8080/",
          "height": 34
        },
        "outputId": "9829473d-061c-405f-97b9-01d58e8d25ff"
      },
      "source": [
        "from google.colab import drive\n",
        "drive.mount('/content/gdrive')"
      ],
      "execution_count": 6,
      "outputs": [
        {
          "output_type": "stream",
          "text": [
            "Drive already mounted at /content/gdrive; to attempt to forcibly remount, call drive.mount(\"/content/gdrive\", force_remount=True).\n"
          ],
          "name": "stdout"
        }
      ]
    },
    {
      "cell_type": "markdown",
      "metadata": {
        "id": "Sf4sOyFg2-uA",
        "colab_type": "text"
      },
      "source": [
        "Now, We oveview datasets and get significant features according to us. "
      ]
    },
    {
      "cell_type": "code",
      "metadata": {
        "trusted": true,
        "id": "-fLD-Nin2-uB",
        "colab_type": "code",
        "colab": {
          "base_uri": "https://localhost:8080/",
          "height": 151
        },
        "outputId": "eda8531d-1123-4258-8c72-3797b7c647a4"
      },
      "source": [
        "dataset.head(1)"
      ],
      "execution_count": 7,
      "outputs": [
        {
          "output_type": "execute_result",
          "data": {
            "text/html": [
              "<div>\n",
              "<style scoped>\n",
              "    .dataframe tbody tr th:only-of-type {\n",
              "        vertical-align: middle;\n",
              "    }\n",
              "\n",
              "    .dataframe tbody tr th {\n",
              "        vertical-align: top;\n",
              "    }\n",
              "\n",
              "    .dataframe thead th {\n",
              "        text-align: right;\n",
              "    }\n",
              "</style>\n",
              "<table border=\"1\" class=\"dataframe\">\n",
              "  <thead>\n",
              "    <tr style=\"text-align: right;\">\n",
              "      <th></th>\n",
              "      <th>id</th>\n",
              "      <th>name</th>\n",
              "      <th>host_id</th>\n",
              "      <th>host_name</th>\n",
              "      <th>neighbourhood_group</th>\n",
              "      <th>neighbourhood</th>\n",
              "      <th>latitude</th>\n",
              "      <th>longitude</th>\n",
              "      <th>room_type</th>\n",
              "      <th>price</th>\n",
              "      <th>minimum_nights</th>\n",
              "      <th>number_of_reviews</th>\n",
              "      <th>last_review</th>\n",
              "      <th>reviews_per_month</th>\n",
              "      <th>calculated_host_listings_count</th>\n",
              "      <th>availability_365</th>\n",
              "    </tr>\n",
              "  </thead>\n",
              "  <tbody>\n",
              "    <tr>\n",
              "      <th>0</th>\n",
              "      <td>2015</td>\n",
              "      <td>Berlin-Mitte Value! Quiet courtyard/very central</td>\n",
              "      <td>2217</td>\n",
              "      <td>Ian</td>\n",
              "      <td>Mitte</td>\n",
              "      <td>Brunnenstr. Süd</td>\n",
              "      <td>52.534537</td>\n",
              "      <td>13.402557</td>\n",
              "      <td>Entire home/apt</td>\n",
              "      <td>60</td>\n",
              "      <td>4</td>\n",
              "      <td>118</td>\n",
              "      <td>2018-10-28</td>\n",
              "      <td>3.76</td>\n",
              "      <td>4</td>\n",
              "      <td>141</td>\n",
              "    </tr>\n",
              "  </tbody>\n",
              "</table>\n",
              "</div>"
            ],
            "text/plain": [
              "     id  ... availability_365\n",
              "0  2015  ...              141\n",
              "\n",
              "[1 rows x 16 columns]"
            ]
          },
          "metadata": {
            "tags": []
          },
          "execution_count": 7
        }
      ]
    },
    {
      "cell_type": "code",
      "metadata": {
        "trusted": true,
        "id": "I2KOt3sI2-uJ",
        "colab_type": "code",
        "colab": {
          "base_uri": "https://localhost:8080/",
          "height": 80
        },
        "outputId": "5ad22c96-317f-4944-b341-831fd29b7370"
      },
      "source": [
        "#get significant features for according to me from this dataset and show 3 example\n",
        "important_features = [\"room_type\",\"number_of_reviews\",\"calculated_host_listings_count\",\"availability_365\",\"longitude\",\"latitude\",\"price\"]\n",
        "dataset = dataset[important_features]\n",
        "dataset.head(1)"
      ],
      "execution_count": 8,
      "outputs": [
        {
          "output_type": "execute_result",
          "data": {
            "text/html": [
              "<div>\n",
              "<style scoped>\n",
              "    .dataframe tbody tr th:only-of-type {\n",
              "        vertical-align: middle;\n",
              "    }\n",
              "\n",
              "    .dataframe tbody tr th {\n",
              "        vertical-align: top;\n",
              "    }\n",
              "\n",
              "    .dataframe thead th {\n",
              "        text-align: right;\n",
              "    }\n",
              "</style>\n",
              "<table border=\"1\" class=\"dataframe\">\n",
              "  <thead>\n",
              "    <tr style=\"text-align: right;\">\n",
              "      <th></th>\n",
              "      <th>room_type</th>\n",
              "      <th>number_of_reviews</th>\n",
              "      <th>calculated_host_listings_count</th>\n",
              "      <th>availability_365</th>\n",
              "      <th>longitude</th>\n",
              "      <th>latitude</th>\n",
              "      <th>price</th>\n",
              "    </tr>\n",
              "  </thead>\n",
              "  <tbody>\n",
              "    <tr>\n",
              "      <th>0</th>\n",
              "      <td>Entire home/apt</td>\n",
              "      <td>118</td>\n",
              "      <td>4</td>\n",
              "      <td>141</td>\n",
              "      <td>13.402557</td>\n",
              "      <td>52.534537</td>\n",
              "      <td>60</td>\n",
              "    </tr>\n",
              "  </tbody>\n",
              "</table>\n",
              "</div>"
            ],
            "text/plain": [
              "         room_type  number_of_reviews  ...   latitude  price\n",
              "0  Entire home/apt                118  ...  52.534537     60\n",
              "\n",
              "[1 rows x 7 columns]"
            ]
          },
          "metadata": {
            "tags": []
          },
          "execution_count": 8
        }
      ]
    },
    {
      "cell_type": "code",
      "metadata": {
        "trusted": true,
        "id": "defz1KAg2-uS",
        "colab_type": "code",
        "colab": {
          "base_uri": "https://localhost:8080/",
          "height": 221
        },
        "outputId": "867ce281-513c-4f7e-f685-88364c233090"
      },
      "source": [
        "dataset.info()"
      ],
      "execution_count": 9,
      "outputs": [
        {
          "output_type": "stream",
          "text": [
            "<class 'pandas.core.frame.DataFrame'>\n",
            "RangeIndex: 22552 entries, 0 to 22551\n",
            "Data columns (total 7 columns):\n",
            "room_type                         22552 non-null object\n",
            "number_of_reviews                 22552 non-null int64\n",
            "calculated_host_listings_count    22552 non-null int64\n",
            "availability_365                  22552 non-null int64\n",
            "longitude                         22552 non-null float64\n",
            "latitude                          22552 non-null float64\n",
            "price                             22552 non-null int64\n",
            "dtypes: float64(2), int64(4), object(1)\n",
            "memory usage: 1.2+ MB\n"
          ],
          "name": "stdout"
        }
      ]
    },
    {
      "cell_type": "markdown",
      "metadata": {
        "id": "kkhFJYwz2-uW",
        "colab_type": "text"
      },
      "source": [
        "There is no null data in listining.csv. It is good news for us :)"
      ]
    },
    {
      "cell_type": "code",
      "metadata": {
        "trusted": true,
        "id": "BPs3IfxT2-uY",
        "colab_type": "code",
        "colab": {
          "base_uri": "https://localhost:8080/",
          "height": 231
        },
        "outputId": "ee98f0c0-cbad-4be7-bf88-8d54074b92df"
      },
      "source": [
        "dataset2.head(1)"
      ],
      "execution_count": 10,
      "outputs": [
        {
          "output_type": "execute_result",
          "data": {
            "text/html": [
              "<div>\n",
              "<style scoped>\n",
              "    .dataframe tbody tr th:only-of-type {\n",
              "        vertical-align: middle;\n",
              "    }\n",
              "\n",
              "    .dataframe tbody tr th {\n",
              "        vertical-align: top;\n",
              "    }\n",
              "\n",
              "    .dataframe thead th {\n",
              "        text-align: right;\n",
              "    }\n",
              "</style>\n",
              "<table border=\"1\" class=\"dataframe\">\n",
              "  <thead>\n",
              "    <tr style=\"text-align: right;\">\n",
              "      <th></th>\n",
              "      <th>id</th>\n",
              "      <th>listing_url</th>\n",
              "      <th>scrape_id</th>\n",
              "      <th>last_scraped</th>\n",
              "      <th>name</th>\n",
              "      <th>summary</th>\n",
              "      <th>space</th>\n",
              "      <th>description</th>\n",
              "      <th>experiences_offered</th>\n",
              "      <th>neighborhood_overview</th>\n",
              "      <th>notes</th>\n",
              "      <th>transit</th>\n",
              "      <th>access</th>\n",
              "      <th>interaction</th>\n",
              "      <th>house_rules</th>\n",
              "      <th>thumbnail_url</th>\n",
              "      <th>medium_url</th>\n",
              "      <th>picture_url</th>\n",
              "      <th>xl_picture_url</th>\n",
              "      <th>host_id</th>\n",
              "      <th>host_url</th>\n",
              "      <th>host_name</th>\n",
              "      <th>host_since</th>\n",
              "      <th>host_location</th>\n",
              "      <th>host_about</th>\n",
              "      <th>host_response_time</th>\n",
              "      <th>host_response_rate</th>\n",
              "      <th>host_acceptance_rate</th>\n",
              "      <th>host_is_superhost</th>\n",
              "      <th>host_thumbnail_url</th>\n",
              "      <th>host_picture_url</th>\n",
              "      <th>host_neighbourhood</th>\n",
              "      <th>host_listings_count</th>\n",
              "      <th>host_total_listings_count</th>\n",
              "      <th>host_verifications</th>\n",
              "      <th>host_has_profile_pic</th>\n",
              "      <th>host_identity_verified</th>\n",
              "      <th>street</th>\n",
              "      <th>neighbourhood</th>\n",
              "      <th>neighbourhood_cleansed</th>\n",
              "      <th>...</th>\n",
              "      <th>beds</th>\n",
              "      <th>bed_type</th>\n",
              "      <th>amenities</th>\n",
              "      <th>square_feet</th>\n",
              "      <th>price</th>\n",
              "      <th>weekly_price</th>\n",
              "      <th>monthly_price</th>\n",
              "      <th>security_deposit</th>\n",
              "      <th>cleaning_fee</th>\n",
              "      <th>guests_included</th>\n",
              "      <th>extra_people</th>\n",
              "      <th>minimum_nights</th>\n",
              "      <th>maximum_nights</th>\n",
              "      <th>calendar_updated</th>\n",
              "      <th>has_availability</th>\n",
              "      <th>availability_30</th>\n",
              "      <th>availability_60</th>\n",
              "      <th>availability_90</th>\n",
              "      <th>availability_365</th>\n",
              "      <th>calendar_last_scraped</th>\n",
              "      <th>number_of_reviews</th>\n",
              "      <th>first_review</th>\n",
              "      <th>last_review</th>\n",
              "      <th>review_scores_rating</th>\n",
              "      <th>review_scores_accuracy</th>\n",
              "      <th>review_scores_cleanliness</th>\n",
              "      <th>review_scores_checkin</th>\n",
              "      <th>review_scores_communication</th>\n",
              "      <th>review_scores_location</th>\n",
              "      <th>review_scores_value</th>\n",
              "      <th>requires_license</th>\n",
              "      <th>license</th>\n",
              "      <th>jurisdiction_names</th>\n",
              "      <th>instant_bookable</th>\n",
              "      <th>is_business_travel_ready</th>\n",
              "      <th>cancellation_policy</th>\n",
              "      <th>require_guest_profile_picture</th>\n",
              "      <th>require_guest_phone_verification</th>\n",
              "      <th>calculated_host_listings_count</th>\n",
              "      <th>reviews_per_month</th>\n",
              "    </tr>\n",
              "  </thead>\n",
              "  <tbody>\n",
              "    <tr>\n",
              "      <th>0</th>\n",
              "      <td>2015</td>\n",
              "      <td>https://www.airbnb.com/rooms/2015</td>\n",
              "      <td>20181107122246</td>\n",
              "      <td>2018-11-07</td>\n",
              "      <td>Berlin-Mitte Value! Quiet courtyard/very central</td>\n",
              "      <td>Great location!  30 of 75 sq meters. This wood...</td>\n",
              "      <td>A+++ location! This „Einliegerwohnung“ is an e...</td>\n",
              "      <td>Great location!  30 of 75 sq meters. This wood...</td>\n",
              "      <td>none</td>\n",
              "      <td>It is located in the former East Berlin area o...</td>\n",
              "      <td>This is my home, not a hotel. I rent out occas...</td>\n",
              "      <td>Close to U-Bahn U8 and U2 (metro), Trams M12, ...</td>\n",
              "      <td>Simple kitchen/cooking, refrigerator, microwav...</td>\n",
              "      <td>Always available</td>\n",
              "      <td>No parties No events No pets No smoking, not e...</td>\n",
              "      <td>NaN</td>\n",
              "      <td>NaN</td>\n",
              "      <td>https://a0.muscache.com/im/pictures/260fd609-7...</td>\n",
              "      <td>NaN</td>\n",
              "      <td>2217</td>\n",
              "      <td>https://www.airbnb.com/users/show/2217</td>\n",
              "      <td>Ian</td>\n",
              "      <td>2008-08-18</td>\n",
              "      <td>Key Biscayne, Florida, United States</td>\n",
              "      <td>Believe in sharing economy.</td>\n",
              "      <td>within an hour</td>\n",
              "      <td>96%</td>\n",
              "      <td>NaN</td>\n",
              "      <td>t</td>\n",
              "      <td>https://a0.muscache.com/im/pictures/21428a22-4...</td>\n",
              "      <td>https://a0.muscache.com/im/pictures/21428a22-4...</td>\n",
              "      <td>Mitte</td>\n",
              "      <td>4.0</td>\n",
              "      <td>4.0</td>\n",
              "      <td>['email', 'phone', 'reviews', 'jumio', 'offlin...</td>\n",
              "      <td>t</td>\n",
              "      <td>t</td>\n",
              "      <td>Berlin, Berlin, Germany</td>\n",
              "      <td>Mitte</td>\n",
              "      <td>Brunnenstr. Süd</td>\n",
              "      <td>...</td>\n",
              "      <td>2.0</td>\n",
              "      <td>Real Bed</td>\n",
              "      <td>{TV,\"Cable TV\",Wifi,Kitchen,Gym,Heating,\"Famil...</td>\n",
              "      <td>NaN</td>\n",
              "      <td>$60.00</td>\n",
              "      <td>NaN</td>\n",
              "      <td>NaN</td>\n",
              "      <td>$200.00</td>\n",
              "      <td>$30.00</td>\n",
              "      <td>1</td>\n",
              "      <td>$28.00</td>\n",
              "      <td>4</td>\n",
              "      <td>1125</td>\n",
              "      <td>3 months ago</td>\n",
              "      <td>t</td>\n",
              "      <td>0</td>\n",
              "      <td>21</td>\n",
              "      <td>51</td>\n",
              "      <td>141</td>\n",
              "      <td>2018-11-07</td>\n",
              "      <td>118</td>\n",
              "      <td>2016-04-11</td>\n",
              "      <td>2018-10-28</td>\n",
              "      <td>93.0</td>\n",
              "      <td>10.0</td>\n",
              "      <td>9.0</td>\n",
              "      <td>10.0</td>\n",
              "      <td>10.0</td>\n",
              "      <td>10.0</td>\n",
              "      <td>9.0</td>\n",
              "      <td>t</td>\n",
              "      <td>NaN</td>\n",
              "      <td>NaN</td>\n",
              "      <td>f</td>\n",
              "      <td>f</td>\n",
              "      <td>strict_14_with_grace_period</td>\n",
              "      <td>f</td>\n",
              "      <td>f</td>\n",
              "      <td>4</td>\n",
              "      <td>3.76</td>\n",
              "    </tr>\n",
              "  </tbody>\n",
              "</table>\n",
              "<p>1 rows × 96 columns</p>\n",
              "</div>"
            ],
            "text/plain": [
              "     id  ... reviews_per_month\n",
              "0  2015  ...              3.76\n",
              "\n",
              "[1 rows x 96 columns]"
            ]
          },
          "metadata": {
            "tags": []
          },
          "execution_count": 10
        }
      ]
    },
    {
      "cell_type": "code",
      "metadata": {
        "trusted": true,
        "id": "JTeWu_t82-ud",
        "colab_type": "code",
        "colab": {
          "base_uri": "https://localhost:8080/",
          "height": 258
        },
        "outputId": "bd6dd434-fe45-439b-86b1-9b89a0b1fe2b"
      },
      "source": [
        "#get significant features for according to me from this dataset and show 3 example\n",
        "get_features = [\"cancellation_policy\",\"host_identity_verified\",\"amenities\",\"security_deposit\",\n",
        "                \"cleaning_fee\",\"guests_included\",\"extra_people\",\"review_scores_rating\",\n",
        "               \"bathrooms\",\"bedrooms\",\"beds\",\"bed_type\",\"accommodates\"]\n",
        "dataset2 = dataset2[get_features]\n",
        "dataset2.head()"
      ],
      "execution_count": 11,
      "outputs": [
        {
          "output_type": "execute_result",
          "data": {
            "text/html": [
              "<div>\n",
              "<style scoped>\n",
              "    .dataframe tbody tr th:only-of-type {\n",
              "        vertical-align: middle;\n",
              "    }\n",
              "\n",
              "    .dataframe tbody tr th {\n",
              "        vertical-align: top;\n",
              "    }\n",
              "\n",
              "    .dataframe thead th {\n",
              "        text-align: right;\n",
              "    }\n",
              "</style>\n",
              "<table border=\"1\" class=\"dataframe\">\n",
              "  <thead>\n",
              "    <tr style=\"text-align: right;\">\n",
              "      <th></th>\n",
              "      <th>cancellation_policy</th>\n",
              "      <th>host_identity_verified</th>\n",
              "      <th>amenities</th>\n",
              "      <th>security_deposit</th>\n",
              "      <th>cleaning_fee</th>\n",
              "      <th>guests_included</th>\n",
              "      <th>extra_people</th>\n",
              "      <th>review_scores_rating</th>\n",
              "      <th>bathrooms</th>\n",
              "      <th>bedrooms</th>\n",
              "      <th>beds</th>\n",
              "      <th>bed_type</th>\n",
              "      <th>accommodates</th>\n",
              "    </tr>\n",
              "  </thead>\n",
              "  <tbody>\n",
              "    <tr>\n",
              "      <th>0</th>\n",
              "      <td>strict_14_with_grace_period</td>\n",
              "      <td>t</td>\n",
              "      <td>{TV,\"Cable TV\",Wifi,Kitchen,Gym,Heating,\"Famil...</td>\n",
              "      <td>$200.00</td>\n",
              "      <td>$30.00</td>\n",
              "      <td>1</td>\n",
              "      <td>$28.00</td>\n",
              "      <td>93.0</td>\n",
              "      <td>1.0</td>\n",
              "      <td>1.0</td>\n",
              "      <td>2.0</td>\n",
              "      <td>Real Bed</td>\n",
              "      <td>3</td>\n",
              "    </tr>\n",
              "    <tr>\n",
              "      <th>1</th>\n",
              "      <td>flexible</td>\n",
              "      <td>t</td>\n",
              "      <td>{Wifi,Kitchen,Elevator,Heating,Washer,Essentia...</td>\n",
              "      <td>$0.00</td>\n",
              "      <td>$0.00</td>\n",
              "      <td>1</td>\n",
              "      <td>$0.00</td>\n",
              "      <td>100.0</td>\n",
              "      <td>1.0</td>\n",
              "      <td>1.0</td>\n",
              "      <td>1.0</td>\n",
              "      <td>Real Bed</td>\n",
              "      <td>2</td>\n",
              "    </tr>\n",
              "    <tr>\n",
              "      <th>2</th>\n",
              "      <td>strict_14_with_grace_period</td>\n",
              "      <td>t</td>\n",
              "      <td>{Internet,Wifi,Kitchen,\"Buzzer/wireless interc...</td>\n",
              "      <td>$200.00</td>\n",
              "      <td>$50.00</td>\n",
              "      <td>2</td>\n",
              "      <td>$20.00</td>\n",
              "      <td>92.0</td>\n",
              "      <td>1.0</td>\n",
              "      <td>1.0</td>\n",
              "      <td>2.0</td>\n",
              "      <td>Real Bed</td>\n",
              "      <td>4</td>\n",
              "    </tr>\n",
              "    <tr>\n",
              "      <th>3</th>\n",
              "      <td>strict_14_with_grace_period</td>\n",
              "      <td>t</td>\n",
              "      <td>{Internet,Wifi,\"Pets allowed\",\"Pets live on th...</td>\n",
              "      <td>$250.00</td>\n",
              "      <td>$30.00</td>\n",
              "      <td>1</td>\n",
              "      <td>$18.00</td>\n",
              "      <td>88.0</td>\n",
              "      <td>1.0</td>\n",
              "      <td>1.0</td>\n",
              "      <td>1.0</td>\n",
              "      <td>Pull-out Sofa</td>\n",
              "      <td>2</td>\n",
              "    </tr>\n",
              "    <tr>\n",
              "      <th>4</th>\n",
              "      <td>moderate</td>\n",
              "      <td>t</td>\n",
              "      <td>{Wifi,Heating,\"Family/kid friendly\",Essentials...</td>\n",
              "      <td>$0.00</td>\n",
              "      <td>$0.00</td>\n",
              "      <td>1</td>\n",
              "      <td>$24.00</td>\n",
              "      <td>96.0</td>\n",
              "      <td>1.0</td>\n",
              "      <td>1.0</td>\n",
              "      <td>2.0</td>\n",
              "      <td>Real Bed</td>\n",
              "      <td>2</td>\n",
              "    </tr>\n",
              "  </tbody>\n",
              "</table>\n",
              "</div>"
            ],
            "text/plain": [
              "           cancellation_policy  ... accommodates\n",
              "0  strict_14_with_grace_period  ...            3\n",
              "1                     flexible  ...            2\n",
              "2  strict_14_with_grace_period  ...            4\n",
              "3  strict_14_with_grace_period  ...            2\n",
              "4                     moderate  ...            2\n",
              "\n",
              "[5 rows x 13 columns]"
            ]
          },
          "metadata": {
            "tags": []
          },
          "execution_count": 11
        }
      ]
    },
    {
      "cell_type": "code",
      "metadata": {
        "trusted": true,
        "id": "Agqw_2Rr2-ui",
        "colab_type": "code",
        "colab": {
          "base_uri": "https://localhost:8080/",
          "height": 323
        },
        "outputId": "0b4a5812-4c92-48bf-dbac-7271158378b9"
      },
      "source": [
        "dataset2.info()"
      ],
      "execution_count": 12,
      "outputs": [
        {
          "output_type": "stream",
          "text": [
            "<class 'pandas.core.frame.DataFrame'>\n",
            "RangeIndex: 22552 entries, 0 to 22551\n",
            "Data columns (total 13 columns):\n",
            "cancellation_policy       22552 non-null object\n",
            "host_identity_verified    22526 non-null object\n",
            "amenities                 22552 non-null object\n",
            "security_deposit          13191 non-null object\n",
            "cleaning_fee              15406 non-null object\n",
            "guests_included           22552 non-null int64\n",
            "extra_people              22552 non-null object\n",
            "review_scores_rating      18163 non-null float64\n",
            "bathrooms                 22520 non-null float64\n",
            "bedrooms                  22534 non-null float64\n",
            "beds                      22512 non-null float64\n",
            "bed_type                  22552 non-null object\n",
            "accommodates              22552 non-null int64\n",
            "dtypes: float64(4), int64(2), object(7)\n",
            "memory usage: 2.2+ MB\n"
          ],
          "name": "stdout"
        }
      ]
    },
    {
      "cell_type": "markdown",
      "metadata": {
        "id": "QjxbGVm-2-uq",
        "colab_type": "text"
      },
      "source": [
        "<h4>What We learn ?</h4>\n",
        "\n",
        "* We have 22552 sample. \n",
        "\n",
        "Feature contains null;\n",
        "* host_identity_verified\n",
        "* security_deposit\n",
        "* cleaning_fee\n",
        "* review_scores_rating\n",
        "* bathrooms\n",
        "* bedrooms\n",
        "* beds\n",
        "\n",
        "\n",
        "We need handle this feature. Also We can create new features from exist features. Example; We can create distance from latitude and longtitude. This feature response this question. \"How far is Home/Flat to Berlin ?\" \n",
        "\n",
        "Let's Start!!"
      ]
    },
    {
      "cell_type": "markdown",
      "metadata": {
        "id": "Hrhwak6X2-ur",
        "colab_type": "text"
      },
      "source": [
        "<h3>Working on listings.csv dataset</h3>"
      ]
    },
    {
      "cell_type": "code",
      "metadata": {
        "trusted": true,
        "id": "M_fWguLg2-uv",
        "colab_type": "code",
        "colab": {}
      },
      "source": [
        "#create distance feature from latitude and longtitude \n",
        "from geopy.distance import great_circle\n",
        "def distance_from_berlin(lat, lon):\n",
        "    berlin_centre = (52.5027778, 13.404166666666667)\n",
        "    record = (lat, lon)\n",
        "    return great_circle(berlin_centre, record).km\n",
        "\n",
        "#add distanse dataset\n",
        "dataset['distance'] = dataset.apply(lambda x: distance_from_berlin(x.latitude, x.longitude), axis=1)\n",
        "\n",
        "del dataset['latitude']\n",
        "del dataset['longitude']"
      ],
      "execution_count": 0,
      "outputs": []
    },
    {
      "cell_type": "code",
      "metadata": {
        "trusted": true,
        "id": "1ndrc4ag2-u4",
        "colab_type": "code",
        "colab": {}
      },
      "source": [
        "#convert room_type string to category\n",
        "def set_room_type(x):\n",
        "    if x==\"Private room\":\n",
        "        return 1\n",
        "    else:\n",
        "        return 0\n",
        "    \n",
        "dataset[\"room_type\"] = list(map(set_room_type,dataset[\"room_type\"]))\n",
        "dataset[\"room_type\"] = dataset[\"room_type\"].astype(\"category\")\n"
      ],
      "execution_count": 0,
      "outputs": []
    },
    {
      "cell_type": "code",
      "metadata": {
        "trusted": true,
        "id": "gowN_dpv2-vA",
        "colab_type": "code",
        "colab": {
          "base_uri": "https://localhost:8080/",
          "height": 142
        },
        "outputId": "0bc02433-3fcf-4359-8492-388025537b1e"
      },
      "source": [
        "dataset.head(3)"
      ],
      "execution_count": 15,
      "outputs": [
        {
          "output_type": "execute_result",
          "data": {
            "text/html": [
              "<div>\n",
              "<style scoped>\n",
              "    .dataframe tbody tr th:only-of-type {\n",
              "        vertical-align: middle;\n",
              "    }\n",
              "\n",
              "    .dataframe tbody tr th {\n",
              "        vertical-align: top;\n",
              "    }\n",
              "\n",
              "    .dataframe thead th {\n",
              "        text-align: right;\n",
              "    }\n",
              "</style>\n",
              "<table border=\"1\" class=\"dataframe\">\n",
              "  <thead>\n",
              "    <tr style=\"text-align: right;\">\n",
              "      <th></th>\n",
              "      <th>room_type</th>\n",
              "      <th>number_of_reviews</th>\n",
              "      <th>calculated_host_listings_count</th>\n",
              "      <th>availability_365</th>\n",
              "      <th>price</th>\n",
              "      <th>distance</th>\n",
              "    </tr>\n",
              "  </thead>\n",
              "  <tbody>\n",
              "    <tr>\n",
              "      <th>0</th>\n",
              "      <td>0</td>\n",
              "      <td>118</td>\n",
              "      <td>4</td>\n",
              "      <td>141</td>\n",
              "      <td>60</td>\n",
              "      <td>3.533182</td>\n",
              "    </tr>\n",
              "    <tr>\n",
              "      <th>1</th>\n",
              "      <td>1</td>\n",
              "      <td>6</td>\n",
              "      <td>1</td>\n",
              "      <td>0</td>\n",
              "      <td>17</td>\n",
              "      <td>5.085573</td>\n",
              "    </tr>\n",
              "    <tr>\n",
              "      <th>2</th>\n",
              "      <td>0</td>\n",
              "      <td>143</td>\n",
              "      <td>1</td>\n",
              "      <td>220</td>\n",
              "      <td>90</td>\n",
              "      <td>3.695677</td>\n",
              "    </tr>\n",
              "  </tbody>\n",
              "</table>\n",
              "</div>"
            ],
            "text/plain": [
              "  room_type  number_of_reviews  ...  price  distance\n",
              "0         0                118  ...     60  3.533182\n",
              "1         1                  6  ...     17  5.085573\n",
              "2         0                143  ...     90  3.695677\n",
              "\n",
              "[3 rows x 6 columns]"
            ]
          },
          "metadata": {
            "tags": []
          },
          "execution_count": 15
        }
      ]
    },
    {
      "cell_type": "markdown",
      "metadata": {
        "id": "Nl7NSiTZ2-vF",
        "colab_type": "text"
      },
      "source": [
        "<h3>Working on listings_summary.csv dataset</h3>"
      ]
    },
    {
      "cell_type": "markdown",
      "metadata": {
        "id": "C74fD4zG2-vH",
        "colab_type": "text"
      },
      "source": [
        "We need fill and transforming features. \n",
        "\n",
        "My strategy is;\n",
        "\n",
        "Some values are too much in the dataset. That's why I filled the minority nan values with it.\n",
        "You can determine your own strategy."
      ]
    },
    {
      "cell_type": "code",
      "metadata": {
        "trusted": true,
        "id": "vxaNGYnE2-vI",
        "colab_type": "code",
        "colab": {
          "base_uri": "https://localhost:8080/",
          "height": 34
        },
        "outputId": "5c7b561a-208f-4567-f35c-26f76e7ed6fa"
      },
      "source": [
        "percent = dataset2.bathrooms.value_counts(dropna=False)[1.0]/sum(dataset2.bathrooms.value_counts(dropna=False))\n",
        "print(\"1.0 in percentage of bathrooms data :\",percent)"
      ],
      "execution_count": 16,
      "outputs": [
        {
          "output_type": "stream",
          "text": [
            "1.0 in percentage of bathrooms data : 0.8782813054274565\n"
          ],
          "name": "stdout"
        }
      ]
    },
    {
      "cell_type": "markdown",
      "metadata": {
        "id": "JL9tjl3s2-vO",
        "colab_type": "text"
      },
      "source": [
        "1.0 is %87 so I will fill nan values with 1.0"
      ]
    },
    {
      "cell_type": "code",
      "metadata": {
        "trusted": true,
        "id": "vC9pk0aR2-vQ",
        "colab_type": "code",
        "colab": {}
      },
      "source": [
        "#fill na in bathroom\n",
        "dataset2.bathrooms = dataset2.bathrooms.fillna(1.0)"
      ],
      "execution_count": 0,
      "outputs": []
    },
    {
      "cell_type": "code",
      "metadata": {
        "trusted": true,
        "id": "jauiyM_b2-vU",
        "colab_type": "code",
        "colab": {
          "base_uri": "https://localhost:8080/",
          "height": 34
        },
        "outputId": "7f0372af-f927-4312-b3b3-e889bd609eb1"
      },
      "source": [
        "percent = dataset2.bedrooms.value_counts(dropna=False)[1.0]/sum(dataset2.bedrooms.value_counts(dropna=False))\n",
        "print(\"1.0 in percentage of bedrooms data :\",percent)"
      ],
      "execution_count": 18,
      "outputs": [
        {
          "output_type": "stream",
          "text": [
            "1.0 in percentage of bedrooms data : 0.7610854913089748\n"
          ],
          "name": "stdout"
        }
      ]
    },
    {
      "cell_type": "code",
      "metadata": {
        "trusted": true,
        "id": "QNulP-OO2-vY",
        "colab_type": "code",
        "colab": {}
      },
      "source": [
        "#fill na in bedrooms\n",
        "dataset2.bedrooms = dataset2.bedrooms.fillna(1.0)"
      ],
      "execution_count": 0,
      "outputs": []
    },
    {
      "cell_type": "code",
      "metadata": {
        "trusted": true,
        "id": "MWRHiPza2-ve",
        "colab_type": "code",
        "colab": {
          "base_uri": "https://localhost:8080/",
          "height": 34
        },
        "outputId": "1bb1b69d-2844-48fd-e78d-459e1e0ac7a2"
      },
      "source": [
        "percent = dataset2.beds.value_counts(dropna=False)[1.0]/sum(dataset2.beds.value_counts(dropna=False))\n",
        "print(\"1.0 in percentage of beds data :\",percent)"
      ],
      "execution_count": 20,
      "outputs": [
        {
          "output_type": "stream",
          "text": [
            "1.0 in percentage of beds data : 0.6354203618304364\n"
          ],
          "name": "stdout"
        }
      ]
    },
    {
      "cell_type": "code",
      "metadata": {
        "trusted": true,
        "id": "P-g1-JbA2-vj",
        "colab_type": "code",
        "colab": {}
      },
      "source": [
        "#fill na in bedrooms\n",
        "dataset2.beds = dataset2.beds.fillna(1.0)"
      ],
      "execution_count": 0,
      "outputs": []
    },
    {
      "cell_type": "markdown",
      "metadata": {
        "id": "8ezDqg-t2-vq",
        "colab_type": "text"
      },
      "source": [
        "We need transform some feature for machine learning models."
      ]
    },
    {
      "cell_type": "code",
      "metadata": {
        "trusted": true,
        "id": "mNGTRRVs2-vu",
        "colab_type": "code",
        "colab": {
          "base_uri": "https://localhost:8080/",
          "height": 119
        },
        "outputId": "db037c45-7388-448e-87a7-394b3d084487"
      },
      "source": [
        "dataset2.bed_type.value_counts(dropna=False)"
      ],
      "execution_count": 22,
      "outputs": [
        {
          "output_type": "execute_result",
          "data": {
            "text/plain": [
              "Real Bed         21766\n",
              "Pull-out Sofa      451\n",
              "Futon              240\n",
              "Couch               72\n",
              "Airbed              23\n",
              "Name: bed_type, dtype: int64"
            ]
          },
          "metadata": {
            "tags": []
          },
          "execution_count": 22
        }
      ]
    },
    {
      "cell_type": "code",
      "metadata": {
        "trusted": true,
        "id": "WfUNkYh92-v2",
        "colab_type": "code",
        "colab": {}
      },
      "source": [
        "d = {\"Real Bed\":0,\n",
        "     \"Pull-out Sofa\":1,\n",
        "     \"Futon\":2,\n",
        "     \"Couch\":3,\n",
        "     \"Airbed\":4}\n",
        "\n",
        "def fill_beds(n):\n",
        "    return d[n]\n",
        "\n",
        "dataset2.bed_type = list(map(fill_beds,dataset2.bed_type))\n",
        "dataset2.bed_type = dataset2.bed_type.astype(\"category\")\n",
        "    "
      ],
      "execution_count": 0,
      "outputs": []
    },
    {
      "cell_type": "code",
      "metadata": {
        "trusted": true,
        "id": "TxznOc_Y2-wA",
        "colab_type": "code",
        "colab": {
          "base_uri": "https://localhost:8080/",
          "height": 119
        },
        "outputId": "15837935-8b6d-4dc7-faa1-e14bae1442fd"
      },
      "source": [
        "dataset2.cancellation_policy.value_counts(dropna=False)"
      ],
      "execution_count": 24,
      "outputs": [
        {
          "output_type": "execute_result",
          "data": {
            "text/plain": [
              "flexible                       9102\n",
              "moderate                       7096\n",
              "strict_14_with_grace_period    6287\n",
              "super_strict_30                  53\n",
              "super_strict_60                  14\n",
              "Name: cancellation_policy, dtype: int64"
            ]
          },
          "metadata": {
            "tags": []
          },
          "execution_count": 24
        }
      ]
    },
    {
      "cell_type": "code",
      "metadata": {
        "trusted": true,
        "id": "ODS_CuhT2-wF",
        "colab_type": "code",
        "colab": {}
      },
      "source": [
        "\n",
        "d = {\"flexible\":0,\n",
        "     \"moderate\":1,\n",
        "     \"strict_14_with_grace_period\":2,\n",
        "     \"super_strict_30\":3,\n",
        "     \"super_strict_60\":4}\n",
        "\n",
        "def fill_policy(n):\n",
        "    return d[n]\n",
        "\n",
        "dataset2.cancellation_policy = list(map(fill_policy,dataset2.cancellation_policy))\n",
        "dataset2.cancellation_policy = dataset2.cancellation_policy.astype(\"category\")"
      ],
      "execution_count": 0,
      "outputs": []
    },
    {
      "cell_type": "code",
      "metadata": {
        "trusted": true,
        "id": "2ynD1xUf2-wK",
        "colab_type": "code",
        "colab": {
          "base_uri": "https://localhost:8080/",
          "height": 102
        },
        "outputId": "4e3e2760-dd9d-4302-a33e-22a3f78baa62"
      },
      "source": [
        "print(dataset2.host_identity_verified.value_counts(dropna=False))\n",
        "dataset2.host_identity_verified.fillna(\"f\", inplace=True)\n",
        "print(\"Nan filled with f\")"
      ],
      "execution_count": 26,
      "outputs": [
        {
          "output_type": "stream",
          "text": [
            "f      13824\n",
            "t       8702\n",
            "NaN       26\n",
            "Name: host_identity_verified, dtype: int64\n",
            "Nan filled with f\n"
          ],
          "name": "stdout"
        }
      ]
    },
    {
      "cell_type": "code",
      "metadata": {
        "trusted": true,
        "id": "NS8FmbCQ2-wb",
        "colab_type": "code",
        "colab": {}
      },
      "source": [
        "d = {\"f\":0,\n",
        "     \"t\":1}\n",
        "\n",
        "def fill_identity(n):\n",
        "    return d[n]\n",
        "\n",
        "dataset2.host_identity_verified = list(map(fill_identity,dataset2.host_identity_verified))\n",
        "dataset2.host_identity_verified = dataset2.host_identity_verified.astype(\"category\")"
      ],
      "execution_count": 0,
      "outputs": []
    },
    {
      "cell_type": "code",
      "metadata": {
        "trusted": true,
        "id": "E3I61FKe2-wi",
        "colab_type": "code",
        "colab": {}
      },
      "source": [
        "#I think amenties count can be useful\n",
        "dataset2.amenities = [len(i) for i in dataset2.amenities]"
      ],
      "execution_count": 0,
      "outputs": []
    },
    {
      "cell_type": "code",
      "metadata": {
        "trusted": true,
        "id": "axsTeY7O2-wn",
        "colab_type": "code",
        "colab": {
          "base_uri": "https://localhost:8080/",
          "height": 224
        },
        "outputId": "b16fc508-4797-4842-8357-4a84ffb8b102"
      },
      "source": [
        "dataset2.head()"
      ],
      "execution_count": 29,
      "outputs": [
        {
          "output_type": "execute_result",
          "data": {
            "text/html": [
              "<div>\n",
              "<style scoped>\n",
              "    .dataframe tbody tr th:only-of-type {\n",
              "        vertical-align: middle;\n",
              "    }\n",
              "\n",
              "    .dataframe tbody tr th {\n",
              "        vertical-align: top;\n",
              "    }\n",
              "\n",
              "    .dataframe thead th {\n",
              "        text-align: right;\n",
              "    }\n",
              "</style>\n",
              "<table border=\"1\" class=\"dataframe\">\n",
              "  <thead>\n",
              "    <tr style=\"text-align: right;\">\n",
              "      <th></th>\n",
              "      <th>cancellation_policy</th>\n",
              "      <th>host_identity_verified</th>\n",
              "      <th>amenities</th>\n",
              "      <th>security_deposit</th>\n",
              "      <th>cleaning_fee</th>\n",
              "      <th>guests_included</th>\n",
              "      <th>extra_people</th>\n",
              "      <th>review_scores_rating</th>\n",
              "      <th>bathrooms</th>\n",
              "      <th>bedrooms</th>\n",
              "      <th>beds</th>\n",
              "      <th>bed_type</th>\n",
              "      <th>accommodates</th>\n",
              "    </tr>\n",
              "  </thead>\n",
              "  <tbody>\n",
              "    <tr>\n",
              "      <th>0</th>\n",
              "      <td>2</td>\n",
              "      <td>1</td>\n",
              "      <td>407</td>\n",
              "      <td>$200.00</td>\n",
              "      <td>$30.00</td>\n",
              "      <td>1</td>\n",
              "      <td>$28.00</td>\n",
              "      <td>93.0</td>\n",
              "      <td>1.0</td>\n",
              "      <td>1.0</td>\n",
              "      <td>2.0</td>\n",
              "      <td>0</td>\n",
              "      <td>3</td>\n",
              "    </tr>\n",
              "    <tr>\n",
              "      <th>1</th>\n",
              "      <td>0</td>\n",
              "      <td>1</td>\n",
              "      <td>120</td>\n",
              "      <td>$0.00</td>\n",
              "      <td>$0.00</td>\n",
              "      <td>1</td>\n",
              "      <td>$0.00</td>\n",
              "      <td>100.0</td>\n",
              "      <td>1.0</td>\n",
              "      <td>1.0</td>\n",
              "      <td>1.0</td>\n",
              "      <td>0</td>\n",
              "      <td>2</td>\n",
              "    </tr>\n",
              "    <tr>\n",
              "      <th>2</th>\n",
              "      <td>2</td>\n",
              "      <td>1</td>\n",
              "      <td>273</td>\n",
              "      <td>$200.00</td>\n",
              "      <td>$50.00</td>\n",
              "      <td>2</td>\n",
              "      <td>$20.00</td>\n",
              "      <td>92.0</td>\n",
              "      <td>1.0</td>\n",
              "      <td>1.0</td>\n",
              "      <td>2.0</td>\n",
              "      <td>0</td>\n",
              "      <td>4</td>\n",
              "    </tr>\n",
              "    <tr>\n",
              "      <th>3</th>\n",
              "      <td>2</td>\n",
              "      <td>1</td>\n",
              "      <td>521</td>\n",
              "      <td>$250.00</td>\n",
              "      <td>$30.00</td>\n",
              "      <td>1</td>\n",
              "      <td>$18.00</td>\n",
              "      <td>88.0</td>\n",
              "      <td>1.0</td>\n",
              "      <td>1.0</td>\n",
              "      <td>1.0</td>\n",
              "      <td>1</td>\n",
              "      <td>2</td>\n",
              "    </tr>\n",
              "    <tr>\n",
              "      <th>4</th>\n",
              "      <td>1</td>\n",
              "      <td>1</td>\n",
              "      <td>223</td>\n",
              "      <td>$0.00</td>\n",
              "      <td>$0.00</td>\n",
              "      <td>1</td>\n",
              "      <td>$24.00</td>\n",
              "      <td>96.0</td>\n",
              "      <td>1.0</td>\n",
              "      <td>1.0</td>\n",
              "      <td>2.0</td>\n",
              "      <td>0</td>\n",
              "      <td>2</td>\n",
              "    </tr>\n",
              "  </tbody>\n",
              "</table>\n",
              "</div>"
            ],
            "text/plain": [
              "  cancellation_policy host_identity_verified  ...  bed_type accommodates\n",
              "0                   2                      1  ...         0            3\n",
              "1                   0                      1  ...         0            2\n",
              "2                   2                      1  ...         0            4\n",
              "3                   2                      1  ...         1            2\n",
              "4                   1                      1  ...         0            2\n",
              "\n",
              "[5 rows x 13 columns]"
            ]
          },
          "metadata": {
            "tags": []
          },
          "execution_count": 29
        }
      ]
    },
    {
      "cell_type": "markdown",
      "metadata": {
        "id": "oQLAwM1f2-wu",
        "colab_type": "text"
      },
      "source": [
        "We must clean this varaible. Because machine learning models not understand '$', ',' ex.."
      ]
    },
    {
      "cell_type": "code",
      "metadata": {
        "trusted": true,
        "id": "uzuOkpPA2-wx",
        "colab_type": "code",
        "colab": {
          "base_uri": "https://localhost:8080/",
          "height": 51
        },
        "outputId": "37f8b238-7350-44e3-86ef-f5c6811b1eeb"
      },
      "source": [
        "print(\"old val: \", dataset2.security_deposit[0])\n",
        "#clean deposit\n",
        "dataset2.security_deposit = list(map(lambda x: float(str(x).replace(',','').replace('$','')),dataset2.security_deposit))\n",
        "print(\"cleaned val: \",dataset2.security_deposit[0])"
      ],
      "execution_count": 30,
      "outputs": [
        {
          "output_type": "stream",
          "text": [
            "old val:  $200.00\n",
            "cleaned val:  200.0\n"
          ],
          "name": "stdout"
        }
      ]
    },
    {
      "cell_type": "code",
      "metadata": {
        "trusted": true,
        "id": "tamYzc9L2-w3",
        "colab_type": "code",
        "colab": {
          "base_uri": "https://localhost:8080/",
          "height": 51
        },
        "outputId": "13b40e54-f09a-45d3-edb7-b350518d7032"
      },
      "source": [
        "print(\"old val: \",dataset2.cleaning_fee[0])\n",
        "dataset2.cleaning_fee = list(map(lambda x: float(str(x).replace(',','').replace('$','')),dataset2.cleaning_fee))\n",
        "print(\"cleaned val: \",dataset2.cleaning_fee[0])"
      ],
      "execution_count": 31,
      "outputs": [
        {
          "output_type": "stream",
          "text": [
            "old val:  $30.00\n",
            "cleaned val:  30.0\n"
          ],
          "name": "stdout"
        }
      ]
    },
    {
      "cell_type": "markdown",
      "metadata": {
        "id": "UPs8WZPj2-w8",
        "colab_type": "text"
      },
      "source": [
        "We may need to identify different filling strategies based on different data.\n",
        "\n",
        "According to the strategy I chose to apply now;\n",
        "\n",
        "For example, let the values ​​range from 0 to 1000;\n",
        "If 99% of the data consists of values ​​less than 50, nan values ​​are filled with the weighted average of values ​​less than 50."
      ]
    },
    {
      "cell_type": "code",
      "metadata": {
        "trusted": true,
        "id": "2PF4BxPf2-w-",
        "colab_type": "code",
        "colab": {
          "base_uri": "https://localhost:8080/",
          "height": 374
        },
        "outputId": "710b72ec-d01f-4ec4-ca34-bbbf1eb0c5b6"
      },
      "source": [
        "#security_deposit - cleaning_fee - review_scores_rating\n",
        "f,ax = plt.subplots(figsize=(15,5),nrows=1,ncols=3)\n",
        "dataset2.security_deposit.plot(kind=\"hist\",bins=100,cumulative=True,normed=True,ax=ax[0])\n",
        "dataset2.cleaning_fee.plot(kind=\"hist\",bins=100,cumulative=True,normed=True,ax=ax[1])\n",
        "dataset2.review_scores_rating.plot(kind=\"hist\",bins=100,cumulative=True,normed=True,ax=ax[2])\n",
        "plt.show()"
      ],
      "execution_count": 32,
      "outputs": [
        {
          "output_type": "stream",
          "text": [
            "/usr/local/lib/python3.6/dist-packages/matplotlib/axes/_axes.py:6521: MatplotlibDeprecationWarning: \n",
            "The 'normed' kwarg was deprecated in Matplotlib 2.1 and will be removed in 3.1. Use 'density' instead.\n",
            "  alternative=\"'density'\", removal=\"3.1\")\n"
          ],
          "name": "stderr"
        },
        {
          "output_type": "display_data",
          "data": {
            "image/png": "[encoded data removed]",
            "text/plain": [
              "<Figure size 1080x360 with 3 Axes>"
            ]
          },
          "metadata": {
            "tags": []
          }
        }
      ]
    },
    {
      "cell_type": "markdown",
      "metadata": {
        "id": "6DKexeAf2-xC",
        "colab_type": "text"
      },
      "source": [
        "For security_deposit, numbers less than 2000 represent the majority of data. According to my determined strategy, I will fill the nan values with the weighted average of less than 2000 values.\n",
        "\n",
        "For cleaning_fee, numbers less than 250 represent the majority of data. According to my determined strategy, I will fill the nan values with the weighted average of less than 250 values.\n",
        "\n",
        "For review_scores_rating, There is no anything values represent the majority of data. According to my determined strategy, I will fill the nan values with the general weighted average."
      ]
    },
    {
      "cell_type": "code",
      "metadata": {
        "trusted": true,
        "id": "tTuTXd4W2-xE",
        "colab_type": "code",
        "colab": {
          "base_uri": "https://localhost:8080/",
          "height": 34
        },
        "outputId": "88452921-5c3c-4f9d-dbcf-68789df70afe"
      },
      "source": [
        "val = dataset2.security_deposit.value_counts(dropna=True)[0:2000]\n",
        "indx = dataset2.security_deposit.value_counts(dropna=True)[0:2000].index\n",
        "weightd_avg = (sum(val*indx))/sum(dataset2.security_deposit.value_counts(dropna=True)[0:2000])\n",
        "weightd_avg = float(round(weightd_avg,2))\n",
        "print(\"Filled security_deposit Nan with :\",weightd_avg)\n",
        "\n",
        "#fillna\n",
        "dataset2.security_deposit = dataset2.security_deposit.fillna(weightd_avg)"
      ],
      "execution_count": 33,
      "outputs": [
        {
          "output_type": "stream",
          "text": [
            "Filled security_deposit Nan with : 171.54\n"
          ],
          "name": "stdout"
        }
      ]
    },
    {
      "cell_type": "code",
      "metadata": {
        "trusted": true,
        "id": "ooHkQucJ2-xI",
        "colab_type": "code",
        "colab": {
          "base_uri": "https://localhost:8080/",
          "height": 34
        },
        "outputId": "d8eaf095-0e6b-4e9b-a5ce-3b6c1274c401"
      },
      "source": [
        "val = dataset2.cleaning_fee.value_counts(dropna=True)[0:250]\n",
        "indx = dataset2.cleaning_fee.value_counts(dropna=True)[0:250].index\n",
        "weightd_avg = (sum(val*indx))/sum(dataset2.cleaning_fee.value_counts(dropna=True)[0:250])\n",
        "weightd_avg = float(round(weightd_avg,2))\n",
        "print(\"Filled cleaning_fee Nan with :\",weightd_avg)\n",
        "\n",
        "#fillna\n",
        "dataset2.cleaning_fee = dataset2.cleaning_fee.fillna(weightd_avg)"
      ],
      "execution_count": 34,
      "outputs": [
        {
          "output_type": "stream",
          "text": [
            "Filled cleaning_fee Nan with : 26.05\n"
          ],
          "name": "stdout"
        }
      ]
    },
    {
      "cell_type": "code",
      "metadata": {
        "trusted": true,
        "id": "XPIOSyYj2-xN",
        "colab_type": "code",
        "colab": {
          "base_uri": "https://localhost:8080/",
          "height": 34
        },
        "outputId": "d056298c-dd36-48eb-bdfe-f6fa836d117d"
      },
      "source": [
        "val = dataset2.review_scores_rating.value_counts(dropna=True)\n",
        "indx = dataset2.review_scores_rating.value_counts(dropna=True).index\n",
        "weightd_avg = (sum(val*indx))/sum(dataset2.review_scores_rating.value_counts(dropna=True))\n",
        "weightd_avg = float(round(weightd_avg,2))\n",
        "print(\"Filled review_scores_rating Nan with :\",weightd_avg)\n",
        "\n",
        "#fillna\n",
        "dataset2.review_scores_rating = dataset2.review_scores_rating.fillna(weightd_avg)"
      ],
      "execution_count": 35,
      "outputs": [
        {
          "output_type": "stream",
          "text": [
            "Filled review_scores_rating Nan with : 94.41\n"
          ],
          "name": "stdout"
        }
      ]
    },
    {
      "cell_type": "code",
      "metadata": {
        "trusted": true,
        "id": "0vRyQyGQ2-xS",
        "colab_type": "code",
        "colab": {
          "base_uri": "https://localhost:8080/",
          "height": 323
        },
        "outputId": "6572ebb0-ede4-4598-ef1a-d2a970592267"
      },
      "source": [
        "dataset2.info()"
      ],
      "execution_count": 36,
      "outputs": [
        {
          "output_type": "stream",
          "text": [
            "<class 'pandas.core.frame.DataFrame'>\n",
            "RangeIndex: 22552 entries, 0 to 22551\n",
            "Data columns (total 13 columns):\n",
            "cancellation_policy       22552 non-null category\n",
            "host_identity_verified    22552 non-null category\n",
            "amenities                 22552 non-null int64\n",
            "security_deposit          22552 non-null float64\n",
            "cleaning_fee              22552 non-null float64\n",
            "guests_included           22552 non-null int64\n",
            "extra_people              22552 non-null object\n",
            "review_scores_rating      22552 non-null float64\n",
            "bathrooms                 22552 non-null float64\n",
            "bedrooms                  22552 non-null float64\n",
            "beds                      22552 non-null float64\n",
            "bed_type                  22552 non-null category\n",
            "accommodates              22552 non-null int64\n",
            "dtypes: category(3), float64(6), int64(3), object(1)\n",
            "memory usage: 1.8+ MB\n"
          ],
          "name": "stdout"
        }
      ]
    },
    {
      "cell_type": "markdown",
      "metadata": {
        "id": "ewHszvp62-xW",
        "colab_type": "text"
      },
      "source": [
        "The required feature engineering operations were done in our datasets. Now, We can concat two dataset."
      ]
    },
    {
      "cell_type": "code",
      "metadata": {
        "trusted": true,
        "id": "sYmVj8nf2-xY",
        "colab_type": "code",
        "colab": {
          "base_uri": "https://localhost:8080/",
          "height": 425
        },
        "outputId": "6612c89d-40e4-4cd3-b3c0-e965a93b8bd9"
      },
      "source": [
        "#concat\n",
        "data = pd.concat([dataset,dataset2],axis=1)\n",
        "data.shape\n",
        "data.info()"
      ],
      "execution_count": 52,
      "outputs": [
        {
          "output_type": "stream",
          "text": [
            "<class 'pandas.core.frame.DataFrame'>\n",
            "RangeIndex: 22552 entries, 0 to 22551\n",
            "Data columns (total 19 columns):\n",
            "room_type                         22552 non-null category\n",
            "number_of_reviews                 22552 non-null int64\n",
            "calculated_host_listings_count    22552 non-null int64\n",
            "availability_365                  22552 non-null int64\n",
            "price                             22552 non-null int64\n",
            "distance                          22552 non-null float64\n",
            "cancellation_policy               22552 non-null category\n",
            "host_identity_verified            22552 non-null category\n",
            "amenities                         22552 non-null int64\n",
            "security_deposit                  22552 non-null float64\n",
            "cleaning_fee                      22552 non-null float64\n",
            "guests_included                   22552 non-null int64\n",
            "extra_people                      22552 non-null object\n",
            "review_scores_rating              22552 non-null float64\n",
            "bathrooms                         22552 non-null float64\n",
            "bedrooms                          22552 non-null float64\n",
            "beds                              22552 non-null float64\n",
            "bed_type                          22552 non-null category\n",
            "accommodates                      22552 non-null int64\n",
            "dtypes: category(4), float64(7), int64(7), object(1)\n",
            "memory usage: 2.7+ MB\n"
          ],
          "name": "stdout"
        }
      ]
    },
    {
      "cell_type": "code",
      "metadata": {
        "trusted": true,
        "id": "r-_SZxQ82-xb",
        "colab_type": "code",
        "colab": {}
      },
      "source": [
        "#Remaining tranforming, cleaning proceses\n",
        "data.host_identity_verified = [1 if i=='t' else 0 for i in data.host_identity_verified ]\n",
        "data.extra_people =  list(map(lambda x: float(str(x).replace(',','').replace('$','')),data.extra_people)) \n",
        "data.host_identity_verified = data.host_identity_verified.astype(\"category\")\n",
        "data.extra_people = data.extra_people.astype(float)   "
      ],
      "execution_count": 0,
      "outputs": []
    },
    {
      "cell_type": "code",
      "metadata": {
        "trusted": true,
        "id": "bJvW6Fx_2-xg",
        "colab_type": "code",
        "colab": {
          "base_uri": "https://localhost:8080/",
          "height": 224
        },
        "outputId": "7a68d89e-3fde-49be-d15c-8d00ae310ae9"
      },
      "source": [
        "data.head()"
      ],
      "execution_count": 39,
      "outputs": [
        {
          "output_type": "execute_result",
          "data": {
            "text/html": [
              "<div>\n",
              "<style scoped>\n",
              "    .dataframe tbody tr th:only-of-type {\n",
              "        vertical-align: middle;\n",
              "    }\n",
              "\n",
              "    .dataframe tbody tr th {\n",
              "        vertical-align: top;\n",
              "    }\n",
              "\n",
              "    .dataframe thead th {\n",
              "        text-align: right;\n",
              "    }\n",
              "</style>\n",
              "<table border=\"1\" class=\"dataframe\">\n",
              "  <thead>\n",
              "    <tr style=\"text-align: right;\">\n",
              "      <th></th>\n",
              "      <th>room_type</th>\n",
              "      <th>number_of_reviews</th>\n",
              "      <th>calculated_host_listings_count</th>\n",
              "      <th>availability_365</th>\n",
              "      <th>price</th>\n",
              "      <th>distance</th>\n",
              "      <th>cancellation_policy</th>\n",
              "      <th>host_identity_verified</th>\n",
              "      <th>amenities</th>\n",
              "      <th>security_deposit</th>\n",
              "      <th>cleaning_fee</th>\n",
              "      <th>guests_included</th>\n",
              "      <th>extra_people</th>\n",
              "      <th>review_scores_rating</th>\n",
              "      <th>bathrooms</th>\n",
              "      <th>bedrooms</th>\n",
              "      <th>beds</th>\n",
              "      <th>bed_type</th>\n",
              "      <th>accommodates</th>\n",
              "    </tr>\n",
              "  </thead>\n",
              "  <tbody>\n",
              "    <tr>\n",
              "      <th>0</th>\n",
              "      <td>0</td>\n",
              "      <td>118</td>\n",
              "      <td>4</td>\n",
              "      <td>141</td>\n",
              "      <td>60</td>\n",
              "      <td>3.533182</td>\n",
              "      <td>2</td>\n",
              "      <td>0</td>\n",
              "      <td>407</td>\n",
              "      <td>200.0</td>\n",
              "      <td>30.0</td>\n",
              "      <td>1</td>\n",
              "      <td>28.0</td>\n",
              "      <td>93.0</td>\n",
              "      <td>1.0</td>\n",
              "      <td>1.0</td>\n",
              "      <td>2.0</td>\n",
              "      <td>0</td>\n",
              "      <td>3</td>\n",
              "    </tr>\n",
              "    <tr>\n",
              "      <th>1</th>\n",
              "      <td>1</td>\n",
              "      <td>6</td>\n",
              "      <td>1</td>\n",
              "      <td>0</td>\n",
              "      <td>17</td>\n",
              "      <td>5.085573</td>\n",
              "      <td>0</td>\n",
              "      <td>0</td>\n",
              "      <td>120</td>\n",
              "      <td>0.0</td>\n",
              "      <td>0.0</td>\n",
              "      <td>1</td>\n",
              "      <td>0.0</td>\n",
              "      <td>100.0</td>\n",
              "      <td>1.0</td>\n",
              "      <td>1.0</td>\n",
              "      <td>1.0</td>\n",
              "      <td>0</td>\n",
              "      <td>2</td>\n",
              "    </tr>\n",
              "    <tr>\n",
              "      <th>2</th>\n",
              "      <td>0</td>\n",
              "      <td>143</td>\n",
              "      <td>1</td>\n",
              "      <td>220</td>\n",
              "      <td>90</td>\n",
              "      <td>3.695677</td>\n",
              "      <td>2</td>\n",
              "      <td>0</td>\n",
              "      <td>273</td>\n",
              "      <td>200.0</td>\n",
              "      <td>50.0</td>\n",
              "      <td>2</td>\n",
              "      <td>20.0</td>\n",
              "      <td>92.0</td>\n",
              "      <td>1.0</td>\n",
              "      <td>1.0</td>\n",
              "      <td>2.0</td>\n",
              "      <td>0</td>\n",
              "      <td>4</td>\n",
              "    </tr>\n",
              "    <tr>\n",
              "      <th>3</th>\n",
              "      <td>1</td>\n",
              "      <td>25</td>\n",
              "      <td>1</td>\n",
              "      <td>297</td>\n",
              "      <td>26</td>\n",
              "      <td>3.755285</td>\n",
              "      <td>2</td>\n",
              "      <td>0</td>\n",
              "      <td>521</td>\n",
              "      <td>250.0</td>\n",
              "      <td>30.0</td>\n",
              "      <td>1</td>\n",
              "      <td>18.0</td>\n",
              "      <td>88.0</td>\n",
              "      <td>1.0</td>\n",
              "      <td>1.0</td>\n",
              "      <td>1.0</td>\n",
              "      <td>1</td>\n",
              "      <td>2</td>\n",
              "    </tr>\n",
              "    <tr>\n",
              "      <th>4</th>\n",
              "      <td>1</td>\n",
              "      <td>197</td>\n",
              "      <td>1</td>\n",
              "      <td>26</td>\n",
              "      <td>42</td>\n",
              "      <td>4.550423</td>\n",
              "      <td>1</td>\n",
              "      <td>0</td>\n",
              "      <td>223</td>\n",
              "      <td>0.0</td>\n",
              "      <td>0.0</td>\n",
              "      <td>1</td>\n",
              "      <td>24.0</td>\n",
              "      <td>96.0</td>\n",
              "      <td>1.0</td>\n",
              "      <td>1.0</td>\n",
              "      <td>2.0</td>\n",
              "      <td>0</td>\n",
              "      <td>2</td>\n",
              "    </tr>\n",
              "  </tbody>\n",
              "</table>\n",
              "</div>"
            ],
            "text/plain": [
              "  room_type  number_of_reviews  ...  bed_type  accommodates\n",
              "0         0                118  ...         0             3\n",
              "1         1                  6  ...         0             2\n",
              "2         0                143  ...         0             4\n",
              "3         1                 25  ...         1             2\n",
              "4         1                197  ...         0             2\n",
              "\n",
              "[5 rows x 19 columns]"
            ]
          },
          "metadata": {
            "tags": []
          },
          "execution_count": 39
        }
      ]
    },
    {
      "cell_type": "code",
      "metadata": {
        "trusted": true,
        "id": "lYDkDNvy2-xk",
        "colab_type": "code",
        "colab": {
          "base_uri": "https://localhost:8080/",
          "height": 425
        },
        "outputId": "55a350b7-6da3-49e4-e0d9-c022aaa01414"
      },
      "source": [
        "data.info()"
      ],
      "execution_count": 40,
      "outputs": [
        {
          "output_type": "stream",
          "text": [
            "<class 'pandas.core.frame.DataFrame'>\n",
            "RangeIndex: 22552 entries, 0 to 22551\n",
            "Data columns (total 19 columns):\n",
            "room_type                         22552 non-null category\n",
            "number_of_reviews                 22552 non-null int64\n",
            "calculated_host_listings_count    22552 non-null int64\n",
            "availability_365                  22552 non-null int64\n",
            "price                             22552 non-null int64\n",
            "distance                          22552 non-null float64\n",
            "cancellation_policy               22552 non-null category\n",
            "host_identity_verified            22552 non-null category\n",
            "amenities                         22552 non-null int64\n",
            "security_deposit                  22552 non-null float64\n",
            "cleaning_fee                      22552 non-null float64\n",
            "guests_included                   22552 non-null int64\n",
            "extra_people                      22552 non-null float64\n",
            "review_scores_rating              22552 non-null float64\n",
            "bathrooms                         22552 non-null float64\n",
            "bedrooms                          22552 non-null float64\n",
            "beds                              22552 non-null float64\n",
            "bed_type                          22552 non-null category\n",
            "accommodates                      22552 non-null int64\n",
            "dtypes: category(4), float64(8), int64(7)\n",
            "memory usage: 2.7 MB\n"
          ],
          "name": "stdout"
        }
      ]
    },
    {
      "cell_type": "code",
      "metadata": {
        "trusted": true,
        "id": "0KJHKnvJ2-xp",
        "colab_type": "code",
        "colab": {
          "base_uri": "https://localhost:8080/",
          "height": 317
        },
        "outputId": "02a52475-24fa-416b-dc70-13ac27feb65f"
      },
      "source": [
        "data.describe()"
      ],
      "execution_count": 41,
      "outputs": [
        {
          "output_type": "execute_result",
          "data": {
            "text/html": [
              "<div>\n",
              "<style scoped>\n",
              "    .dataframe tbody tr th:only-of-type {\n",
              "        vertical-align: middle;\n",
              "    }\n",
              "\n",
              "    .dataframe tbody tr th {\n",
              "        vertical-align: top;\n",
              "    }\n",
              "\n",
              "    .dataframe thead th {\n",
              "        text-align: right;\n",
              "    }\n",
              "</style>\n",
              "<table border=\"1\" class=\"dataframe\">\n",
              "  <thead>\n",
              "    <tr style=\"text-align: right;\">\n",
              "      <th></th>\n",
              "      <th>number_of_reviews</th>\n",
              "      <th>calculated_host_listings_count</th>\n",
              "      <th>availability_365</th>\n",
              "      <th>price</th>\n",
              "      <th>distance</th>\n",
              "      <th>amenities</th>\n",
              "      <th>security_deposit</th>\n",
              "      <th>cleaning_fee</th>\n",
              "      <th>guests_included</th>\n",
              "      <th>extra_people</th>\n",
              "      <th>review_scores_rating</th>\n",
              "      <th>bathrooms</th>\n",
              "      <th>bedrooms</th>\n",
              "      <th>beds</th>\n",
              "      <th>accommodates</th>\n",
              "    </tr>\n",
              "  </thead>\n",
              "  <tbody>\n",
              "    <tr>\n",
              "      <th>count</th>\n",
              "      <td>22552.000000</td>\n",
              "      <td>22552.000000</td>\n",
              "      <td>22552.000000</td>\n",
              "      <td>22552.000000</td>\n",
              "      <td>22552.000000</td>\n",
              "      <td>22552.000000</td>\n",
              "      <td>22552.000000</td>\n",
              "      <td>22552.000000</td>\n",
              "      <td>22552.000000</td>\n",
              "      <td>22552.000000</td>\n",
              "      <td>22552.000000</td>\n",
              "      <td>22552.000000</td>\n",
              "      <td>22552.000000</td>\n",
              "      <td>22552.000000</td>\n",
              "      <td>22552.000000</td>\n",
              "    </tr>\n",
              "    <tr>\n",
              "      <th>mean</th>\n",
              "      <td>17.840679</td>\n",
              "      <td>1.918233</td>\n",
              "      <td>79.852829</td>\n",
              "      <td>67.143668</td>\n",
              "      <td>4.547584</td>\n",
              "      <td>224.058221</td>\n",
              "      <td>189.488158</td>\n",
              "      <td>26.508394</td>\n",
              "      <td>1.332121</td>\n",
              "      <td>8.257716</td>\n",
              "      <td>94.413111</td>\n",
              "      <td>1.092564</td>\n",
              "      <td>1.161006</td>\n",
              "      <td>1.619457</td>\n",
              "      <td>2.637460</td>\n",
              "    </tr>\n",
              "    <tr>\n",
              "      <th>std</th>\n",
              "      <td>36.769624</td>\n",
              "      <td>3.667257</td>\n",
              "      <td>119.368162</td>\n",
              "      <td>220.266210</td>\n",
              "      <td>2.663421</td>\n",
              "      <td>149.056602</td>\n",
              "      <td>287.848598</td>\n",
              "      <td>25.283219</td>\n",
              "      <td>0.835034</td>\n",
              "      <td>11.151069</td>\n",
              "      <td>6.856020</td>\n",
              "      <td>0.329679</td>\n",
              "      <td>0.645914</td>\n",
              "      <td>1.174088</td>\n",
              "      <td>1.510548</td>\n",
              "    </tr>\n",
              "    <tr>\n",
              "      <th>min</th>\n",
              "      <td>0.000000</td>\n",
              "      <td>1.000000</td>\n",
              "      <td>0.000000</td>\n",
              "      <td>0.000000</td>\n",
              "      <td>0.198956</td>\n",
              "      <td>2.000000</td>\n",
              "      <td>0.000000</td>\n",
              "      <td>0.000000</td>\n",
              "      <td>1.000000</td>\n",
              "      <td>0.000000</td>\n",
              "      <td>20.000000</td>\n",
              "      <td>0.000000</td>\n",
              "      <td>0.000000</td>\n",
              "      <td>0.000000</td>\n",
              "      <td>1.000000</td>\n",
              "    </tr>\n",
              "    <tr>\n",
              "      <th>25%</th>\n",
              "      <td>1.000000</td>\n",
              "      <td>1.000000</td>\n",
              "      <td>0.000000</td>\n",
              "      <td>30.000000</td>\n",
              "      <td>2.978093</td>\n",
              "      <td>121.000000</td>\n",
              "      <td>95.000000</td>\n",
              "      <td>15.000000</td>\n",
              "      <td>1.000000</td>\n",
              "      <td>0.000000</td>\n",
              "      <td>93.000000</td>\n",
              "      <td>1.000000</td>\n",
              "      <td>1.000000</td>\n",
              "      <td>1.000000</td>\n",
              "      <td>2.000000</td>\n",
              "    </tr>\n",
              "    <tr>\n",
              "      <th>50%</th>\n",
              "      <td>5.000000</td>\n",
              "      <td>1.000000</td>\n",
              "      <td>4.000000</td>\n",
              "      <td>45.000000</td>\n",
              "      <td>4.089426</td>\n",
              "      <td>185.000000</td>\n",
              "      <td>171.540000</td>\n",
              "      <td>26.050000</td>\n",
              "      <td>1.000000</td>\n",
              "      <td>5.000000</td>\n",
              "      <td>95.000000</td>\n",
              "      <td>1.000000</td>\n",
              "      <td>1.000000</td>\n",
              "      <td>1.000000</td>\n",
              "      <td>2.000000</td>\n",
              "    </tr>\n",
              "    <tr>\n",
              "      <th>75%</th>\n",
              "      <td>16.000000</td>\n",
              "      <td>1.000000</td>\n",
              "      <td>129.000000</td>\n",
              "      <td>70.000000</td>\n",
              "      <td>5.549060</td>\n",
              "      <td>286.000000</td>\n",
              "      <td>171.540000</td>\n",
              "      <td>30.000000</td>\n",
              "      <td>1.000000</td>\n",
              "      <td>15.000000</td>\n",
              "      <td>100.000000</td>\n",
              "      <td>1.000000</td>\n",
              "      <td>1.000000</td>\n",
              "      <td>2.000000</td>\n",
              "      <td>3.000000</td>\n",
              "    </tr>\n",
              "    <tr>\n",
              "      <th>max</th>\n",
              "      <td>498.000000</td>\n",
              "      <td>45.000000</td>\n",
              "      <td>365.000000</td>\n",
              "      <td>9000.000000</td>\n",
              "      <td>25.012109</td>\n",
              "      <td>1185.000000</td>\n",
              "      <td>4280.000000</td>\n",
              "      <td>2000.000000</td>\n",
              "      <td>16.000000</td>\n",
              "      <td>250.000000</td>\n",
              "      <td>100.000000</td>\n",
              "      <td>8.500000</td>\n",
              "      <td>12.000000</td>\n",
              "      <td>22.000000</td>\n",
              "      <td>16.000000</td>\n",
              "    </tr>\n",
              "  </tbody>\n",
              "</table>\n",
              "</div>"
            ],
            "text/plain": [
              "       number_of_reviews  ...  accommodates\n",
              "count       22552.000000  ...  22552.000000\n",
              "mean           17.840679  ...      2.637460\n",
              "std            36.769624  ...      1.510548\n",
              "min             0.000000  ...      1.000000\n",
              "25%             1.000000  ...      2.000000\n",
              "50%             5.000000  ...      2.000000\n",
              "75%            16.000000  ...      3.000000\n",
              "max           498.000000  ...     16.000000\n",
              "\n",
              "[8 rows x 15 columns]"
            ]
          },
          "metadata": {
            "tags": []
          },
          "execution_count": 41
        }
      ]
    },
    {
      "cell_type": "code",
      "metadata": {
        "trusted": true,
        "id": "rB20wkUm2-xt",
        "colab_type": "code",
        "colab": {
          "base_uri": "https://localhost:8080/",
          "height": 453
        },
        "outputId": "8e898ccc-50d4-479d-b5a8-f65158248620"
      },
      "source": [
        "f, ax = plt.subplots(figsize=(25,7))\n",
        "data.boxplot(ax=ax)\n",
        "plt.show()"
      ],
      "execution_count": 42,
      "outputs": [
        {
          "output_type": "display_data",
          "data": {
            "image/png": "[encoded data removed]",
            "text/plain": [
              "<Figure size 1800x504 with 1 Axes>"
            ]
          },
          "metadata": {
            "tags": []
          }
        }
      ]
    },
    {
      "cell_type": "markdown",
      "metadata": {
        "id": "22U08UCi2-xx",
        "colab_type": "text"
      },
      "source": [
        "There is outlier data. We can clean it, but before cleaning, we need to determine if it is absolutely necessary.\n",
        "\n",
        "We will not handle outlier data in this kernel."
      ]
    },
    {
      "cell_type": "code",
      "metadata": {
        "trusted": true,
        "id": "2DxXNCtD2-xz",
        "colab_type": "code",
        "colab": {
          "base_uri": "https://localhost:8080/",
          "height": 846
        },
        "outputId": "73b9dcf9-7c8d-4cde-ef6b-bc5fbf24208a"
      },
      "source": [
        "f, ax = plt.subplots( figsize=(15,12) )\n",
        "sns.heatmap(data.corr(),annot=True,linewidths=1)\n",
        "plt.show()"
      ],
      "execution_count": 43,
      "outputs": [
        {
          "output_type": "display_data",
          "data": {
            "image/png": "[encoded data removed]",
            "text/plain": [
              "<Figure size 1080x864 with 2 Axes>"
            ]
          },
          "metadata": {
            "tags": []
          }
        }
      ]
    },
    {
      "cell_type": "markdown",
      "metadata": {
        "id": "6XubQosD2-x8",
        "colab_type": "text"
      },
      "source": [
        "Nice correalation matrix. There is no too coraleted feature."
      ]
    },
    {
      "cell_type": "markdown",
      "metadata": {
        "id": "cNMcysve2-x-",
        "colab_type": "text"
      },
      "source": [
        "<h2>Modeling</h2>"
      ]
    },
    {
      "cell_type": "code",
      "metadata": {
        "trusted": true,
        "id": "ZlTSEN7V2-yD",
        "colab_type": "code",
        "colab": {}
      },
      "source": [
        "from sklearn.model_selection import train_test_split"
      ],
      "execution_count": 0,
      "outputs": []
    },
    {
      "cell_type": "code",
      "metadata": {
        "trusted": true,
        "id": "FxU-KgHW2-yN",
        "colab_type": "code",
        "colab": {}
      },
      "source": [
        "#split data test and train\n",
        "X = dataset.drop([\"price\"],axis=1)\n",
        "y = dataset[\"price\"]\n",
        "\n",
        "X_train, X_test, y_train, y_test = train_test_split(X, y, test_size=0.2,random_state=42)"
      ],
      "execution_count": 0,
      "outputs": []
    },
    {
      "cell_type": "code",
      "metadata": {
        "trusted": true,
        "id": "3968b5iC2-yw",
        "colab_type": "code",
        "colab": {}
      },
      "source": [
        "# normalize data\n",
        "from sklearn.preprocessing import StandardScaler\n",
        "sc = StandardScaler()\n",
        "X_train = sc.fit_transform(X_train)\n",
        "X_test  = sc.transform(X_test)"
      ],
      "execution_count": 0,
      "outputs": []
    },
    {
      "cell_type": "code",
      "metadata": {
        "trusted": true,
        "id": "VQsmFNgK2-y0",
        "colab_type": "code",
        "colab": {}
      },
      "source": [
        "#Create Regression Model\n",
        "from sklearn.tree import DecisionTreeRegressor\n",
        "regr_tree = DecisionTreeRegressor()"
      ],
      "execution_count": 0,
      "outputs": []
    },
    {
      "cell_type": "code",
      "metadata": {
        "trusted": true,
        "id": "qn459v6f2-y_",
        "colab_type": "code",
        "colab": {
          "base_uri": "https://localhost:8080/",
          "height": 105
        },
        "outputId": "3715ec25-198f-49d0-d5d9-1c48ff2b7bb4"
      },
      "source": [
        "#Search best parameters\n",
        "from sklearn.model_selection import GridSearchCV\n",
        "param_grid = [{'max_depth': np.arange(1, 10),\n",
        "              'min_samples_leaf': [1, 5, 10, 20, 50, 100],\n",
        "              'min_weight_fraction_leaf': [0.0,0.1,0.3,0.5],\n",
        "              'random_state':[1,3,4,7]}]\n",
        "gridCV = GridSearchCV(estimator=regr_tree, param_grid=param_grid,cv=10)\n",
        "gridCV = gridCV.fit(X_train, y_train)\n",
        "print(gridCV.best_score_)\n",
        "print(gridCV.best_params_)"
      ],
      "execution_count": 48,
      "outputs": [
        {
          "output_type": "stream",
          "text": [
            "0.5845468888596332\n",
            "{'max_depth': 3, 'min_samples_leaf': 1, 'min_weight_fraction_leaf': 0.0, 'random_state': 1}\n"
          ],
          "name": "stdout"
        },
        {
          "output_type": "stream",
          "text": [
            "/usr/local/lib/python3.6/dist-packages/sklearn/model_selection/_search.py:813: DeprecationWarning: The default of the `iid` parameter will change from True to False in version 0.22 and will be removed in 0.24. This will change numeric results when test-set sizes are unequal.\n",
            "  DeprecationWarning)\n"
          ],
          "name": "stderr"
        }
      ]
    },
    {
      "cell_type": "code",
      "metadata": {
        "trusted": true,
        "id": "qYNvwmvI2-zU",
        "colab_type": "code",
        "colab": {}
      },
      "source": [
        "md = gridCV.best_params_[\"max_depth\"]\n",
        "msl  = gridCV.best_params_[\"min_samples_leaf\"]\n",
        "mwfl = gridCV.best_params_[\"min_weight_fraction_leaf\"]\n",
        "rs = gridCV.best_params_[\"random_state\"]"
      ],
      "execution_count": 0,
      "outputs": []
    },
    {
      "cell_type": "code",
      "metadata": {
        "trusted": true,
        "id": "ymmlllEG2-zZ",
        "colab_type": "code",
        "colab": {}
      },
      "source": [
        "#fit model and prediction with best parameters\n",
        "regr_tree = DecisionTreeRegressor(max_depth=md,min_samples_leaf=msl,min_weight_fraction_leaf=mwfl,random_state=rs)\n",
        "regr_tree.fit(X_train, y_train)\n",
        "tree_pred = regr_tree.predict(X_test)"
      ],
      "execution_count": 0,
      "outputs": []
    },
    {
      "cell_type": "code",
      "metadata": {
        "trusted": true,
        "id": "7y4VpQ-l2-zc",
        "colab_type": "code",
        "colab": {
          "base_uri": "https://localhost:8080/",
          "height": 51
        },
        "outputId": "dd638087-39ac-463c-c4af-6e6b1d20a214"
      },
      "source": [
        "#Measure error\n",
        "from sklearn.metrics import mean_squared_error, r2_score\n",
        "RMSE = np.sqrt(mean_squared_error(y_test, tree_pred))\n",
        "print(f\"RMSE: {round(RMSE, 4)}\")\n",
        "\n",
        "r2 = r2_score(y_test, tree_pred)\n",
        "print(f\"r2: {round(r2, 4)}\")"
      ],
      "execution_count": 51,
      "outputs": [
        {
          "output_type": "stream",
          "text": [
            "RMSE: 44.4276\n",
            "r2: 0.9413\n"
          ],
          "name": "stdout"
        }
      ]
    },
    {
      "cell_type": "code",
      "metadata": {
        "id": "8gZ5LrkReJNz",
        "colab_type": "code",
        "colab": {}
      },
      "source": [
        "import xgboost as xgb\n",
        "# create a baseline\n",
        "booster = xgb.XGBRegressor()"
      ],
      "execution_count": 0,
      "outputs": []
    },
    {
      "cell_type": "code",
      "metadata": {
        "id": "8dBt0rsueMXD",
        "colab_type": "code",
        "colab": {
          "base_uri": "https://localhost:8080/",
          "height": 85
        },
        "outputId": "d578d6bd-f27f-42ef-c43e-c7e9e2db2300"
      },
      "source": [
        "from sklearn.model_selection import GridSearchCV\n",
        "\n",
        "# create Grid\n",
        "param_grid = {'n_estimators': [100, 150, 200],\n",
        "              'learning_rate': [0.01, 0.05, 0.1], \n",
        "              'max_depth': [3, 4, 5, 6, 7],\n",
        "              'colsample_bytree': [0.6, 0.7, 1],\n",
        "              'gamma': [0.0, 0.1, 0.2]}\n",
        "\n",
        "# instantiate the tuned random forest\n",
        "booster_grid_search = GridSearchCV(booster, param_grid, cv=3, n_jobs=-1)\n",
        "\n",
        "# train the tuned random forest\n",
        "booster_grid_search.fit(X_train, y_train)\n",
        "\n",
        "# print best estimator parameters found during the grid search\n",
        "print(booster_grid_search.best_params_)"
      ],
      "execution_count": 55,
      "outputs": [
        {
          "output_type": "stream",
          "text": [
            "/usr/local/lib/python3.6/dist-packages/xgboost/core.py:587: FutureWarning: Series.base is deprecated and will be removed in a future version\n",
            "  if getattr(data, 'base', None) is not None and \\\n"
          ],
          "name": "stderr"
        },
        {
          "output_type": "stream",
          "text": [
            "[09:38:50] WARNING: /workspace/src/objective/regression_obj.cu:152: reg:linear is now deprecated in favor of reg:squarederror.\n",
            "{'colsample_bytree': 1, 'gamma': 0.0, 'learning_rate': 0.05, 'max_depth': 3, 'n_estimators': 150}\n"
          ],
          "name": "stdout"
        }
      ]
    },
    {
      "cell_type": "code",
      "metadata": {
        "id": "X1PAAlrDeVfR",
        "colab_type": "code",
        "colab": {
          "base_uri": "https://localhost:8080/",
          "height": 68
        },
        "outputId": "99cb6cf1-2e73-40e0-9af1-d210090280b9"
      },
      "source": [
        "# instantiate xgboost with best parameters\n",
        "booster = xgb.XGBRegressor(colsample_bytree=0.7, gamma=0.2, learning_rate=0.1, \n",
        "                           max_depth=6, n_estimators=200, random_state=4)\n",
        "\n",
        "# train\n",
        "booster.fit(X_train, y_train)\n",
        "\n",
        "# predict\n",
        "y_pred_train = booster.predict(X_train)\n",
        "y_pred_test = booster.predict(X_test)"
      ],
      "execution_count": 56,
      "outputs": [
        {
          "output_type": "stream",
          "text": [
            "/usr/local/lib/python3.6/dist-packages/xgboost/core.py:587: FutureWarning: Series.base is deprecated and will be removed in a future version\n",
            "  if getattr(data, 'base', None) is not None and \\\n"
          ],
          "name": "stderr"
        },
        {
          "output_type": "stream",
          "text": [
            "[09:39:27] WARNING: /workspace/src/objective/regression_obj.cu:152: reg:linear is now deprecated in favor of reg:squarederror.\n"
          ],
          "name": "stdout"
        }
      ]
    },
    {
      "cell_type": "code",
      "metadata": {
        "id": "0CNHHa88eh_v",
        "colab_type": "code",
        "colab": {
          "base_uri": "https://localhost:8080/",
          "height": 51
        },
        "outputId": "d0390839-87b1-497c-f9ab-eecdde195476"
      },
      "source": [
        "RMSE = np.sqrt(mean_squared_error(y_test, y_pred_test))\n",
        "print(f\"RMSE: {round(RMSE, 4)}\")\n",
        "r2 = r2_score(y_test, y_pred_test)\n",
        "r2\n",
        "print(f\"r2: {round(r2, 4)}\")"
      ],
      "execution_count": 57,
      "outputs": [
        {
          "output_type": "stream",
          "text": [
            "RMSE: 82.4406\n",
            "r2: 0.798\n"
          ],
          "name": "stdout"
        }
      ]
    }
  ]
}
{
  "nbformat": 4,
  "nbformat_minor": 0,
  "metadata": {
    "colab": {
      "name": "Predicting Prices_ XGBoost & Feature Engineering.ipynb",
      "version": "0.3.2",
      "provenance": []
    },
    "language_info": {
      "name": "python",
      "version": "3.6.6",
      "mimetype": "text/x-python",
      "codemirror_mode": {
        "name": "ipython",
        "version": 3
      },
      "pygments_lexer": "ipython3",
      "nbconvert_exporter": "python",
      "file_extension": ".py"
    },
    "kernelspec": {
      "name": "python3",
      "display_name": "Python 3"
    },
    "accelerator": "TPU"
  },
  "cells": [
    {
      "cell_type": "markdown",
      "metadata": {
        "_uuid": "a27cb199b348e79dff8e6b6a03d38cc8409ac1c4",
        "id": "4M_4dRPrDT_3",
        "colab_type": "text"
      },
      "source": [
        "## Predicting the price for an Airbnb Host in Berlin\n",
        "\n",
        "Airbnb has successfully disrupted the traditional hospitality industry as more and more travelers decide to use Airbnb as their primary accommodation provider. Since its inception in 2008, Airbnb has seen an enormous growth, with the number of rentals listed on its website growing exponentially each year.\n",
        "\n",
        "In Germany, no city is more popular than Berlin. That implies that Berlin is one of the hottest markets for Airbnb in Europe, with over 22,552 listings as of November 2018. With a size of 891 km², this means there are roughly 25 homes being rented out per km² in Berlin on Airbnb!\n",
        "\n",
        "Considering the possibility that I might have to relocate for a new data science job, but want to keep my current flat in Berlin (which is quite cheap!), I might wonder if it could be worth it to offer my jewel on Airbnb. Could this perhaps be a profitable option? However, it is difficult for potential hosts to know what the true value of their home is, and how in-demand their home might be. And since location and furniture are obviously fixed for the most part, is there anything else a host can influence - such as description, communication patterns, and/or additional services to boost their earnings?\n",
        "\n",
        "The following question will drive this project:\n",
        "\n",
        "> **Can we determine a fairly spot-on daily price for a new accommodation that fits into its specific market environment and competitors in Berlin?** <br>\n",
        "\n",
        "The question focuses on the accommodation features and decisions a new host can make with regards to initial presentation, i.e. posting a picture of him- or herself on the website, determining a minimum length of stay, offering instant bookings etc. A machine learning algorithm will be applied to try to get an answer. \n",
        "\n",
        "### The dataset\n",
        "\n",
        "In the first notebook, I will perform an analysis of the detailed Berlin listings data, sourced from the Inside Airbnb website, in order to understand the rental landscape and try to recommend a price for a newbie entering the market. The dataset is named `listings.csv.gz` and was scraped on November 07th 2018."
      ]
    },
    {
      "cell_type": "markdown",
      "metadata": {
        "_uuid": "c1fac5150ac4fc3aeb6b81925724af334d0c09d7",
        "id": "uioHpWeIDT_8",
        "colab_type": "text"
      },
      "source": [
        "## Table of Contents\n",
        "<a id='Table of contents'></a>\n",
        "\n",
        "### <a href='#1. Obtaining and Viewing the Data'> 1. Obtaining and Viewing the Data </a>\n",
        "\n",
        "### <a href='#2. Preprocessing the Data'> 2. Preprocessing the Data </a>\n",
        "* <a href='#2.1. Deciding which columns to work with'> 2.1. Deciding which columns to work with </a>\n",
        "* <a href='#2.2. Cleaning Price Columns'> 2.2. Cleaning Price Columns </a>\n",
        "* <a href='#2.3. Dealing with Missing Values'> 2.3. Dealing with Missing Values </a>\n",
        "* <a href='#2.4. Feature Engineering 1: Distance to Centroid of Berlin'> 2.4. Feature Engineering 1: Distance to Centroid of Berlin </a>\n",
        "* <a href='#2.5. Feature Engineering 2: Lodging Size'> 2.5. Feature Engineering 2: Lodging Size </a>\n",
        "* <a href='#2.6. Feature Engineering 3: Lodging Amenities'> 2.6. Feature Engineering 3: Lodging Amenities </a>\n",
        "\n",
        "### <a href='#3. Exploratory Data Analysis (EDA)'> 3. Exploratory Data Analysis (EDA) </a>\n",
        "\n",
        "### <a href='#4. Modeling the Data'> 4. Modeling the Data </a>\n",
        "* <a href='#4.1. Preparing Target and Features'> 4.1. Preparing Target and Features </a>\n",
        "* <a href='#4.2. Splitting and Scaling the Data'> 4.2. Splitting and Scaling the Data </a>\n",
        "* <a href='#4.3. Training an XGBoost Regressor'> 4.3. Training an XGBoost Regressor </a>\n",
        "* <a href='#4.4. Cross Validation'> 4.4. Cross Validation </a>\n",
        "\n",
        "### <a href='#5. Interpreting the Data'> 5. Interpreting the Data </a>\n",
        "\n",
        "### <a href='#6. Appendix'> 6. Appendix </a>"
      ]
    },
    {
      "cell_type": "markdown",
      "metadata": {
        "_uuid": "395f4e7f7841145632ec2e635d73351a9263460f",
        "id": "n0vxxOqtDUAV",
        "colab_type": "text"
      },
      "source": [
        "### 1. Obtaining and Viewing the Data \n",
        "<a id='1. Obtaining and Viewing the Data'></a>"
      ]
    },
    {
      "cell_type": "code",
      "metadata": {
        "trusted": true,
        "_uuid": "3903c02b3ab4e036b26318730671d82f1373f0b3",
        "id": "-uFl7XzqDUAX",
        "colab_type": "code",
        "colab": {}
      },
      "source": [
        "import pandas as pd\n",
        "import numpy as np\n",
        "\n",
        "import matplotlib.pyplot as plt\n",
        "plt.style.use('seaborn')\n",
        "import seaborn as sns\n",
        "\n",
        "import re\n",
        "import xgboost as xgb\n",
        "\n",
        "import warnings\n",
        "warnings.filterwarnings(\"ignore\")"
      ],
      "execution_count": 0,
      "outputs": []
    },
    {
      "cell_type": "code",
      "metadata": {
        "id": "MPUmRwxCFUDn",
        "colab_type": "code",
        "outputId": "ea8d5302-22b7-47f4-e931-e82ed7110a14",
        "colab": {
          "base_uri": "https://localhost:8080/",
          "height": 34
        }
      },
      "source": [
        "from google.colab import drive\n",
        "drive.mount('/content/gdrive')"
      ],
      "execution_count": 218,
      "outputs": [
        {
          "output_type": "stream",
          "text": [
            "Drive already mounted at /content/gdrive; to attempt to forcibly remount, call drive.mount(\"/content/gdrive\", force_remount=True).\n"
          ],
          "name": "stdout"
        }
      ]
    },
    {
      "cell_type": "code",
      "metadata": {
        "trusted": true,
        "_uuid": "f29bd23b16c6eb940c158649f1fd5a12c1c895b7",
        "id": "Tqh88GmPDUAh",
        "colab_type": "code",
        "outputId": "b8270749-a447-4893-d038-83be7f85f039",
        "colab": {
          "base_uri": "https://localhost:8080/",
          "height": 51
        }
      },
      "source": [
        "df_initial = pd.read_csv('/content/gdrive/My Drive/listings_summary.csv')\n",
        "\n",
        "# checking shape\n",
        "print(\"The dataset has {} rows and {} columns.\".format(*df_initial.shape))\n",
        "\n",
        "# ... and duplicates\n",
        "print(\"It contains {} duplicates.\".format(df_initial.duplicated().sum()))"
      ],
      "execution_count": 219,
      "outputs": [
        {
          "output_type": "stream",
          "text": [
            "The dataset has 22552 rows and 96 columns.\n",
            "It contains 0 duplicates.\n"
          ],
          "name": "stdout"
        }
      ]
    },
    {
      "cell_type": "code",
      "metadata": {
        "trusted": true,
        "_uuid": "2a200c8afa50d590442be4a97aa3e7c09cad4a76",
        "id": "TxxLGw4nDUAp",
        "colab_type": "code",
        "outputId": "ee4236e8-7cf1-4fb8-a614-f89170377957",
        "colab": {
          "base_uri": "https://localhost:8080/",
          "height": 231
        }
      },
      "source": [
        "df_initial.head(1)"
      ],
      "execution_count": 220,
      "outputs": [
        {
          "output_type": "execute_result",
          "data": {
            "text/html": [
              "<div>\n",
              "<style scoped>\n",
              "    .dataframe tbody tr th:only-of-type {\n",
              "        vertical-align: middle;\n",
              "    }\n",
              "\n",
              "    .dataframe tbody tr th {\n",
              "        vertical-align: top;\n",
              "    }\n",
              "\n",
              "    .dataframe thead th {\n",
              "        text-align: right;\n",
              "    }\n",
              "</style>\n",
              "<table border=\"1\" class=\"dataframe\">\n",
              "  <thead>\n",
              "    <tr style=\"text-align: right;\">\n",
              "      <th></th>\n",
              "      <th>id</th>\n",
              "      <th>listing_url</th>\n",
              "      <th>scrape_id</th>\n",
              "      <th>last_scraped</th>\n",
              "      <th>name</th>\n",
              "      <th>summary</th>\n",
              "      <th>space</th>\n",
              "      <th>description</th>\n",
              "      <th>experiences_offered</th>\n",
              "      <th>neighborhood_overview</th>\n",
              "      <th>notes</th>\n",
              "      <th>transit</th>\n",
              "      <th>access</th>\n",
              "      <th>interaction</th>\n",
              "      <th>house_rules</th>\n",
              "      <th>thumbnail_url</th>\n",
              "      <th>medium_url</th>\n",
              "      <th>picture_url</th>\n",
              "      <th>xl_picture_url</th>\n",
              "      <th>host_id</th>\n",
              "      <th>host_url</th>\n",
              "      <th>host_name</th>\n",
              "      <th>host_since</th>\n",
              "      <th>host_location</th>\n",
              "      <th>host_about</th>\n",
              "      <th>host_response_time</th>\n",
              "      <th>host_response_rate</th>\n",
              "      <th>host_acceptance_rate</th>\n",
              "      <th>host_is_superhost</th>\n",
              "      <th>host_thumbnail_url</th>\n",
              "      <th>host_picture_url</th>\n",
              "      <th>host_neighbourhood</th>\n",
              "      <th>host_listings_count</th>\n",
              "      <th>host_total_listings_count</th>\n",
              "      <th>host_verifications</th>\n",
              "      <th>host_has_profile_pic</th>\n",
              "      <th>host_identity_verified</th>\n",
              "      <th>street</th>\n",
              "      <th>neighbourhood</th>\n",
              "      <th>neighbourhood_cleansed</th>\n",
              "      <th>...</th>\n",
              "      <th>beds</th>\n",
              "      <th>bed_type</th>\n",
              "      <th>amenities</th>\n",
              "      <th>square_feet</th>\n",
              "      <th>price</th>\n",
              "      <th>weekly_price</th>\n",
              "      <th>monthly_price</th>\n",
              "      <th>security_deposit</th>\n",
              "      <th>cleaning_fee</th>\n",
              "      <th>guests_included</th>\n",
              "      <th>extra_people</th>\n",
              "      <th>minimum_nights</th>\n",
              "      <th>maximum_nights</th>\n",
              "      <th>calendar_updated</th>\n",
              "      <th>has_availability</th>\n",
              "      <th>availability_30</th>\n",
              "      <th>availability_60</th>\n",
              "      <th>availability_90</th>\n",
              "      <th>availability_365</th>\n",
              "      <th>calendar_last_scraped</th>\n",
              "      <th>number_of_reviews</th>\n",
              "      <th>first_review</th>\n",
              "      <th>last_review</th>\n",
              "      <th>review_scores_rating</th>\n",
              "      <th>review_scores_accuracy</th>\n",
              "      <th>review_scores_cleanliness</th>\n",
              "      <th>review_scores_checkin</th>\n",
              "      <th>review_scores_communication</th>\n",
              "      <th>review_scores_location</th>\n",
              "      <th>review_scores_value</th>\n",
              "      <th>requires_license</th>\n",
              "      <th>license</th>\n",
              "      <th>jurisdiction_names</th>\n",
              "      <th>instant_bookable</th>\n",
              "      <th>is_business_travel_ready</th>\n",
              "      <th>cancellation_policy</th>\n",
              "      <th>require_guest_profile_picture</th>\n",
              "      <th>require_guest_phone_verification</th>\n",
              "      <th>calculated_host_listings_count</th>\n",
              "      <th>reviews_per_month</th>\n",
              "    </tr>\n",
              "  </thead>\n",
              "  <tbody>\n",
              "    <tr>\n",
              "      <th>0</th>\n",
              "      <td>2015</td>\n",
              "      <td>https://www.airbnb.com/rooms/2015</td>\n",
              "      <td>20181107122246</td>\n",
              "      <td>2018-11-07</td>\n",
              "      <td>Berlin-Mitte Value! Quiet courtyard/very central</td>\n",
              "      <td>Great location!  30 of 75 sq meters. This wood...</td>\n",
              "      <td>A+++ location! This „Einliegerwohnung“ is an e...</td>\n",
              "      <td>Great location!  30 of 75 sq meters. This wood...</td>\n",
              "      <td>none</td>\n",
              "      <td>It is located in the former East Berlin area o...</td>\n",
              "      <td>This is my home, not a hotel. I rent out occas...</td>\n",
              "      <td>Close to U-Bahn U8 and U2 (metro), Trams M12, ...</td>\n",
              "      <td>Simple kitchen/cooking, refrigerator, microwav...</td>\n",
              "      <td>Always available</td>\n",
              "      <td>No parties No events No pets No smoking, not e...</td>\n",
              "      <td>NaN</td>\n",
              "      <td>NaN</td>\n",
              "      <td>https://a0.muscache.com/im/pictures/260fd609-7...</td>\n",
              "      <td>NaN</td>\n",
              "      <td>2217</td>\n",
              "      <td>https://www.airbnb.com/users/show/2217</td>\n",
              "      <td>Ian</td>\n",
              "      <td>2008-08-18</td>\n",
              "      <td>Key Biscayne, Florida, United States</td>\n",
              "      <td>Believe in sharing economy.</td>\n",
              "      <td>within an hour</td>\n",
              "      <td>96%</td>\n",
              "      <td>NaN</td>\n",
              "      <td>t</td>\n",
              "      <td>https://a0.muscache.com/im/pictures/21428a22-4...</td>\n",
              "      <td>https://a0.muscache.com/im/pictures/21428a22-4...</td>\n",
              "      <td>Mitte</td>\n",
              "      <td>4.0</td>\n",
              "      <td>4.0</td>\n",
              "      <td>['email', 'phone', 'reviews', 'jumio', 'offlin...</td>\n",
              "      <td>t</td>\n",
              "      <td>t</td>\n",
              "      <td>Berlin, Berlin, Germany</td>\n",
              "      <td>Mitte</td>\n",
              "      <td>Brunnenstr. Süd</td>\n",
              "      <td>...</td>\n",
              "      <td>2.0</td>\n",
              "      <td>Real Bed</td>\n",
              "      <td>{TV,\"Cable TV\",Wifi,Kitchen,Gym,Heating,\"Famil...</td>\n",
              "      <td>NaN</td>\n",
              "      <td>$60.00</td>\n",
              "      <td>NaN</td>\n",
              "      <td>NaN</td>\n",
              "      <td>$200.00</td>\n",
              "      <td>$30.00</td>\n",
              "      <td>1</td>\n",
              "      <td>$28.00</td>\n",
              "      <td>4</td>\n",
              "      <td>1125</td>\n",
              "      <td>3 months ago</td>\n",
              "      <td>t</td>\n",
              "      <td>0</td>\n",
              "      <td>21</td>\n",
              "      <td>51</td>\n",
              "      <td>141</td>\n",
              "      <td>2018-11-07</td>\n",
              "      <td>118</td>\n",
              "      <td>2016-04-11</td>\n",
              "      <td>2018-10-28</td>\n",
              "      <td>93.0</td>\n",
              "      <td>10.0</td>\n",
              "      <td>9.0</td>\n",
              "      <td>10.0</td>\n",
              "      <td>10.0</td>\n",
              "      <td>10.0</td>\n",
              "      <td>9.0</td>\n",
              "      <td>t</td>\n",
              "      <td>NaN</td>\n",
              "      <td>NaN</td>\n",
              "      <td>f</td>\n",
              "      <td>f</td>\n",
              "      <td>strict_14_with_grace_period</td>\n",
              "      <td>f</td>\n",
              "      <td>f</td>\n",
              "      <td>4</td>\n",
              "      <td>3.76</td>\n",
              "    </tr>\n",
              "  </tbody>\n",
              "</table>\n",
              "<p>1 rows × 96 columns</p>\n",
              "</div>"
            ],
            "text/plain": [
              "     id  ... reviews_per_month\n",
              "0  2015  ...              3.76\n",
              "\n",
              "[1 rows x 96 columns]"
            ]
          },
          "metadata": {
            "tags": []
          },
          "execution_count": 220
        }
      ]
    },
    {
      "cell_type": "code",
      "metadata": {
        "trusted": true,
        "_uuid": "7da450e572f85bee1cc39852def60c61d964cf61",
        "id": "ahvDyTi1DUAx",
        "colab_type": "code",
        "outputId": "7f87cbf2-dc15-4ba6-95c0-35f398275ce6",
        "colab": {
          "base_uri": "https://localhost:8080/",
          "height": 510
        }
      },
      "source": [
        "# check the columns we currently have\n",
        "df_initial.columns"
      ],
      "execution_count": 221,
      "outputs": [
        {
          "output_type": "execute_result",
          "data": {
            "text/plain": [
              "Index(['id', 'listing_url', 'scrape_id', 'last_scraped', 'name', 'summary',\n",
              "       'space', 'description', 'experiences_offered', 'neighborhood_overview',\n",
              "       'notes', 'transit', 'access', 'interaction', 'house_rules',\n",
              "       'thumbnail_url', 'medium_url', 'picture_url', 'xl_picture_url',\n",
              "       'host_id', 'host_url', 'host_name', 'host_since', 'host_location',\n",
              "       'host_about', 'host_response_time', 'host_response_rate',\n",
              "       'host_acceptance_rate', 'host_is_superhost', 'host_thumbnail_url',\n",
              "       'host_picture_url', 'host_neighbourhood', 'host_listings_count',\n",
              "       'host_total_listings_count', 'host_verifications',\n",
              "       'host_has_profile_pic', 'host_identity_verified', 'street',\n",
              "       'neighbourhood', 'neighbourhood_cleansed',\n",
              "       'neighbourhood_group_cleansed', 'city', 'state', 'zipcode', 'market',\n",
              "       'smart_location', 'country_code', 'country', 'latitude', 'longitude',\n",
              "       'is_location_exact', 'property_type', 'room_type', 'accommodates',\n",
              "       'bathrooms', 'bedrooms', 'beds', 'bed_type', 'amenities', 'square_feet',\n",
              "       'price', 'weekly_price', 'monthly_price', 'security_deposit',\n",
              "       'cleaning_fee', 'guests_included', 'extra_people', 'minimum_nights',\n",
              "       'maximum_nights', 'calendar_updated', 'has_availability',\n",
              "       'availability_30', 'availability_60', 'availability_90',\n",
              "       'availability_365', 'calendar_last_scraped', 'number_of_reviews',\n",
              "       'first_review', 'last_review', 'review_scores_rating',\n",
              "       'review_scores_accuracy', 'review_scores_cleanliness',\n",
              "       'review_scores_checkin', 'review_scores_communication',\n",
              "       'review_scores_location', 'review_scores_value', 'requires_license',\n",
              "       'license', 'jurisdiction_names', 'instant_bookable',\n",
              "       'is_business_travel_ready', 'cancellation_policy',\n",
              "       'require_guest_profile_picture', 'require_guest_phone_verification',\n",
              "       'calculated_host_listings_count', 'reviews_per_month'],\n",
              "      dtype='object')"
            ]
          },
          "metadata": {
            "tags": []
          },
          "execution_count": 221
        }
      ]
    },
    {
      "cell_type": "markdown",
      "metadata": {
        "_uuid": "d9c93e0c23b5d7449b9d8cd3e3100f7be3633a5d",
        "id": "BJzGvp07DUBA",
        "colab_type": "text"
      },
      "source": [
        "*Back to: <a href='#Table of contents'> Table of contents</a>*\n",
        "### 2. Preprocessing the Data \n",
        "<a id='2. Preprocessing the Data'></a>"
      ]
    },
    {
      "cell_type": "markdown",
      "metadata": {
        "_uuid": "596d7ddf0128bb5580950f4ee50c5a053f6bbd9e",
        "id": "ongGdsUmDUBG",
        "colab_type": "text"
      },
      "source": [
        "#### 2.1. Deciding which columns to work with \n",
        "<a id='2.1. Deciding which columns to work with'></a>"
      ]
    },
    {
      "cell_type": "markdown",
      "metadata": {
        "_uuid": "4b820649b2f1bacc59718b72b4c5f6be35d87e46",
        "id": "kY6BRjEjDUBJ",
        "colab_type": "text"
      },
      "source": [
        "Let's imagine we are in the shoes of someone who'd like to offer their home. Fixed features of our property include its rooms, size, and location. We also can decide on how we want to be listed: with a picture or not, how many minimum nights we want a guest to stay, whether we are instantly bookable, how we handle cancellations, etc. But we can neither be a \"super host\", nor do we have any reviews yet to show - although they can be very important for setting a price. So, let's focus only on features we can influence:"
      ]
    },
    {
      "cell_type": "code",
      "metadata": {
        "trusted": true,
        "_uuid": "94422be34e810c1b0ca689eca44f16692508ffb7",
        "id": "vtqW9K_yDUBL",
        "colab_type": "code",
        "outputId": "1ff9ab9e-d448-4286-c70d-dd57b747e5a5",
        "colab": {
          "base_uri": "https://localhost:8080/",
          "height": 34
        }
      },
      "source": [
        "# define the columns we want to keep\n",
        "columns_to_keep = ['id', 'space', 'description', 'host_has_profile_pic', 'neighbourhood_group_cleansed', \n",
        "                   'latitude', 'longitude', 'property_type', 'room_type', 'accommodates', 'bathrooms',  \n",
        "                   'bedrooms', 'bed_type', 'amenities', 'square_feet', 'price', 'cleaning_fee', \n",
        "                   'security_deposit', 'extra_people', 'guests_included', 'minimum_nights',  \n",
        "                   'instant_bookable', 'is_business_travel_ready', 'cancellation_policy']\n",
        "\n",
        "df_raw = df_initial[columns_to_keep].set_index('id')\n",
        "print(\"The dataset has {} rows and {} columns - after dropping irrelevant columns.\".format(*df_raw.shape))"
      ],
      "execution_count": 222,
      "outputs": [
        {
          "output_type": "stream",
          "text": [
            "The dataset has 22552 rows and 23 columns - after dropping irrelevant columns.\n"
          ],
          "name": "stdout"
        }
      ]
    },
    {
      "cell_type": "markdown",
      "metadata": {
        "_uuid": "a212e9863a51c505c84e0e4deb1d55472a4ea2aa",
        "id": "VBzDKvwWDUBR",
        "colab_type": "text"
      },
      "source": [
        "By the way, how many different **room types** do we have?"
      ]
    },
    {
      "cell_type": "code",
      "metadata": {
        "trusted": true,
        "_uuid": "a8cffbd6b177ab92078813369968b8c28547db8e",
        "id": "rNe5g3grDUBU",
        "colab_type": "code",
        "outputId": "2e045d47-b9b0-441d-f0c0-f689928c3558",
        "colab": {
          "base_uri": "https://localhost:8080/",
          "height": 85
        }
      },
      "source": [
        "df_raw.room_type.value_counts(normalize=True)"
      ],
      "execution_count": 223,
      "outputs": [
        {
          "output_type": "execute_result",
          "data": {
            "text/plain": [
              "Private room       0.511440\n",
              "Entire home/apt    0.475435\n",
              "Shared room        0.013125\n",
              "Name: room_type, dtype: float64"
            ]
          },
          "metadata": {
            "tags": []
          },
          "execution_count": 223
        }
      ]
    },
    {
      "cell_type": "markdown",
      "metadata": {
        "_uuid": "612966d14f867d0b66e197956709fdea874dcde2",
        "id": "uUNPGKjjDUBb",
        "colab_type": "text"
      },
      "source": [
        "And how many different **property types** are we up against?"
      ]
    },
    {
      "cell_type": "code",
      "metadata": {
        "scrolled": false,
        "trusted": true,
        "_uuid": "f007687907a984acb4d6bacae5d24be814e13785",
        "id": "lo1t_QgtDUBe",
        "colab_type": "code",
        "outputId": "2169961f-5989-4ecb-b976-dd3b3f59681c",
        "colab": {
          "base_uri": "https://localhost:8080/",
          "height": 595
        }
      },
      "source": [
        "df_raw.property_type.value_counts(normalize=True)"
      ],
      "execution_count": 224,
      "outputs": [
        {
          "output_type": "execute_result",
          "data": {
            "text/plain": [
              "Apartment                 0.896816\n",
              "Condominium               0.027137\n",
              "Loft                      0.020397\n",
              "House                     0.017648\n",
              "Serviced apartment        0.007760\n",
              "Hostel                    0.005676\n",
              "Townhouse                 0.004390\n",
              "Guest suite               0.003281\n",
              "Bed and breakfast         0.002838\n",
              "Guesthouse                0.002527\n",
              "Hotel                     0.002217\n",
              "Other                     0.002084\n",
              "Boutique hotel            0.001907\n",
              "Bungalow                  0.000887\n",
              "Boat                      0.000754\n",
              "Tiny house                0.000532\n",
              "Camper/RV                 0.000488\n",
              "Houseboat                 0.000488\n",
              "Villa                     0.000443\n",
              "Pension (South Korea)     0.000310\n",
              "Aparthotel                0.000310\n",
              "Cabin                     0.000266\n",
              "Cottage                   0.000177\n",
              "Resort                    0.000133\n",
              "Train                     0.000089\n",
              "Casa particular (Cuba)    0.000089\n",
              "Castle                    0.000089\n",
              "Tipi                      0.000044\n",
              "Barn                      0.000044\n",
              "In-law                    0.000044\n",
              "Island                    0.000044\n",
              "Cave                      0.000044\n",
              "Chalet                    0.000044\n",
              "Name: property_type, dtype: float64"
            ]
          },
          "metadata": {
            "tags": []
          },
          "execution_count": 224
        }
      ]
    },
    {
      "cell_type": "markdown",
      "metadata": {
        "_uuid": "815fdba63609a3d637e75141ebc90b637d8211b4",
        "id": "CgCGZoxoDUBu",
        "colab_type": "text"
      },
      "source": [
        "*Back to: <a href='#Table of contents'> Table of contents</a>*\n",
        "#### 2.2. Cleaning Price Columns\n",
        "<a id='2.2. Cleaning Price Columns'></a>"
      ]
    },
    {
      "cell_type": "code",
      "metadata": {
        "trusted": true,
        "_uuid": "c80544e5eb95a404506b23cdb713f17bd2104f0b",
        "id": "3axXCPzyDUBw",
        "colab_type": "code",
        "outputId": "ca747d90-947c-4a1d-d365-7f69c1ae922a",
        "colab": {
          "base_uri": "https://localhost:8080/",
          "height": 173
        }
      },
      "source": [
        "df_raw[['price', 'cleaning_fee', 'extra_people', 'security_deposit']].head(3)"
      ],
      "execution_count": 225,
      "outputs": [
        {
          "output_type": "execute_result",
          "data": {
            "text/html": [
              "<div>\n",
              "<style scoped>\n",
              "    .dataframe tbody tr th:only-of-type {\n",
              "        vertical-align: middle;\n",
              "    }\n",
              "\n",
              "    .dataframe tbody tr th {\n",
              "        vertical-align: top;\n",
              "    }\n",
              "\n",
              "    .dataframe thead th {\n",
              "        text-align: right;\n",
              "    }\n",
              "</style>\n",
              "<table border=\"1\" class=\"dataframe\">\n",
              "  <thead>\n",
              "    <tr style=\"text-align: right;\">\n",
              "      <th></th>\n",
              "      <th>price</th>\n",
              "      <th>cleaning_fee</th>\n",
              "      <th>extra_people</th>\n",
              "      <th>security_deposit</th>\n",
              "    </tr>\n",
              "    <tr>\n",
              "      <th>id</th>\n",
              "      <th></th>\n",
              "      <th></th>\n",
              "      <th></th>\n",
              "      <th></th>\n",
              "    </tr>\n",
              "  </thead>\n",
              "  <tbody>\n",
              "    <tr>\n",
              "      <th>2015</th>\n",
              "      <td>$60.00</td>\n",
              "      <td>$30.00</td>\n",
              "      <td>$28.00</td>\n",
              "      <td>$200.00</td>\n",
              "    </tr>\n",
              "    <tr>\n",
              "      <th>2695</th>\n",
              "      <td>$17.00</td>\n",
              "      <td>$0.00</td>\n",
              "      <td>$0.00</td>\n",
              "      <td>$0.00</td>\n",
              "    </tr>\n",
              "    <tr>\n",
              "      <th>3176</th>\n",
              "      <td>$90.00</td>\n",
              "      <td>$50.00</td>\n",
              "      <td>$20.00</td>\n",
              "      <td>$200.00</td>\n",
              "    </tr>\n",
              "  </tbody>\n",
              "</table>\n",
              "</div>"
            ],
            "text/plain": [
              "       price cleaning_fee extra_people security_deposit\n",
              "id                                                     \n",
              "2015  $60.00       $30.00       $28.00          $200.00\n",
              "2695  $17.00        $0.00        $0.00            $0.00\n",
              "3176  $90.00       $50.00       $20.00          $200.00"
            ]
          },
          "metadata": {
            "tags": []
          },
          "execution_count": 225
        }
      ]
    },
    {
      "cell_type": "markdown",
      "metadata": {
        "_uuid": "679ff0ae9752d5c8fd921445fc176addbb59bfef",
        "id": "hfjxLlQCDUB5",
        "colab_type": "text"
      },
      "source": [
        "Let's first check if there are any null values in the `price` column:"
      ]
    },
    {
      "cell_type": "code",
      "metadata": {
        "trusted": true,
        "_uuid": "16c46d134999167f52c2b8882201647757414ca9",
        "id": "QsBnuPMDDUB7",
        "colab_type": "code",
        "outputId": "1b119172-0329-46bd-f2d2-852d8d0ad8b1",
        "colab": {
          "base_uri": "https://localhost:8080/",
          "height": 34
        }
      },
      "source": [
        "# checking Nan's in \"price\" column\n",
        "df_raw.price.isna().sum()"
      ],
      "execution_count": 226,
      "outputs": [
        {
          "output_type": "execute_result",
          "data": {
            "text/plain": [
              "0"
            ]
          },
          "metadata": {
            "tags": []
          },
          "execution_count": 226
        }
      ]
    },
    {
      "cell_type": "markdown",
      "metadata": {
        "_uuid": "0c2a543351ca6dea05f12e075e8762e251d4071d",
        "id": "yrDc-sAKDUCG",
        "colab_type": "text"
      },
      "source": [
        "No, so we don't need to drop any rows. And what about the `cleaning_fee`?"
      ]
    },
    {
      "cell_type": "code",
      "metadata": {
        "trusted": true,
        "_uuid": "825b5cf5dce2b8a897d32caffb4fd716a4a199cf",
        "id": "neeogkCYDUCJ",
        "colab_type": "code",
        "outputId": "a1a27ed5-6052-4960-ec7e-74c8c7c67ef5",
        "colab": {
          "base_uri": "https://localhost:8080/",
          "height": 34
        }
      },
      "source": [
        "# Nan's in \"cleaning_fee\" column\n",
        "df_raw.cleaning_fee.isna().sum()"
      ],
      "execution_count": 227,
      "outputs": [
        {
          "output_type": "execute_result",
          "data": {
            "text/plain": [
              "7146"
            ]
          },
          "metadata": {
            "tags": []
          },
          "execution_count": 227
        }
      ]
    },
    {
      "cell_type": "markdown",
      "metadata": {
        "_uuid": "ef8b515e04526a732544e87703d9399f031e1e1d",
        "id": "9yXP6ZugDUCR",
        "colab_type": "text"
      },
      "source": [
        "There are plenty of Nan's. It's more than likely that these hosts do not charge any extra cleaning fee. So let's simply replace these null values with $0.00:"
      ]
    },
    {
      "cell_type": "code",
      "metadata": {
        "trusted": true,
        "_uuid": "038321b0bdc33aa48fdd0e6bf8017d6d8db3ed54",
        "id": "S2eW0U3aDUCU",
        "colab_type": "code",
        "outputId": "30ac8c01-d0c8-4437-a3b1-d67d92fbf873",
        "colab": {
          "base_uri": "https://localhost:8080/",
          "height": 34
        }
      },
      "source": [
        "df_raw.cleaning_fee.fillna('$0.00', inplace=True)\n",
        "df_raw.cleaning_fee.isna().sum()"
      ],
      "execution_count": 228,
      "outputs": [
        {
          "output_type": "execute_result",
          "data": {
            "text/plain": [
              "0"
            ]
          },
          "metadata": {
            "tags": []
          },
          "execution_count": 228
        }
      ]
    },
    {
      "cell_type": "markdown",
      "metadata": {
        "_uuid": "7b1a44d36c2dac7ef5eceb76e5d6f55cf33413b7",
        "id": "EpPeu5RbDUCe",
        "colab_type": "text"
      },
      "source": [
        "The same is true for the `security_deposit`:"
      ]
    },
    {
      "cell_type": "code",
      "metadata": {
        "trusted": true,
        "_uuid": "f2c98e0c789b4e42096c7d729092b0b676b3dccf",
        "id": "uY0FnJHGDUCg",
        "colab_type": "code",
        "outputId": "5e565d43-e2b4-4685-e537-7c9e83ddc378",
        "colab": {
          "base_uri": "https://localhost:8080/",
          "height": 34
        }
      },
      "source": [
        "df_raw.security_deposit.isna().sum()"
      ],
      "execution_count": 229,
      "outputs": [
        {
          "output_type": "execute_result",
          "data": {
            "text/plain": [
              "9361"
            ]
          },
          "metadata": {
            "tags": []
          },
          "execution_count": 229
        }
      ]
    },
    {
      "cell_type": "code",
      "metadata": {
        "trusted": true,
        "_uuid": "2deda6da721faa0c25db24eadb000bd58da24890",
        "id": "aJjOgIVRDUCo",
        "colab_type": "code",
        "outputId": "5bd3cfd9-41d8-4333-8abc-615a772bb63a",
        "colab": {
          "base_uri": "https://localhost:8080/",
          "height": 34
        }
      },
      "source": [
        "df_raw.security_deposit.fillna('$0.00', inplace=True)\n",
        "df_raw.security_deposit.isna().sum()"
      ],
      "execution_count": 230,
      "outputs": [
        {
          "output_type": "execute_result",
          "data": {
            "text/plain": [
              "0"
            ]
          },
          "metadata": {
            "tags": []
          },
          "execution_count": 230
        }
      ]
    },
    {
      "cell_type": "code",
      "metadata": {
        "trusted": true,
        "_uuid": "6210700b9fcac89834a910ea65c92fcf72b1bd15",
        "id": "_-liAjhODUC0",
        "colab_type": "code",
        "outputId": "6b1c5d11-79c5-4ce1-c18e-7ec3e5771c92",
        "colab": {
          "base_uri": "https://localhost:8080/",
          "height": 34
        }
      },
      "source": [
        "df_raw.extra_people.isna().sum()"
      ],
      "execution_count": 231,
      "outputs": [
        {
          "output_type": "execute_result",
          "data": {
            "text/plain": [
              "0"
            ]
          },
          "metadata": {
            "tags": []
          },
          "execution_count": 231
        }
      ]
    },
    {
      "cell_type": "markdown",
      "metadata": {
        "_uuid": "f4793baef8be9cc8847379ceb93d31f35776d698",
        "id": "Mxs-Oy6ODUDB",
        "colab_type": "text"
      },
      "source": [
        "Let's remove the dollar signs in all four columns and convert the string values into numerical ones:"
      ]
    },
    {
      "cell_type": "code",
      "metadata": {
        "trusted": true,
        "_uuid": "98f99f9d3bb94415650dd153993c8cc1efd31eec",
        "id": "xf8VCURvDUDE",
        "colab_type": "code",
        "colab": {}
      },
      "source": [
        "# clean up the columns (by method chaining)\n",
        "df_raw.price = df_raw.price.str.replace('$', '').str.replace(',', '').astype(float)\n",
        "df_raw.cleaning_fee = df_raw.cleaning_fee.str.replace('$', '').str.replace(',', '').astype(float)\n",
        "df_raw.security_deposit = df_raw.security_deposit.str.replace('$', '').str.replace(',', '').astype(float)\n",
        "df_raw.extra_people = df_raw.extra_people.str.replace('$', '').str.replace(',', '').astype(float)"
      ],
      "execution_count": 0,
      "outputs": []
    },
    {
      "cell_type": "markdown",
      "metadata": {
        "_uuid": "24c783d2a65fa9c7df257adbd772a5932dad1d7c",
        "id": "_O47G0JtDUDS",
        "colab_type": "text"
      },
      "source": [
        "We shouldn't miss investigating the `price` - it might need some cleaning to be of use to us:"
      ]
    },
    {
      "cell_type": "code",
      "metadata": {
        "trusted": true,
        "_uuid": "9bcc18faf3ad33549171885ba9e316c854fe370f",
        "id": "muodMCxrDUDV",
        "colab_type": "code",
        "outputId": "4b69aef7-0913-4c56-9966-0cfc83f2be3c",
        "colab": {
          "base_uri": "https://localhost:8080/",
          "height": 170
        }
      },
      "source": [
        "df_raw['price'].describe()"
      ],
      "execution_count": 233,
      "outputs": [
        {
          "output_type": "execute_result",
          "data": {
            "text/plain": [
              "count    22552.000000\n",
              "mean        67.143668\n",
              "std        220.266210\n",
              "min          0.000000\n",
              "25%         30.000000\n",
              "50%         45.000000\n",
              "75%         70.000000\n",
              "max       9000.000000\n",
              "Name: price, dtype: float64"
            ]
          },
          "metadata": {
            "tags": []
          },
          "execution_count": 233
        }
      ]
    },
    {
      "cell_type": "code",
      "metadata": {
        "trusted": true,
        "_uuid": "0779a26846f6e8cda56160f4e83b94c8820771d3",
        "id": "2HHH0IheDUDx",
        "colab_type": "code",
        "outputId": "bec1eedb-b194-4997-f6b2-7855f3bcb973",
        "colab": {
          "base_uri": "https://localhost:8080/",
          "height": 157
        }
      },
      "source": [
        "red_square = dict(markerfacecolor='r', markeredgecolor='r', marker='.')\n",
        "df_raw['price'].plot(kind='box', xlim=(0, 1000), vert=False, flierprops=red_square, figsize=(16,2));"
      ],
      "execution_count": 234,
      "outputs": [
        {
          "output_type": "display_data",
          "data": {
            "image/png": "[encoded data removed]",
            "text/plain": [
              "<Figure size 1152x144 with 1 Axes>"
            ]
          },
          "metadata": {
            "tags": []
          }
        }
      ]
    },
    {
      "cell_type": "markdown",
      "metadata": {
        "_uuid": "afc710ccfa2cf5de269fe9c86c97ef7efcf9f8b4",
        "id": "umz9YPYgDUEl",
        "colab_type": "text"
      },
      "source": [
        "A bit messy, as expected! \n",
        "\n",
        "75% of the apartments charge up to 68€ - but the maximum value is 9000€. Let's decide on a limit of 400€, after which the outliers seem to \"fringe\", and drop all records that charge more than that. Oddly enough, we have prices set to zero. So let's drop those records, too:"
      ]
    },
    {
      "cell_type": "code",
      "metadata": {
        "trusted": true,
        "_uuid": "bf28be9596521c708712eda83c921e1d7e181d10",
        "id": "1rqOyF3HDUEo",
        "colab_type": "code",
        "colab": {}
      },
      "source": [
        "df_raw.drop(df_raw[ (df_raw.price > 400) | (df_raw.price == 0) ].index, axis=0, inplace=True)"
      ],
      "execution_count": 0,
      "outputs": []
    },
    {
      "cell_type": "code",
      "metadata": {
        "trusted": true,
        "_uuid": "b159b4764f76838f96ca2a68d2c64bed4c416086",
        "id": "yZFfz-WxDUEx",
        "colab_type": "code",
        "outputId": "8157394f-a1d6-4586-f39d-6ae47dd2d7fe",
        "colab": {
          "base_uri": "https://localhost:8080/",
          "height": 170
        }
      },
      "source": [
        "df_raw['price'].describe()"
      ],
      "execution_count": 236,
      "outputs": [
        {
          "output_type": "execute_result",
          "data": {
            "text/plain": [
              "count    22441.000000\n",
              "mean        57.584377\n",
              "std         42.162006\n",
              "min          1.000000\n",
              "25%         30.000000\n",
              "50%         45.000000\n",
              "75%         70.000000\n",
              "max        400.000000\n",
              "Name: price, dtype: float64"
            ]
          },
          "metadata": {
            "tags": []
          },
          "execution_count": 236
        }
      ]
    },
    {
      "cell_type": "code",
      "metadata": {
        "trusted": true,
        "_uuid": "900b21bc427bbf9517336b47c2f494bfd7c3ed24",
        "id": "tzJW5aLvDUE4",
        "colab_type": "code",
        "outputId": "4ce3db9a-c5db-403f-9e7c-a871ab0c170b",
        "colab": {
          "base_uri": "https://localhost:8080/",
          "height": 34
        }
      },
      "source": [
        "print(\"The dataset has {} rows and {} columns - after being price-wise preprocessed.\".format(*df_raw.shape))"
      ],
      "execution_count": 237,
      "outputs": [
        {
          "output_type": "stream",
          "text": [
            "The dataset has 22441 rows and 23 columns - after being price-wise preprocessed.\n"
          ],
          "name": "stdout"
        }
      ]
    },
    {
      "cell_type": "markdown",
      "metadata": {
        "_uuid": "a32221e4de4810d0f125cd8b91d35da077a4efed",
        "id": "gGHsQMlFDUFG",
        "colab_type": "text"
      },
      "source": [
        "*Back to: <a href='#Table of contents'> Table of contents</a>*\n",
        "#### 2.3. Dealing with Missing Values\n",
        "<a id='2.3. Dealing with Missing Values'></a>"
      ]
    },
    {
      "cell_type": "code",
      "metadata": {
        "trusted": true,
        "_uuid": "dafb873ecf5c408f22650b5c6a8296ac8716de54",
        "id": "9FS_jzq-DUFI",
        "colab_type": "code",
        "outputId": "a74e1ca2-205e-40bf-c61b-ae462236938c",
        "colab": {
          "base_uri": "https://localhost:8080/",
          "height": 425
        }
      },
      "source": [
        "df_raw.isna().sum()"
      ],
      "execution_count": 238,
      "outputs": [
        {
          "output_type": "execute_result",
          "data": {
            "text/plain": [
              "space                            8503\n",
              "description                       202\n",
              "host_has_profile_pic               25\n",
              "neighbourhood_group_cleansed        0\n",
              "latitude                            0\n",
              "longitude                           0\n",
              "property_type                       0\n",
              "room_type                           0\n",
              "accommodates                        0\n",
              "bathrooms                          32\n",
              "bedrooms                           18\n",
              "bed_type                            0\n",
              "amenities                           0\n",
              "square_feet                     21996\n",
              "price                               0\n",
              "cleaning_fee                        0\n",
              "security_deposit                    0\n",
              "extra_people                        0\n",
              "guests_included                     0\n",
              "minimum_nights                      0\n",
              "instant_bookable                    0\n",
              "is_business_travel_ready            0\n",
              "cancellation_policy                 0\n",
              "dtype: int64"
            ]
          },
          "metadata": {
            "tags": []
          },
          "execution_count": 238
        }
      ]
    },
    {
      "cell_type": "code",
      "metadata": {
        "trusted": true,
        "_uuid": "1fd60a373edd9ba5f441fe7766ebaa0b2161c378",
        "id": "736xeXDnDUFT",
        "colab_type": "code",
        "colab": {}
      },
      "source": [
        "# drop columns with too many Nan's\n",
        "df_raw.drop(columns=['square_feet', 'space'], inplace=True,axis=1)"
      ],
      "execution_count": 0,
      "outputs": []
    },
    {
      "cell_type": "code",
      "metadata": {
        "trusted": true,
        "_uuid": "5d3f0e92c63d6f8837a2a1f58a72ec2038aec06d",
        "id": "L-23yRhKDUFa",
        "colab_type": "code",
        "colab": {}
      },
      "source": [
        "# drop rows with NaN's in bathrooms and bedrooms\n",
        "df_raw.dropna(subset=['bathrooms', 'bedrooms', ], inplace=True)"
      ],
      "execution_count": 0,
      "outputs": []
    },
    {
      "cell_type": "code",
      "metadata": {
        "trusted": true,
        "_uuid": "dad60adaaac113c2dc14ff0c0d0b8ba60741a6a6",
        "id": "eOXwqsRrDUFk",
        "colab_type": "code",
        "outputId": "8493b446-e0da-460f-a951-81606427ae96",
        "colab": {
          "base_uri": "https://localhost:8080/",
          "height": 34
        }
      },
      "source": [
        "df_raw.host_has_profile_pic.unique()"
      ],
      "execution_count": 241,
      "outputs": [
        {
          "output_type": "execute_result",
          "data": {
            "text/plain": [
              "array(['t', 'f', nan], dtype=object)"
            ]
          },
          "metadata": {
            "tags": []
          },
          "execution_count": 241
        }
      ]
    },
    {
      "cell_type": "code",
      "metadata": {
        "trusted": true,
        "_uuid": "f236202db45057a75eee92de79ffb1830aeee306",
        "id": "tsJiouuLDUFp",
        "colab_type": "code",
        "outputId": "e7207163-2994-4f5a-e268-89ed6a353d56",
        "colab": {
          "base_uri": "https://localhost:8080/",
          "height": 34
        }
      },
      "source": [
        "# replace host_has_profile_pic Nan's with no\n",
        "df_raw.host_has_profile_pic.fillna(value='f', inplace=True)\n",
        "df_raw.host_has_profile_pic.unique()"
      ],
      "execution_count": 242,
      "outputs": [
        {
          "output_type": "execute_result",
          "data": {
            "text/plain": [
              "array(['t', 'f'], dtype=object)"
            ]
          },
          "metadata": {
            "tags": []
          },
          "execution_count": 242
        }
      ]
    },
    {
      "cell_type": "code",
      "metadata": {
        "trusted": true,
        "_uuid": "bcf8f55cfd5340e2602af264576ec49206b48be1",
        "id": "beCydqrADUFx",
        "colab_type": "code",
        "outputId": "9fabeff2-867f-44b9-dba8-81aa52ba7257",
        "colab": {
          "base_uri": "https://localhost:8080/",
          "height": 391
        }
      },
      "source": [
        "df_raw.isna().sum()"
      ],
      "execution_count": 243,
      "outputs": [
        {
          "output_type": "execute_result",
          "data": {
            "text/plain": [
              "description                     202\n",
              "host_has_profile_pic              0\n",
              "neighbourhood_group_cleansed      0\n",
              "latitude                          0\n",
              "longitude                         0\n",
              "property_type                     0\n",
              "room_type                         0\n",
              "accommodates                      0\n",
              "bathrooms                         0\n",
              "bedrooms                          0\n",
              "bed_type                          0\n",
              "amenities                         0\n",
              "price                             0\n",
              "cleaning_fee                      0\n",
              "security_deposit                  0\n",
              "extra_people                      0\n",
              "guests_included                   0\n",
              "minimum_nights                    0\n",
              "instant_bookable                  0\n",
              "is_business_travel_ready          0\n",
              "cancellation_policy               0\n",
              "dtype: int64"
            ]
          },
          "metadata": {
            "tags": []
          },
          "execution_count": 243
        }
      ]
    },
    {
      "cell_type": "code",
      "metadata": {
        "trusted": true,
        "_uuid": "3ef583ae18300fc053ebada9b0d71099f97aaa12",
        "id": "qoI_9FNeDUF-",
        "colab_type": "code",
        "outputId": "4e528f11-3e0f-488e-bb2f-ab54cd699e4a",
        "colab": {
          "base_uri": "https://localhost:8080/",
          "height": 34
        }
      },
      "source": [
        "print(\"The dataset has {} rows and {} columns - after having dealt with missing values.\".format(*df_raw.shape))"
      ],
      "execution_count": 244,
      "outputs": [
        {
          "output_type": "stream",
          "text": [
            "The dataset has 22391 rows and 21 columns - after having dealt with missing values.\n"
          ],
          "name": "stdout"
        }
      ]
    },
    {
      "cell_type": "markdown",
      "metadata": {
        "_uuid": "ca3d74eac079d01fa796cf4cb8bc342e36fa6b52",
        "id": "f4QiN7kYDUGE",
        "colab_type": "text"
      },
      "source": [
        "*Back to: <a href='#Table of contents'> Table of contents</a>*\n",
        "#### 2.4. Feature Engineering 1: Distance to Centroid of Berlin\n",
        "<a id='2.4. Feature Engineering 1: Distance to Centroid of Berlin'></a>"
      ]
    },
    {
      "cell_type": "markdown",
      "metadata": {
        "_uuid": "ba14d2999a1548e3ba7b1d8a2fbdec3d7ea43c79",
        "id": "5ARPlzC9DUGG",
        "colab_type": "text"
      },
      "source": [
        "Location is always an important factor in lodging services. To make it more descriptive, I decided to calculate each accommodation's distance to the so-called centroid of Berlin instead of just relying on the neighbourhoods or areas. \n",
        "\n",
        "For our convenience, let's write a quick function that does this, apply it to each accommodation, and store the values in a new column:"
      ]
    },
    {
      "cell_type": "code",
      "metadata": {
        "trusted": true,
        "_uuid": "479b0e6e2a4e369113dd6c0cf5a76d887c986082",
        "id": "heX-DEGxDUGI",
        "colab_type": "code",
        "colab": {}
      },
      "source": [
        "from geopy.distance import great_circle"
      ],
      "execution_count": 0,
      "outputs": []
    },
    {
      "cell_type": "code",
      "metadata": {
        "trusted": true,
        "_uuid": "d10eabeb4a5763b7694ca7ece15b6420d693887d",
        "id": "LBhiyih3DUGO",
        "colab_type": "code",
        "colab": {}
      },
      "source": [
        "def distance_to_mid(lat, lon):\n",
        "    berlin_centre = (52.5027778, 13.404166666666667)\n",
        "    accommodation = (lat, lon)\n",
        "    return great_circle(berlin_centre, accommodation).km"
      ],
      "execution_count": 0,
      "outputs": []
    },
    {
      "cell_type": "code",
      "metadata": {
        "trusted": true,
        "_uuid": "11e37198de0aac376cde60dd226b979e6edf8146",
        "id": "e5V8KOuRDUGW",
        "colab_type": "code",
        "colab": {}
      },
      "source": [
        "df_raw['distance'] = df_raw.apply(lambda x: distance_to_mid(x.latitude, x.longitude), axis=1)"
      ],
      "execution_count": 0,
      "outputs": []
    },
    {
      "cell_type": "code",
      "metadata": {
        "trusted": true,
        "_uuid": "665cff3249bf5ac712eb421db5c805b8361e6bcc",
        "id": "Rcz29VQADUGm",
        "colab_type": "code",
        "outputId": "41429512-fff5-4123-f5d0-ef3e4d984087",
        "colab": {
          "base_uri": "https://localhost:8080/",
          "height": 315
        }
      },
      "source": [
        "df_raw.head(2)"
      ],
      "execution_count": 248,
      "outputs": [
        {
          "output_type": "execute_result",
          "data": {
            "text/html": [
              "<div>\n",
              "<style scoped>\n",
              "    .dataframe tbody tr th:only-of-type {\n",
              "        vertical-align: middle;\n",
              "    }\n",
              "\n",
              "    .dataframe tbody tr th {\n",
              "        vertical-align: top;\n",
              "    }\n",
              "\n",
              "    .dataframe thead th {\n",
              "        text-align: right;\n",
              "    }\n",
              "</style>\n",
              "<table border=\"1\" class=\"dataframe\">\n",
              "  <thead>\n",
              "    <tr style=\"text-align: right;\">\n",
              "      <th></th>\n",
              "      <th>description</th>\n",
              "      <th>host_has_profile_pic</th>\n",
              "      <th>neighbourhood_group_cleansed</th>\n",
              "      <th>latitude</th>\n",
              "      <th>longitude</th>\n",
              "      <th>property_type</th>\n",
              "      <th>room_type</th>\n",
              "      <th>accommodates</th>\n",
              "      <th>bathrooms</th>\n",
              "      <th>bedrooms</th>\n",
              "      <th>bed_type</th>\n",
              "      <th>amenities</th>\n",
              "      <th>price</th>\n",
              "      <th>cleaning_fee</th>\n",
              "      <th>security_deposit</th>\n",
              "      <th>extra_people</th>\n",
              "      <th>guests_included</th>\n",
              "      <th>minimum_nights</th>\n",
              "      <th>instant_bookable</th>\n",
              "      <th>is_business_travel_ready</th>\n",
              "      <th>cancellation_policy</th>\n",
              "      <th>distance</th>\n",
              "    </tr>\n",
              "    <tr>\n",
              "      <th>id</th>\n",
              "      <th></th>\n",
              "      <th></th>\n",
              "      <th></th>\n",
              "      <th></th>\n",
              "      <th></th>\n",
              "      <th></th>\n",
              "      <th></th>\n",
              "      <th></th>\n",
              "      <th></th>\n",
              "      <th></th>\n",
              "      <th></th>\n",
              "      <th></th>\n",
              "      <th></th>\n",
              "      <th></th>\n",
              "      <th></th>\n",
              "      <th></th>\n",
              "      <th></th>\n",
              "      <th></th>\n",
              "      <th></th>\n",
              "      <th></th>\n",
              "      <th></th>\n",
              "      <th></th>\n",
              "    </tr>\n",
              "  </thead>\n",
              "  <tbody>\n",
              "    <tr>\n",
              "      <th>2015</th>\n",
              "      <td>Great location!  30 of 75 sq meters. This wood...</td>\n",
              "      <td>t</td>\n",
              "      <td>Mitte</td>\n",
              "      <td>52.534537</td>\n",
              "      <td>13.402557</td>\n",
              "      <td>Guesthouse</td>\n",
              "      <td>Entire home/apt</td>\n",
              "      <td>3</td>\n",
              "      <td>1.0</td>\n",
              "      <td>1.0</td>\n",
              "      <td>Real Bed</td>\n",
              "      <td>{TV,\"Cable TV\",Wifi,Kitchen,Gym,Heating,\"Famil...</td>\n",
              "      <td>60.0</td>\n",
              "      <td>30.0</td>\n",
              "      <td>200.0</td>\n",
              "      <td>28.0</td>\n",
              "      <td>1</td>\n",
              "      <td>4</td>\n",
              "      <td>f</td>\n",
              "      <td>f</td>\n",
              "      <td>strict_14_with_grace_period</td>\n",
              "      <td>3.533182</td>\n",
              "    </tr>\n",
              "    <tr>\n",
              "      <th>2695</th>\n",
              "      <td>In the summertime we are spending most of our ...</td>\n",
              "      <td>t</td>\n",
              "      <td>Pankow</td>\n",
              "      <td>52.548513</td>\n",
              "      <td>13.404553</td>\n",
              "      <td>Apartment</td>\n",
              "      <td>Private room</td>\n",
              "      <td>2</td>\n",
              "      <td>1.0</td>\n",
              "      <td>1.0</td>\n",
              "      <td>Real Bed</td>\n",
              "      <td>{Wifi,Kitchen,Elevator,Heating,Washer,Essentia...</td>\n",
              "      <td>17.0</td>\n",
              "      <td>0.0</td>\n",
              "      <td>0.0</td>\n",
              "      <td>0.0</td>\n",
              "      <td>1</td>\n",
              "      <td>2</td>\n",
              "      <td>f</td>\n",
              "      <td>f</td>\n",
              "      <td>flexible</td>\n",
              "      <td>5.085573</td>\n",
              "    </tr>\n",
              "  </tbody>\n",
              "</table>\n",
              "</div>"
            ],
            "text/plain": [
              "                                            description  ...  distance\n",
              "id                                                       ...          \n",
              "2015  Great location!  30 of 75 sq meters. This wood...  ...  3.533182\n",
              "2695  In the summertime we are spending most of our ...  ...  5.085573\n",
              "\n",
              "[2 rows x 22 columns]"
            ]
          },
          "metadata": {
            "tags": []
          },
          "execution_count": 248
        }
      ]
    },
    {
      "cell_type": "markdown",
      "metadata": {
        "_uuid": "b50017dcbf3970ec84079732844f84c02b733d5a",
        "id": "uDs-LZcDDUGz",
        "colab_type": "text"
      },
      "source": [
        "*Back to: <a href='#Table of contents'> Table of contents</a>*\n",
        "#### 2.5. Feature Engineering 2: Lodging Size\n",
        "<a id='2.5. Feature Engineering 2: Lodging Size'></a>"
      ]
    },
    {
      "cell_type": "markdown",
      "metadata": {
        "_uuid": "9b53d21fdf1499d172074f35b59aec2629f7cefa",
        "id": "RMD8XG7CDUG2",
        "colab_type": "text"
      },
      "source": [
        "One of the most important pieces of information for predicting the rate is the size. Since the column `square_feet` was heavily filled with null values, we dropped it in the previous section. (Besides, size in Germany is expressed in square meters, not in square feet.)\n",
        "\n",
        "Let's check, if the column `description` reveals any information about size instead: "
      ]
    },
    {
      "cell_type": "code",
      "metadata": {
        "trusted": true,
        "_uuid": "c7adab3267aff071057d2da6e5e30e4c01cf0fa5",
        "id": "0fgp1E1MDUG4",
        "colab_type": "code",
        "colab": {}
      },
      "source": [
        "#list(df_raw.description[:10])"
      ],
      "execution_count": 0,
      "outputs": []
    },
    {
      "cell_type": "code",
      "metadata": {
        "trusted": true,
        "_uuid": "96b81ccfe8f0813efb5a73c514a1edff9c173710",
        "id": "0lUyXIC2DUHC",
        "colab_type": "code",
        "outputId": "e2ba97e8-d3b3-4d45-bd57-c7910ed876eb",
        "colab": {
          "base_uri": "https://localhost:8080/",
          "height": 34
        }
      },
      "source": [
        "df_raw.description.isna().sum()"
      ],
      "execution_count": 250,
      "outputs": [
        {
          "output_type": "execute_result",
          "data": {
            "text/plain": [
              "202"
            ]
          },
          "metadata": {
            "tags": []
          },
          "execution_count": 250
        }
      ]
    },
    {
      "cell_type": "markdown",
      "metadata": {
        "_uuid": "b24f845b5727da9b79fad71abcbf3f60831b4b68",
        "id": "TIGKU7oxDUHc",
        "colab_type": "text"
      },
      "source": [
        "The `description` column seems to be rich in content. Let's extract \n",
        "- all double-digit or three-digit numbers \n",
        "- that are followed by one of the two characters \"s\" or \"m\" (covering \"sqm\", \"square meters\", \"m2\" etc.) and \n",
        "- may or may not be connected by white space. \n",
        "\n",
        "Single- or more than three-digit numbers for accommodation sizes are quite unlikely.\n",
        "\n",
        "I know, it's a bold move - but let's give it a try..."
      ]
    },
    {
      "cell_type": "markdown",
      "metadata": {
        "_uuid": "749ba41fc6e3240e4da5bd40271ffee090391768",
        "id": "luiNmp7MDUHe",
        "colab_type": "text"
      },
      "source": [
        "***Extracting size from text***"
      ]
    },
    {
      "cell_type": "code",
      "metadata": {
        "trusted": true,
        "_uuid": "b49e7d274fc6cd57a5b92b7d291d945efd388107",
        "id": "OYLlFPqaDUHg",
        "colab_type": "code",
        "outputId": "18e3db01-0912-4f3f-8b72-b8684640f6fc",
        "colab": {
          "base_uri": "https://localhost:8080/",
          "height": 51
        }
      },
      "source": [
        "# extract numbers \n",
        "df_raw['size'] = df_raw['description'].str.extract('(\\d{2,3}\\s?[smSM])', expand=True)\n",
        "df_raw['size'] = df_raw['size'].str.replace(\"\\D\", \"\")\n",
        "\n",
        "# change datatype of size into float\n",
        "df_raw['size'] = df_raw['size'].astype(float)\n",
        "\n",
        "print('NaNs in size_column absolute:     ', df_raw['size'].isna().sum())\n",
        "print('NaNs in size_column in percentage:', round(df_raw['size'].isna().sum()/len(df_raw),3), '%')"
      ],
      "execution_count": 251,
      "outputs": [
        {
          "output_type": "stream",
          "text": [
            "NaNs in size_column absolute:      11721\n",
            "NaNs in size_column in percentage: 0.523 %\n"
          ],
          "name": "stdout"
        }
      ]
    },
    {
      "cell_type": "code",
      "metadata": {
        "trusted": true,
        "_uuid": "f5c0179224b197bd3921f59f2589b68fc6ef268e",
        "id": "5aCI3ynlDUHo",
        "colab_type": "code",
        "outputId": "aafe0514-e414-4faf-83c6-572ac7ddd0ab",
        "colab": {
          "base_uri": "https://localhost:8080/",
          "height": 390
        }
      },
      "source": [
        "df_raw[['description', 'size']].head(10)"
      ],
      "execution_count": 252,
      "outputs": [
        {
          "output_type": "execute_result",
          "data": {
            "text/html": [
              "<div>\n",
              "<style scoped>\n",
              "    .dataframe tbody tr th:only-of-type {\n",
              "        vertical-align: middle;\n",
              "    }\n",
              "\n",
              "    .dataframe tbody tr th {\n",
              "        vertical-align: top;\n",
              "    }\n",
              "\n",
              "    .dataframe thead th {\n",
              "        text-align: right;\n",
              "    }\n",
              "</style>\n",
              "<table border=\"1\" class=\"dataframe\">\n",
              "  <thead>\n",
              "    <tr style=\"text-align: right;\">\n",
              "      <th></th>\n",
              "      <th>description</th>\n",
              "      <th>size</th>\n",
              "    </tr>\n",
              "    <tr>\n",
              "      <th>id</th>\n",
              "      <th></th>\n",
              "      <th></th>\n",
              "    </tr>\n",
              "  </thead>\n",
              "  <tbody>\n",
              "    <tr>\n",
              "      <th>2015</th>\n",
              "      <td>Great location!  30 of 75 sq meters. This wood...</td>\n",
              "      <td>75.0</td>\n",
              "    </tr>\n",
              "    <tr>\n",
              "      <th>2695</th>\n",
              "      <td>In the summertime we are spending most of our ...</td>\n",
              "      <td>25.0</td>\n",
              "    </tr>\n",
              "    <tr>\n",
              "      <th>3176</th>\n",
              "      <td>This beautiful first floor apartment  is situa...</td>\n",
              "      <td>68.0</td>\n",
              "    </tr>\n",
              "    <tr>\n",
              "      <th>3309</th>\n",
              "      <td>First of all: I prefer short-notice bookings. ...</td>\n",
              "      <td>26.0</td>\n",
              "    </tr>\n",
              "    <tr>\n",
              "      <th>7071</th>\n",
              "      <td>Cozy and large room in the beautiful district ...</td>\n",
              "      <td>20.0</td>\n",
              "    </tr>\n",
              "    <tr>\n",
              "      <th>9991</th>\n",
              "      <td>4 bedroom with very large windows and outstand...</td>\n",
              "      <td>780.0</td>\n",
              "    </tr>\n",
              "    <tr>\n",
              "      <th>14325</th>\n",
              "      <td>The apartment is located on the upper second f...</td>\n",
              "      <td>NaN</td>\n",
              "    </tr>\n",
              "    <tr>\n",
              "      <th>16401</th>\n",
              "      <td>Hello future guests! We want to rent our cute ...</td>\n",
              "      <td>55.0</td>\n",
              "    </tr>\n",
              "    <tr>\n",
              "      <th>16644</th>\n",
              "      <td>Light and sunny 2-Room-turn of the century-fla...</td>\n",
              "      <td>80.0</td>\n",
              "    </tr>\n",
              "    <tr>\n",
              "      <th>17409</th>\n",
              "      <td>The 25 sqm room is located in the heart of Ber...</td>\n",
              "      <td>25.0</td>\n",
              "    </tr>\n",
              "  </tbody>\n",
              "</table>\n",
              "</div>"
            ],
            "text/plain": [
              "                                             description   size\n",
              "id                                                             \n",
              "2015   Great location!  30 of 75 sq meters. This wood...   75.0\n",
              "2695   In the summertime we are spending most of our ...   25.0\n",
              "3176   This beautiful first floor apartment  is situa...   68.0\n",
              "3309   First of all: I prefer short-notice bookings. ...   26.0\n",
              "7071   Cozy and large room in the beautiful district ...   20.0\n",
              "9991   4 bedroom with very large windows and outstand...  780.0\n",
              "14325  The apartment is located on the upper second f...    NaN\n",
              "16401  Hello future guests! We want to rent our cute ...   55.0\n",
              "16644  Light and sunny 2-Room-turn of the century-fla...   80.0\n",
              "17409  The 25 sqm room is located in the heart of Ber...   25.0"
            ]
          },
          "metadata": {
            "tags": []
          },
          "execution_count": 252
        }
      ]
    },
    {
      "cell_type": "code",
      "metadata": {
        "trusted": true,
        "_uuid": "09610974142f2a056ffcd6a577d8c2e181cc196a",
        "id": "ACruV8_HDUHv",
        "colab_type": "code",
        "colab": {}
      },
      "source": [
        "#list(df_raw.description[:10])"
      ],
      "execution_count": 0,
      "outputs": []
    },
    {
      "cell_type": "markdown",
      "metadata": {
        "_uuid": "2da3551ea97112eb52a3788967f3e1d4a7f8d580",
        "id": "XAtMbH_3DUH1",
        "colab_type": "text"
      },
      "source": [
        "Comparing the results, we did a pretty good job with the first 4 records, but filtered an incorrect number for the last record. Okay, let's keep that in mind: there may be mistakes in the size we engineered from the text! "
      ]
    },
    {
      "cell_type": "code",
      "metadata": {
        "trusted": true,
        "_uuid": "05814f191805549ff4c9cd1614b6bb2b7c2ef8c0",
        "id": "Fk_nsJMGDUH3",
        "colab_type": "code",
        "colab": {}
      },
      "source": [
        "# drop description column\n",
        "df_raw.drop(['description'], axis=1, inplace=True)"
      ],
      "execution_count": 0,
      "outputs": []
    },
    {
      "cell_type": "markdown",
      "metadata": {
        "_uuid": "8d5d1b7cdc0ad112e5f5969173532aeb76fa69cd",
        "id": "Y72xVceuDUIa",
        "colab_type": "text"
      },
      "source": [
        "***Predicting missing values with regression***"
      ]
    },
    {
      "cell_type": "markdown",
      "metadata": {
        "_uuid": "66d868629860b80c311db1521c8191bf4d062b8c",
        "id": "joT6W-u-DUIc",
        "colab_type": "text"
      },
      "source": [
        "As calculated further up, half of our records still don't have a size. That means we have a problem! Dropping these records isn't an option as we would loose too much valuable information. Simply replacing it with the mean or median makes no sense. That leaves a third option: predict the missing value with a Machine Learning Algorithm. To not make it too complicated, we'll only use numerical features. Next, we have to split our data into \n",
        "- a) a training set where we have sizes and \n",
        "- b) a test set where we don't."
      ]
    },
    {
      "cell_type": "code",
      "metadata": {
        "trusted": true,
        "_uuid": "aac3630b59a1c20770294a45655c5d0721691e4a",
        "id": "kvWN0ICjDUIe",
        "colab_type": "code",
        "outputId": "01d148db-c845-4468-8bc8-4dd4e41d2fb9",
        "colab": {
          "base_uri": "https://localhost:8080/",
          "height": 476
        }
      },
      "source": [
        "df_raw.info()"
      ],
      "execution_count": 255,
      "outputs": [
        {
          "output_type": "stream",
          "text": [
            "<class 'pandas.core.frame.DataFrame'>\n",
            "Int64Index: 22391 entries, 2015 to 29867352\n",
            "Data columns (total 22 columns):\n",
            "host_has_profile_pic            22391 non-null object\n",
            "neighbourhood_group_cleansed    22391 non-null object\n",
            "latitude                        22391 non-null float64\n",
            "longitude                       22391 non-null float64\n",
            "property_type                   22391 non-null object\n",
            "room_type                       22391 non-null object\n",
            "accommodates                    22391 non-null int64\n",
            "bathrooms                       22391 non-null float64\n",
            "bedrooms                        22391 non-null float64\n",
            "bed_type                        22391 non-null object\n",
            "amenities                       22391 non-null object\n",
            "price                           22391 non-null float64\n",
            "cleaning_fee                    22391 non-null float64\n",
            "security_deposit                22391 non-null float64\n",
            "extra_people                    22391 non-null float64\n",
            "guests_included                 22391 non-null int64\n",
            "minimum_nights                  22391 non-null int64\n",
            "instant_bookable                22391 non-null object\n",
            "is_business_travel_ready        22391 non-null object\n",
            "cancellation_policy             22391 non-null object\n",
            "distance                        22391 non-null float64\n",
            "size                            10670 non-null float64\n",
            "dtypes: float64(10), int64(3), object(9)\n",
            "memory usage: 3.9+ MB\n"
          ],
          "name": "stdout"
        }
      ]
    },
    {
      "cell_type": "code",
      "metadata": {
        "trusted": true,
        "_uuid": "095983ecd3c257a7e5b6b992b165646e7b67f1c4",
        "id": "ygWvNmNBDUIj",
        "colab_type": "code",
        "colab": {}
      },
      "source": [
        "# filter out sub_df to work with\n",
        "sub_df = df_raw[['accommodates', 'bathrooms', 'bedrooms',  'price', 'cleaning_fee', \n",
        "                 'security_deposit', 'extra_people', 'guests_included', 'distance', 'size']]"
      ],
      "execution_count": 0,
      "outputs": []
    },
    {
      "cell_type": "code",
      "metadata": {
        "trusted": true,
        "_uuid": "f7dbbca5f805af001a9b1f7e79c2e4aec24cff6b",
        "id": "cXC69hHVDUJM",
        "colab_type": "code",
        "colab": {}
      },
      "source": [
        "# split datasets\n",
        "train_data = sub_df[sub_df['size'].notnull()]\n",
        "test_data  = sub_df[sub_df['size'].isnull()]\n",
        "\n",
        "# define X\n",
        "X_train = train_data.drop('size', axis=1)\n",
        "X_test  = test_data.drop('size', axis=1)\n",
        "\n",
        "# define y\n",
        "y_train = train_data['size']"
      ],
      "execution_count": 0,
      "outputs": []
    },
    {
      "cell_type": "code",
      "metadata": {
        "trusted": true,
        "_uuid": "5a741aeb9d1d92df1509b6c149ddf1bd0dbd86b8",
        "id": "eSF91yXiDUJW",
        "colab_type": "code",
        "outputId": "fcc110e9-f67b-4fe2-a864-53623a861515",
        "colab": {
          "base_uri": "https://localhost:8080/",
          "height": 136
        }
      },
      "source": [
        "print(\"Shape of Training Data:\", train_data.shape)\n",
        "print(\"Shape of Test Data:    \",test_data.shape)\n",
        "print(\"\\nShape of X_train:\", X_train.shape)\n",
        "print(\"Shape of X_test:\", X_test.shape)\n",
        "print(\"\\nShape of y_train:\", y_train.shape)"
      ],
      "execution_count": 258,
      "outputs": [
        {
          "output_type": "stream",
          "text": [
            "Shape of Training Data: (10670, 10)\n",
            "Shape of Test Data:     (11721, 10)\n",
            "\n",
            "Shape of X_train: (10670, 9)\n",
            "Shape of X_test: (11721, 9)\n",
            "\n",
            "Shape of y_train: (10670,)\n"
          ],
          "name": "stdout"
        }
      ]
    },
    {
      "cell_type": "code",
      "metadata": {
        "trusted": true,
        "_uuid": "e320edfda01defc46e775370bb7ab9dbf69c23bc",
        "id": "hTgwAjlJDUKB",
        "colab_type": "code",
        "outputId": "59c32ba8-54f6-4df0-eb81-1cb5a83716b2",
        "colab": {
          "base_uri": "https://localhost:8080/",
          "height": 34
        }
      },
      "source": [
        "# import Linear Regression\n",
        "from sklearn.linear_model import LinearRegression\n",
        "\n",
        "# instantiate\n",
        "linreg = LinearRegression()\n",
        "\n",
        "# fit model to training data\n",
        "linreg.fit(X_train, y_train)"
      ],
      "execution_count": 259,
      "outputs": [
        {
          "output_type": "execute_result",
          "data": {
            "text/plain": [
              "LinearRegression(copy_X=True, fit_intercept=True, n_jobs=None, normalize=False)"
            ]
          },
          "metadata": {
            "tags": []
          },
          "execution_count": 259
        }
      ]
    },
    {
      "cell_type": "code",
      "metadata": {
        "trusted": true,
        "_uuid": "a93238b163cf5f1134cc99de6ad80d0ecb45dc20",
        "id": "xyv4br57DUKF",
        "colab_type": "code",
        "colab": {}
      },
      "source": [
        "# making predictions\n",
        "y_test = linreg.predict(X_test)"
      ],
      "execution_count": 0,
      "outputs": []
    },
    {
      "cell_type": "markdown",
      "metadata": {
        "_uuid": "83c94d88dee9ecc092715243c089f799cf050e02",
        "id": "v5-zPB47DUKK",
        "colab_type": "text"
      },
      "source": [
        "Now that we have predicted the missing sizes, let's cast `y_test` into a dataframe with a column `size`:"
      ]
    },
    {
      "cell_type": "code",
      "metadata": {
        "trusted": true,
        "_uuid": "9d9246e971184f96f1634b900d2fa2dc275ae24b",
        "id": "rFrWg_RwDUKL",
        "colab_type": "code",
        "outputId": "ae40c351-c0e4-4bac-f416-21cb29001260",
        "colab": {
          "base_uri": "https://localhost:8080/",
          "height": 221
        }
      },
      "source": [
        "y_test = pd.DataFrame(y_test)\n",
        "y_test.columns = ['size']\n",
        "print(y_test.shape)\n",
        "y_test.head()"
      ],
      "execution_count": 261,
      "outputs": [
        {
          "output_type": "stream",
          "text": [
            "(11721, 1)\n"
          ],
          "name": "stdout"
        },
        {
          "output_type": "execute_result",
          "data": {
            "text/html": [
              "<div>\n",
              "<style scoped>\n",
              "    .dataframe tbody tr th:only-of-type {\n",
              "        vertical-align: middle;\n",
              "    }\n",
              "\n",
              "    .dataframe tbody tr th {\n",
              "        vertical-align: top;\n",
              "    }\n",
              "\n",
              "    .dataframe thead th {\n",
              "        text-align: right;\n",
              "    }\n",
              "</style>\n",
              "<table border=\"1\" class=\"dataframe\">\n",
              "  <thead>\n",
              "    <tr style=\"text-align: right;\">\n",
              "      <th></th>\n",
              "      <th>size</th>\n",
              "    </tr>\n",
              "  </thead>\n",
              "  <tbody>\n",
              "    <tr>\n",
              "      <th>0</th>\n",
              "      <td>56.697281</td>\n",
              "    </tr>\n",
              "    <tr>\n",
              "      <th>1</th>\n",
              "      <td>97.756906</td>\n",
              "    </tr>\n",
              "    <tr>\n",
              "      <th>2</th>\n",
              "      <td>75.831592</td>\n",
              "    </tr>\n",
              "    <tr>\n",
              "      <th>3</th>\n",
              "      <td>88.778838</td>\n",
              "    </tr>\n",
              "    <tr>\n",
              "      <th>4</th>\n",
              "      <td>60.680846</td>\n",
              "    </tr>\n",
              "  </tbody>\n",
              "</table>\n",
              "</div>"
            ],
            "text/plain": [
              "        size\n",
              "0  56.697281\n",
              "1  97.756906\n",
              "2  75.831592\n",
              "3  88.778838\n",
              "4  60.680846"
            ]
          },
          "metadata": {
            "tags": []
          },
          "execution_count": 261
        }
      ]
    },
    {
      "cell_type": "code",
      "metadata": {
        "trusted": true,
        "_uuid": "319521b104f0ae928661c70c49e3043ad1f7ebc2",
        "id": "pH6OI5R3DUKQ",
        "colab_type": "code",
        "outputId": "05b72ebe-d427-4d31-c039-cbcc441e79ad",
        "colab": {
          "base_uri": "https://localhost:8080/",
          "height": 252
        }
      },
      "source": [
        "print(X_test.shape)\n",
        "X_test.head()"
      ],
      "execution_count": 262,
      "outputs": [
        {
          "output_type": "stream",
          "text": [
            "(11721, 9)\n"
          ],
          "name": "stdout"
        },
        {
          "output_type": "execute_result",
          "data": {
            "text/html": [
              "<div>\n",
              "<style scoped>\n",
              "    .dataframe tbody tr th:only-of-type {\n",
              "        vertical-align: middle;\n",
              "    }\n",
              "\n",
              "    .dataframe tbody tr th {\n",
              "        vertical-align: top;\n",
              "    }\n",
              "\n",
              "    .dataframe thead th {\n",
              "        text-align: right;\n",
              "    }\n",
              "</style>\n",
              "<table border=\"1\" class=\"dataframe\">\n",
              "  <thead>\n",
              "    <tr style=\"text-align: right;\">\n",
              "      <th></th>\n",
              "      <th>accommodates</th>\n",
              "      <th>bathrooms</th>\n",
              "      <th>bedrooms</th>\n",
              "      <th>price</th>\n",
              "      <th>cleaning_fee</th>\n",
              "      <th>security_deposit</th>\n",
              "      <th>extra_people</th>\n",
              "      <th>guests_included</th>\n",
              "      <th>distance</th>\n",
              "    </tr>\n",
              "    <tr>\n",
              "      <th>id</th>\n",
              "      <th></th>\n",
              "      <th></th>\n",
              "      <th></th>\n",
              "      <th></th>\n",
              "      <th></th>\n",
              "      <th></th>\n",
              "      <th></th>\n",
              "      <th></th>\n",
              "      <th></th>\n",
              "    </tr>\n",
              "  </thead>\n",
              "  <tbody>\n",
              "    <tr>\n",
              "      <th>14325</th>\n",
              "      <td>2</td>\n",
              "      <td>1.0</td>\n",
              "      <td>0.0</td>\n",
              "      <td>70.0</td>\n",
              "      <td>0.0</td>\n",
              "      <td>500.0</td>\n",
              "      <td>0.0</td>\n",
              "      <td>1</td>\n",
              "      <td>5.012297</td>\n",
              "    </tr>\n",
              "    <tr>\n",
              "      <th>20858</th>\n",
              "      <td>4</td>\n",
              "      <td>1.0</td>\n",
              "      <td>2.0</td>\n",
              "      <td>129.0</td>\n",
              "      <td>49.0</td>\n",
              "      <td>500.0</td>\n",
              "      <td>24.0</td>\n",
              "      <td>2</td>\n",
              "      <td>3.807207</td>\n",
              "    </tr>\n",
              "    <tr>\n",
              "      <th>21869</th>\n",
              "      <td>4</td>\n",
              "      <td>1.0</td>\n",
              "      <td>1.0</td>\n",
              "      <td>70.0</td>\n",
              "      <td>40.0</td>\n",
              "      <td>500.0</td>\n",
              "      <td>18.0</td>\n",
              "      <td>2</td>\n",
              "      <td>2.061292</td>\n",
              "    </tr>\n",
              "    <tr>\n",
              "      <th>22415</th>\n",
              "      <td>4</td>\n",
              "      <td>1.0</td>\n",
              "      <td>2.0</td>\n",
              "      <td>98.0</td>\n",
              "      <td>50.0</td>\n",
              "      <td>300.0</td>\n",
              "      <td>25.0</td>\n",
              "      <td>2</td>\n",
              "      <td>1.868255</td>\n",
              "    </tr>\n",
              "    <tr>\n",
              "      <th>28156</th>\n",
              "      <td>2</td>\n",
              "      <td>1.0</td>\n",
              "      <td>0.0</td>\n",
              "      <td>70.0</td>\n",
              "      <td>0.0</td>\n",
              "      <td>1660.0</td>\n",
              "      <td>0.0</td>\n",
              "      <td>1</td>\n",
              "      <td>4.886509</td>\n",
              "    </tr>\n",
              "  </tbody>\n",
              "</table>\n",
              "</div>"
            ],
            "text/plain": [
              "       accommodates  bathrooms  ...  guests_included  distance\n",
              "id                              ...                           \n",
              "14325             2        1.0  ...                1  5.012297\n",
              "20858             4        1.0  ...                2  3.807207\n",
              "21869             4        1.0  ...                2  2.061292\n",
              "22415             4        1.0  ...                2  1.868255\n",
              "28156             2        1.0  ...                1  4.886509\n",
              "\n",
              "[5 rows x 9 columns]"
            ]
          },
          "metadata": {
            "tags": []
          },
          "execution_count": 262
        }
      ]
    },
    {
      "cell_type": "markdown",
      "metadata": {
        "_uuid": "8938cbc1a6dd520f3896f06820b6585e1dc3811f",
        "id": "hSF7WYk7DUKV",
        "colab_type": "text"
      },
      "source": [
        "To combine `y_test` and `X_test` back to our full test_dataframe, we have to create a bit of a circuit. As we can see here, the `X_test` dataframe has a specific index that's not compatible with `y_test`, where the numbers simply start from 0 onwards. So we need to provide `y_test` with the `X_test` index to make sure everyting fits together."
      ]
    },
    {
      "cell_type": "code",
      "metadata": {
        "trusted": true,
        "_uuid": "c8f50b3977c85bb99fcc5da05608f84cb3ed5523",
        "id": "VXgvPSuGDUKW",
        "colab_type": "code",
        "outputId": "97805af6-a4e5-412a-bae6-93ead56f054b",
        "colab": {
          "base_uri": "https://localhost:8080/",
          "height": 235
        }
      },
      "source": [
        "# make the index of X_test to an own dataframe\n",
        "prelim_index = pd.DataFrame(X_test.index)\n",
        "prelim_index.columns = ['prelim']\n",
        "\n",
        "# ... and concat this dataframe with y_test\n",
        "y_test = pd.concat([y_test, prelim_index], axis=1)\n",
        "y_test.set_index(['prelim'], inplace=True)\n",
        "y_test.head()"
      ],
      "execution_count": 263,
      "outputs": [
        {
          "output_type": "execute_result",
          "data": {
            "text/html": [
              "<div>\n",
              "<style scoped>\n",
              "    .dataframe tbody tr th:only-of-type {\n",
              "        vertical-align: middle;\n",
              "    }\n",
              "\n",
              "    .dataframe tbody tr th {\n",
              "        vertical-align: top;\n",
              "    }\n",
              "\n",
              "    .dataframe thead th {\n",
              "        text-align: right;\n",
              "    }\n",
              "</style>\n",
              "<table border=\"1\" class=\"dataframe\">\n",
              "  <thead>\n",
              "    <tr style=\"text-align: right;\">\n",
              "      <th></th>\n",
              "      <th>size</th>\n",
              "    </tr>\n",
              "    <tr>\n",
              "      <th>prelim</th>\n",
              "      <th></th>\n",
              "    </tr>\n",
              "  </thead>\n",
              "  <tbody>\n",
              "    <tr>\n",
              "      <th>14325</th>\n",
              "      <td>56.697281</td>\n",
              "    </tr>\n",
              "    <tr>\n",
              "      <th>20858</th>\n",
              "      <td>97.756906</td>\n",
              "    </tr>\n",
              "    <tr>\n",
              "      <th>21869</th>\n",
              "      <td>75.831592</td>\n",
              "    </tr>\n",
              "    <tr>\n",
              "      <th>22415</th>\n",
              "      <td>88.778838</td>\n",
              "    </tr>\n",
              "    <tr>\n",
              "      <th>28156</th>\n",
              "      <td>60.680846</td>\n",
              "    </tr>\n",
              "  </tbody>\n",
              "</table>\n",
              "</div>"
            ],
            "text/plain": [
              "             size\n",
              "prelim           \n",
              "14325   56.697281\n",
              "20858   97.756906\n",
              "21869   75.831592\n",
              "22415   88.778838\n",
              "28156   60.680846"
            ]
          },
          "metadata": {
            "tags": []
          },
          "execution_count": 263
        }
      ]
    },
    {
      "cell_type": "code",
      "metadata": {
        "trusted": true,
        "_uuid": "861975dab4b6a771a361cee7c81e950272c17020",
        "id": "uqQdYQoUDUKt",
        "colab_type": "code",
        "colab": {}
      },
      "source": [
        "new_test_data = pd.concat([X_test, y_test], axis=1)"
      ],
      "execution_count": 0,
      "outputs": []
    },
    {
      "cell_type": "code",
      "metadata": {
        "trusted": true,
        "_uuid": "638648b59f021298b350f663fe02ce9269ac653d",
        "id": "GtruWXdhDUK2",
        "colab_type": "code",
        "outputId": "b2c3f5f9-3419-47f6-f266-f2c096110f55",
        "colab": {
          "base_uri": "https://localhost:8080/",
          "height": 221
        }
      },
      "source": [
        "print(new_test_data.shape)\n",
        "new_test_data.head()"
      ],
      "execution_count": 265,
      "outputs": [
        {
          "output_type": "stream",
          "text": [
            "(11721, 10)\n"
          ],
          "name": "stdout"
        },
        {
          "output_type": "execute_result",
          "data": {
            "text/html": [
              "<div>\n",
              "<style scoped>\n",
              "    .dataframe tbody tr th:only-of-type {\n",
              "        vertical-align: middle;\n",
              "    }\n",
              "\n",
              "    .dataframe tbody tr th {\n",
              "        vertical-align: top;\n",
              "    }\n",
              "\n",
              "    .dataframe thead th {\n",
              "        text-align: right;\n",
              "    }\n",
              "</style>\n",
              "<table border=\"1\" class=\"dataframe\">\n",
              "  <thead>\n",
              "    <tr style=\"text-align: right;\">\n",
              "      <th></th>\n",
              "      <th>accommodates</th>\n",
              "      <th>bathrooms</th>\n",
              "      <th>bedrooms</th>\n",
              "      <th>price</th>\n",
              "      <th>cleaning_fee</th>\n",
              "      <th>security_deposit</th>\n",
              "      <th>extra_people</th>\n",
              "      <th>guests_included</th>\n",
              "      <th>distance</th>\n",
              "      <th>size</th>\n",
              "    </tr>\n",
              "  </thead>\n",
              "  <tbody>\n",
              "    <tr>\n",
              "      <th>14325</th>\n",
              "      <td>2</td>\n",
              "      <td>1.0</td>\n",
              "      <td>0.0</td>\n",
              "      <td>70.0</td>\n",
              "      <td>0.0</td>\n",
              "      <td>500.0</td>\n",
              "      <td>0.0</td>\n",
              "      <td>1</td>\n",
              "      <td>5.012297</td>\n",
              "      <td>56.697281</td>\n",
              "    </tr>\n",
              "    <tr>\n",
              "      <th>20858</th>\n",
              "      <td>4</td>\n",
              "      <td>1.0</td>\n",
              "      <td>2.0</td>\n",
              "      <td>129.0</td>\n",
              "      <td>49.0</td>\n",
              "      <td>500.0</td>\n",
              "      <td>24.0</td>\n",
              "      <td>2</td>\n",
              "      <td>3.807207</td>\n",
              "      <td>97.756906</td>\n",
              "    </tr>\n",
              "    <tr>\n",
              "      <th>21869</th>\n",
              "      <td>4</td>\n",
              "      <td>1.0</td>\n",
              "      <td>1.0</td>\n",
              "      <td>70.0</td>\n",
              "      <td>40.0</td>\n",
              "      <td>500.0</td>\n",
              "      <td>18.0</td>\n",
              "      <td>2</td>\n",
              "      <td>2.061292</td>\n",
              "      <td>75.831592</td>\n",
              "    </tr>\n",
              "    <tr>\n",
              "      <th>22415</th>\n",
              "      <td>4</td>\n",
              "      <td>1.0</td>\n",
              "      <td>2.0</td>\n",
              "      <td>98.0</td>\n",
              "      <td>50.0</td>\n",
              "      <td>300.0</td>\n",
              "      <td>25.0</td>\n",
              "      <td>2</td>\n",
              "      <td>1.868255</td>\n",
              "      <td>88.778838</td>\n",
              "    </tr>\n",
              "    <tr>\n",
              "      <th>28156</th>\n",
              "      <td>2</td>\n",
              "      <td>1.0</td>\n",
              "      <td>0.0</td>\n",
              "      <td>70.0</td>\n",
              "      <td>0.0</td>\n",
              "      <td>1660.0</td>\n",
              "      <td>0.0</td>\n",
              "      <td>1</td>\n",
              "      <td>4.886509</td>\n",
              "      <td>60.680846</td>\n",
              "    </tr>\n",
              "  </tbody>\n",
              "</table>\n",
              "</div>"
            ],
            "text/plain": [
              "       accommodates  bathrooms  bedrooms  ...  guests_included  distance       size\n",
              "14325             2        1.0       0.0  ...                1  5.012297  56.697281\n",
              "20858             4        1.0       2.0  ...                2  3.807207  97.756906\n",
              "21869             4        1.0       1.0  ...                2  2.061292  75.831592\n",
              "22415             4        1.0       2.0  ...                2  1.868255  88.778838\n",
              "28156             2        1.0       0.0  ...                1  4.886509  60.680846\n",
              "\n",
              "[5 rows x 10 columns]"
            ]
          },
          "metadata": {
            "tags": []
          },
          "execution_count": 265
        }
      ]
    },
    {
      "cell_type": "code",
      "metadata": {
        "trusted": true,
        "_uuid": "319b4efb617fc87ed16dd18b83c2c49d08756118",
        "id": "L-_FV7b6DUK6",
        "colab_type": "code",
        "outputId": "9a32206c-5307-4fb1-c92a-f6b097e096b8",
        "colab": {
          "base_uri": "https://localhost:8080/",
          "height": 34
        }
      },
      "source": [
        "new_test_data['size'].isna().sum()"
      ],
      "execution_count": 266,
      "outputs": [
        {
          "output_type": "execute_result",
          "data": {
            "text/plain": [
              "0"
            ]
          },
          "metadata": {
            "tags": []
          },
          "execution_count": 266
        }
      ]
    },
    {
      "cell_type": "markdown",
      "metadata": {
        "_uuid": "1fc44633e08ebdcae14f69591a46bce9ca8365f4",
        "id": "7EJTzJXUDULj",
        "colab_type": "text"
      },
      "source": [
        "Once we have completed our new train_data, we stack test_data and train_data back to a new sub_dataframe across the rows:"
      ]
    },
    {
      "cell_type": "code",
      "metadata": {
        "trusted": true,
        "_uuid": "4203809ece3a7d2cdf32923993c04f8a30105b1f",
        "id": "gWL12Tz3DULl",
        "colab_type": "code",
        "outputId": "a0f0411f-f002-4dfc-9f1e-2e5b343a561e",
        "colab": {
          "base_uri": "https://localhost:8080/",
          "height": 221
        }
      },
      "source": [
        "# combine train and test data back to a new sub df\n",
        "sub_df_new = pd.concat([new_test_data, train_data], axis=0)\n",
        "\n",
        "print(sub_df_new.shape)\n",
        "sub_df_new.head()"
      ],
      "execution_count": 267,
      "outputs": [
        {
          "output_type": "stream",
          "text": [
            "(22391, 10)\n"
          ],
          "name": "stdout"
        },
        {
          "output_type": "execute_result",
          "data": {
            "text/html": [
              "<div>\n",
              "<style scoped>\n",
              "    .dataframe tbody tr th:only-of-type {\n",
              "        vertical-align: middle;\n",
              "    }\n",
              "\n",
              "    .dataframe tbody tr th {\n",
              "        vertical-align: top;\n",
              "    }\n",
              "\n",
              "    .dataframe thead th {\n",
              "        text-align: right;\n",
              "    }\n",
              "</style>\n",
              "<table border=\"1\" class=\"dataframe\">\n",
              "  <thead>\n",
              "    <tr style=\"text-align: right;\">\n",
              "      <th></th>\n",
              "      <th>accommodates</th>\n",
              "      <th>bathrooms</th>\n",
              "      <th>bedrooms</th>\n",
              "      <th>price</th>\n",
              "      <th>cleaning_fee</th>\n",
              "      <th>security_deposit</th>\n",
              "      <th>extra_people</th>\n",
              "      <th>guests_included</th>\n",
              "      <th>distance</th>\n",
              "      <th>size</th>\n",
              "    </tr>\n",
              "  </thead>\n",
              "  <tbody>\n",
              "    <tr>\n",
              "      <th>14325</th>\n",
              "      <td>2</td>\n",
              "      <td>1.0</td>\n",
              "      <td>0.0</td>\n",
              "      <td>70.0</td>\n",
              "      <td>0.0</td>\n",
              "      <td>500.0</td>\n",
              "      <td>0.0</td>\n",
              "      <td>1</td>\n",
              "      <td>5.012297</td>\n",
              "      <td>56.697281</td>\n",
              "    </tr>\n",
              "    <tr>\n",
              "      <th>20858</th>\n",
              "      <td>4</td>\n",
              "      <td>1.0</td>\n",
              "      <td>2.0</td>\n",
              "      <td>129.0</td>\n",
              "      <td>49.0</td>\n",
              "      <td>500.0</td>\n",
              "      <td>24.0</td>\n",
              "      <td>2</td>\n",
              "      <td>3.807207</td>\n",
              "      <td>97.756906</td>\n",
              "    </tr>\n",
              "    <tr>\n",
              "      <th>21869</th>\n",
              "      <td>4</td>\n",
              "      <td>1.0</td>\n",
              "      <td>1.0</td>\n",
              "      <td>70.0</td>\n",
              "      <td>40.0</td>\n",
              "      <td>500.0</td>\n",
              "      <td>18.0</td>\n",
              "      <td>2</td>\n",
              "      <td>2.061292</td>\n",
              "      <td>75.831592</td>\n",
              "    </tr>\n",
              "    <tr>\n",
              "      <th>22415</th>\n",
              "      <td>4</td>\n",
              "      <td>1.0</td>\n",
              "      <td>2.0</td>\n",
              "      <td>98.0</td>\n",
              "      <td>50.0</td>\n",
              "      <td>300.0</td>\n",
              "      <td>25.0</td>\n",
              "      <td>2</td>\n",
              "      <td>1.868255</td>\n",
              "      <td>88.778838</td>\n",
              "    </tr>\n",
              "    <tr>\n",
              "      <th>28156</th>\n",
              "      <td>2</td>\n",
              "      <td>1.0</td>\n",
              "      <td>0.0</td>\n",
              "      <td>70.0</td>\n",
              "      <td>0.0</td>\n",
              "      <td>1660.0</td>\n",
              "      <td>0.0</td>\n",
              "      <td>1</td>\n",
              "      <td>4.886509</td>\n",
              "      <td>60.680846</td>\n",
              "    </tr>\n",
              "  </tbody>\n",
              "</table>\n",
              "</div>"
            ],
            "text/plain": [
              "       accommodates  bathrooms  bedrooms  ...  guests_included  distance       size\n",
              "14325             2        1.0       0.0  ...                1  5.012297  56.697281\n",
              "20858             4        1.0       2.0  ...                2  3.807207  97.756906\n",
              "21869             4        1.0       1.0  ...                2  2.061292  75.831592\n",
              "22415             4        1.0       2.0  ...                2  1.868255  88.778838\n",
              "28156             2        1.0       0.0  ...                1  4.886509  60.680846\n",
              "\n",
              "[5 rows x 10 columns]"
            ]
          },
          "metadata": {
            "tags": []
          },
          "execution_count": 267
        }
      ]
    },
    {
      "cell_type": "code",
      "metadata": {
        "trusted": true,
        "_uuid": "eabd1d8e3140505feca328e3b153b77c49bf1118",
        "id": "TXeHmamiDULp",
        "colab_type": "code",
        "outputId": "8fa8b070-7e06-4eea-d2c2-06b7db008a1f",
        "colab": {
          "base_uri": "https://localhost:8080/",
          "height": 34
        }
      },
      "source": [
        "sub_df_new['size'].isna().sum()"
      ],
      "execution_count": 268,
      "outputs": [
        {
          "output_type": "execute_result",
          "data": {
            "text/plain": [
              "0"
            ]
          },
          "metadata": {
            "tags": []
          },
          "execution_count": 268
        }
      ]
    },
    {
      "cell_type": "markdown",
      "metadata": {
        "_uuid": "d66425757aa56501cfb01b2b81f5e01c22ac84d3",
        "id": "0f2UDboTDULt",
        "colab_type": "text"
      },
      "source": [
        "Finally, the last big step: merging our sub_dataframe with the remaining columns from our original dataframe - this time, across the columns:"
      ]
    },
    {
      "cell_type": "code",
      "metadata": {
        "trusted": true,
        "_uuid": "2ee5305165f18ffcdf51be6031206e87f98463e7",
        "id": "gOssbhbpDULv",
        "colab_type": "code",
        "colab": {}
      },
      "source": [
        "# prepare the multiple columns before concatening\n",
        "df_raw.drop(['accommodates', 'bathrooms', 'bedrooms', 'price', 'cleaning_fee', \n",
        "             'security_deposit', 'extra_people', 'guests_included', 'distance', 'size'], \n",
        "            axis=1, inplace=True)"
      ],
      "execution_count": 0,
      "outputs": []
    },
    {
      "cell_type": "code",
      "metadata": {
        "trusted": true,
        "_uuid": "97a09713d94be9863b54b54ccd097899efab8b7b",
        "id": "xDnGgKzbDUL0",
        "colab_type": "code",
        "outputId": "83c3540f-cee9-473a-d270-9a4ef20b6bb3",
        "colab": {
          "base_uri": "https://localhost:8080/",
          "height": 182
        }
      },
      "source": [
        "# concate back to complete dataframe\n",
        "df = pd.concat([sub_df_new, df_raw], axis=1)\n",
        "\n",
        "print(df.shape)\n",
        "df.head(2)"
      ],
      "execution_count": 270,
      "outputs": [
        {
          "output_type": "stream",
          "text": [
            "(22391, 22)\n"
          ],
          "name": "stdout"
        },
        {
          "output_type": "execute_result",
          "data": {
            "text/html": [
              "<div>\n",
              "<style scoped>\n",
              "    .dataframe tbody tr th:only-of-type {\n",
              "        vertical-align: middle;\n",
              "    }\n",
              "\n",
              "    .dataframe tbody tr th {\n",
              "        vertical-align: top;\n",
              "    }\n",
              "\n",
              "    .dataframe thead th {\n",
              "        text-align: right;\n",
              "    }\n",
              "</style>\n",
              "<table border=\"1\" class=\"dataframe\">\n",
              "  <thead>\n",
              "    <tr style=\"text-align: right;\">\n",
              "      <th></th>\n",
              "      <th>accommodates</th>\n",
              "      <th>bathrooms</th>\n",
              "      <th>bedrooms</th>\n",
              "      <th>price</th>\n",
              "      <th>cleaning_fee</th>\n",
              "      <th>security_deposit</th>\n",
              "      <th>extra_people</th>\n",
              "      <th>guests_included</th>\n",
              "      <th>distance</th>\n",
              "      <th>size</th>\n",
              "      <th>host_has_profile_pic</th>\n",
              "      <th>neighbourhood_group_cleansed</th>\n",
              "      <th>latitude</th>\n",
              "      <th>longitude</th>\n",
              "      <th>property_type</th>\n",
              "      <th>room_type</th>\n",
              "      <th>bed_type</th>\n",
              "      <th>amenities</th>\n",
              "      <th>minimum_nights</th>\n",
              "      <th>instant_bookable</th>\n",
              "      <th>is_business_travel_ready</th>\n",
              "      <th>cancellation_policy</th>\n",
              "    </tr>\n",
              "  </thead>\n",
              "  <tbody>\n",
              "    <tr>\n",
              "      <th>2015</th>\n",
              "      <td>3</td>\n",
              "      <td>1.0</td>\n",
              "      <td>1.0</td>\n",
              "      <td>60.0</td>\n",
              "      <td>30.0</td>\n",
              "      <td>200.0</td>\n",
              "      <td>28.0</td>\n",
              "      <td>1</td>\n",
              "      <td>3.533182</td>\n",
              "      <td>75.0</td>\n",
              "      <td>t</td>\n",
              "      <td>Mitte</td>\n",
              "      <td>52.534537</td>\n",
              "      <td>13.402557</td>\n",
              "      <td>Guesthouse</td>\n",
              "      <td>Entire home/apt</td>\n",
              "      <td>Real Bed</td>\n",
              "      <td>{TV,\"Cable TV\",Wifi,Kitchen,Gym,Heating,\"Famil...</td>\n",
              "      <td>4</td>\n",
              "      <td>f</td>\n",
              "      <td>f</td>\n",
              "      <td>strict_14_with_grace_period</td>\n",
              "    </tr>\n",
              "    <tr>\n",
              "      <th>2695</th>\n",
              "      <td>2</td>\n",
              "      <td>1.0</td>\n",
              "      <td>1.0</td>\n",
              "      <td>17.0</td>\n",
              "      <td>0.0</td>\n",
              "      <td>0.0</td>\n",
              "      <td>0.0</td>\n",
              "      <td>1</td>\n",
              "      <td>5.085573</td>\n",
              "      <td>25.0</td>\n",
              "      <td>t</td>\n",
              "      <td>Pankow</td>\n",
              "      <td>52.548513</td>\n",
              "      <td>13.404553</td>\n",
              "      <td>Apartment</td>\n",
              "      <td>Private room</td>\n",
              "      <td>Real Bed</td>\n",
              "      <td>{Wifi,Kitchen,Elevator,Heating,Washer,Essentia...</td>\n",
              "      <td>2</td>\n",
              "      <td>f</td>\n",
              "      <td>f</td>\n",
              "      <td>flexible</td>\n",
              "    </tr>\n",
              "  </tbody>\n",
              "</table>\n",
              "</div>"
            ],
            "text/plain": [
              "      accommodates  ...          cancellation_policy\n",
              "2015             3  ...  strict_14_with_grace_period\n",
              "2695             2  ...                     flexible\n",
              "\n",
              "[2 rows x 22 columns]"
            ]
          },
          "metadata": {
            "tags": []
          },
          "execution_count": 270
        }
      ]
    },
    {
      "cell_type": "markdown",
      "metadata": {
        "_uuid": "e8b421fe3bc456d949efc141e6349a68fa33ec01",
        "id": "8EXzY8Q6DUL4",
        "colab_type": "text"
      },
      "source": [
        "***Investigating sizes***\n",
        "\n",
        "Let's thoroughly examine our new `size` column:"
      ]
    },
    {
      "cell_type": "code",
      "metadata": {
        "trusted": true,
        "_uuid": "bf90f76fb135e4ce6bad1acdfaf0d234fc66d191",
        "id": "5K9g3daoDUL6",
        "colab_type": "code",
        "outputId": "193e96a0-f5b9-48c6-dede-6f252959a9a6",
        "colab": {
          "base_uri": "https://localhost:8080/",
          "height": 34
        }
      },
      "source": [
        "df['size'].isna().sum()"
      ],
      "execution_count": 271,
      "outputs": [
        {
          "output_type": "execute_result",
          "data": {
            "text/plain": [
              "0"
            ]
          },
          "metadata": {
            "tags": []
          },
          "execution_count": 271
        }
      ]
    },
    {
      "cell_type": "code",
      "metadata": {
        "trusted": true,
        "_uuid": "1fae40406d6731a06e6ed03d56bec6144e532281",
        "id": "y0L3iYTRDUMI",
        "colab_type": "code",
        "outputId": "8c7473e4-c204-4792-99c4-7e34245c8efc",
        "colab": {
          "base_uri": "https://localhost:8080/",
          "height": 170
        }
      },
      "source": [
        "df['size'].describe()"
      ],
      "execution_count": 272,
      "outputs": [
        {
          "output_type": "execute_result",
          "data": {
            "text/plain": [
              "count    22391.000000\n",
              "mean        60.297112\n",
              "std         80.937597\n",
              "min          0.000000\n",
              "25%         25.000000\n",
              "50%         49.573940\n",
              "75%         65.014837\n",
              "max        980.000000\n",
              "Name: size, dtype: float64"
            ]
          },
          "metadata": {
            "tags": []
          },
          "execution_count": 272
        }
      ]
    },
    {
      "cell_type": "code",
      "metadata": {
        "trusted": true,
        "_uuid": "ca83d7bf9b6df07c2715b683d2a520daf66baa1a",
        "id": "EDT0W0WIDUMP",
        "colab_type": "code",
        "outputId": "381b6f22-1be4-4083-9529-b567b68e9514",
        "colab": {
          "base_uri": "https://localhost:8080/",
          "height": 157
        }
      },
      "source": [
        "red_square = dict(markerfacecolor='r', markeredgecolor='r', marker='.')\n",
        "df['size'].plot(kind='box', xlim=(0, 1000), vert=False, flierprops=red_square, figsize=(16,2));"
      ],
      "execution_count": 273,
      "outputs": [
        {
          "output_type": "display_data",
          "data": {
            "image/png": "[encoded data removed]",
            "text/plain": [
              "<Figure size 1152x144 with 1 Axes>"
            ]
          },
          "metadata": {
            "tags": []
          }
        }
      ]
    },
    {
      "cell_type": "markdown",
      "metadata": {
        "_uuid": "ddb3d26fbb3fa0c26e5eb4b742935cb7568fed05",
        "id": "MPN-OzUMDUMW",
        "colab_type": "text"
      },
      "source": [
        "To be on the safe side, let’s remove all outliers over 300 square meters, and all those with 0:"
      ]
    },
    {
      "cell_type": "code",
      "metadata": {
        "trusted": true,
        "_uuid": "ee27340a0ab8245d7df4139e73549fdade8bea96",
        "id": "W9LjgiNCDUMY",
        "colab_type": "code",
        "colab": {}
      },
      "source": [
        "df.drop(df[ (df['size'] == 0.) | (df['size'] > 300.) ].index, axis=0, inplace=True)"
      ],
      "execution_count": 0,
      "outputs": []
    },
    {
      "cell_type": "code",
      "metadata": {
        "trusted": true,
        "_uuid": "80fb283c3026e195c2e3bc1e091ad1ff2f8fe080",
        "id": "cSwmi1q1DUMg",
        "colab_type": "code",
        "outputId": "17451a0e-5359-4ffc-d14d-b8c0c9584a84",
        "colab": {
          "base_uri": "https://localhost:8080/",
          "height": 34
        }
      },
      "source": [
        "print(\"The dataset has {} rows and {} columns - after being engineered.\".format(*df.shape))"
      ],
      "execution_count": 275,
      "outputs": [
        {
          "output_type": "stream",
          "text": [
            "The dataset has 21958 rows and 22 columns - after being engineered.\n"
          ],
          "name": "stdout"
        }
      ]
    },
    {
      "cell_type": "markdown",
      "metadata": {
        "_uuid": "d8d989589f1349071c162f0ef602c4fc3d1d4f99",
        "id": "ShFmfejVDUMx",
        "colab_type": "text"
      },
      "source": [
        "*Back to: <a href='#Table of contents'> Table of contents</a>*\n",
        "#### 2.6. Feature Engineering 3: Lodging Amenities\n",
        "<a id='2.6. Feature Engineering 3: Lodging Amenities'></a>"
      ]
    },
    {
      "cell_type": "markdown",
      "metadata": {
        "_uuid": "cf0ad489b6556ed4ca2280aca01f77a2e2385898",
        "id": "dPk7f5iKDUM1",
        "colab_type": "text"
      },
      "source": [
        "I'm interested in what amenities hosts offer their guests, and in order to enrich our prediction, whether we can determine what some of the more special and/or rare amenities might be that make a property more desirable."
      ]
    },
    {
      "cell_type": "code",
      "metadata": {
        "trusted": true,
        "_uuid": "b602468e8a0fe1805508be43242affc411437d2c",
        "id": "mvAHOSeYDUM5",
        "colab_type": "code",
        "colab": {}
      },
      "source": [
        "from collections import Counter"
      ],
      "execution_count": 0,
      "outputs": []
    },
    {
      "cell_type": "code",
      "metadata": {
        "trusted": true,
        "_uuid": "872df3f9ab4f458eb15f2d5ebe169f6d5517550c",
        "id": "Qgc4elU5DUNB",
        "colab_type": "code",
        "outputId": "abead3f0-b2f2-43e5-8c0c-9e8ccf578ecd",
        "colab": {
          "base_uri": "https://localhost:8080/",
          "height": 527
        }
      },
      "source": [
        "results = Counter()\n",
        "df['amenities'].str.strip('{}')\\\n",
        "               .str.replace('\"', '')\\\n",
        "               .str.lstrip('\\\"')\\\n",
        "               .str.rstrip('\\\"')\\\n",
        "               .str.split(',')\\\n",
        "               .apply(results.update)\n",
        "\n",
        "results.most_common(30)"
      ],
      "execution_count": 277,
      "outputs": [
        {
          "output_type": "execute_result",
          "data": {
            "text/plain": [
              "[('Wifi', 20952),\n",
              " ('Kitchen', 20809),\n",
              " ('Heating', 20657),\n",
              " ('Essentials', 19811),\n",
              " ('Washer', 18071),\n",
              " ('Hair dryer', 14474),\n",
              " ('Laptop friendly workspace', 14095),\n",
              " ('Hangers', 13514),\n",
              " ('Iron', 10876),\n",
              " ('Shampoo', 10339),\n",
              " ('TV', 9778),\n",
              " ('Hot water', 9421),\n",
              " ('Family/kid friendly', 7925),\n",
              " ('Internet', 7699),\n",
              " ('Host greets you', 6469),\n",
              " ('Smoke detector', 6245),\n",
              " ('Buzzer/wireless intercom', 5963),\n",
              " ('Lock on bedroom door', 5138),\n",
              " ('Free street parking', 5037),\n",
              " ('Refrigerator', 5033),\n",
              " ('Dishes and silverware', 4909),\n",
              " ('Elevator', 4703),\n",
              " ('Cooking basics', 4673),\n",
              " ('Bed linens', 4656),\n",
              " ('Stove', 4655),\n",
              " ('Smoking allowed', 4509),\n",
              " ('Oven', 4161),\n",
              " ('translation missing: en.hosting_amenity_50', 4095),\n",
              " ('First aid kit', 3866),\n",
              " ('Cable TV', 3577)]"
            ]
          },
          "metadata": {
            "tags": []
          },
          "execution_count": 277
        }
      ]
    },
    {
      "cell_type": "code",
      "metadata": {
        "trusted": true,
        "_uuid": "d9880fc5e526410d53c0d5a0a7a1111e1f3ec3f2",
        "id": "kYaRmV7NDUNI",
        "colab_type": "code",
        "colab": {}
      },
      "source": [
        "# create a new dataframe\n",
        "sub_df = pd.DataFrame(results.most_common(30), columns=['amenity', 'count'])"
      ],
      "execution_count": 0,
      "outputs": []
    },
    {
      "cell_type": "code",
      "metadata": {
        "trusted": true,
        "_uuid": "c0f740af02fdf197f7c168229f31d3edb2ed9c78",
        "id": "YyWdlGuGDUNT",
        "colab_type": "code",
        "outputId": "8aff5c8e-f704-4bd8-ddbf-89b451f5b0b4",
        "colab": {
          "base_uri": "https://localhost:8080/",
          "height": 457
        }
      },
      "source": [
        "# plot the Top 20\n",
        "sub_df.sort_values(by=['count'], ascending=True).plot(kind='barh', x='amenity', y='count',  \n",
        "                                                      figsize=(10,7), legend=False, color='darkgrey',\n",
        "                                                      title='Amenities')\n",
        "plt.xlabel('Count');"
      ],
      "execution_count": 279,
      "outputs": [
        {
          "output_type": "display_data",
          "data": {
            "image/png": "[encoded data removed]",
            "text/plain": [
              "<Figure size 720x504 with 1 Axes>"
            ]
          },
          "metadata": {
            "tags": []
          }
        }
      ]
    },
    {
      "cell_type": "markdown",
      "metadata": {
        "_uuid": "447ead356012819f95c870a1cdf1ff009fb33a7e",
        "id": "RQL5vk9sDUNx",
        "colab_type": "text"
      },
      "source": [
        "Let's add columns with amenities that are somewhat unique and not offered by all hosts: \n",
        "- a laptop-friendly workspace\n",
        "- a TV\n",
        "- kid friendly accommodation \n",
        "- smoker friendly and \n",
        "- being greeted by the host.\n",
        "\n",
        "After doing this, let's drop the original column:"
      ]
    },
    {
      "cell_type": "code",
      "metadata": {
        "trusted": true,
        "_uuid": "35db4194998042000e957b6f511b195105962236",
        "id": "GaW80hkUDUNz",
        "colab_type": "code",
        "colab": {}
      },
      "source": [
        "df['Laptop_friendly_workspace'] = df['amenities'].str.contains('Laptop friendly workspace')\n",
        "df['TV'] = df['amenities'].str.contains('TV')\n",
        "df['Family_kid_friendly'] = df['amenities'].str.contains('Family/kid friendly')\n",
        "df['Host_greets_you'] = df['amenities'].str.contains('Host greets you')\n",
        "df['Smoking_allowed'] = df['amenities'].str.contains('Smoking allowed')"
      ],
      "execution_count": 0,
      "outputs": []
    },
    {
      "cell_type": "code",
      "metadata": {
        "trusted": true,
        "_uuid": "4491af81d649943b18c5b91df1f9610a5b0e3b78",
        "id": "O_Pl4DHtDUN7",
        "colab_type": "code",
        "colab": {}
      },
      "source": [
        "df.drop(['amenities'], axis=1, inplace=True)"
      ],
      "execution_count": 0,
      "outputs": []
    },
    {
      "cell_type": "markdown",
      "metadata": {
        "_uuid": "f2a8a357c418224beda443c4a8de3aa8986a352e",
        "id": "T2KqbPFSDUN_",
        "colab_type": "text"
      },
      "source": [
        "*Back to: <a href='#Table of contents'> Table of contents</a>*\n",
        "### 3. Exploratory Data Analysis (EDA)\n",
        "<a id='3. Exploratory Data Analysis (EDA)' ></a>"
      ]
    },
    {
      "cell_type": "markdown",
      "metadata": {
        "_uuid": "b2d908b2834f7e4cdf7e4fff1464a207c224fbe7",
        "id": "KnTR5JXKDUOB",
        "colab_type": "text"
      },
      "source": [
        "**> Price Differences on a Map**"
      ]
    },
    {
      "cell_type": "code",
      "metadata": {
        "trusted": true,
        "_uuid": "cfbfd30475c96c42822ddc5819d59132e739ee0a",
        "id": "nJn2_MEHDUOD",
        "colab_type": "code",
        "outputId": "4b48da46-bc44-4bd3-c5da-27557523a6b7",
        "colab": {
          "base_uri": "https://localhost:8080/",
          "height": 446
        }
      },
      "source": [
        "df.plot(kind=\"scatter\", x=\"longitude\", y=\"latitude\", alpha=0.4, figsize=(10,7), \n",
        "        c=\"price\", cmap=\"gist_heat_r\", colorbar=True, sharex=False);"
      ],
      "execution_count": 282,
      "outputs": [
        {
          "output_type": "display_data",
          "data": {
            "image/png": "[encoded data removed]",
            "text/plain": [
              "<Figure size 720x504 with 2 Axes>"
            ]
          },
          "metadata": {
            "tags": []
          }
        }
      ]
    },
    {
      "cell_type": "markdown",
      "metadata": {
        "_uuid": "b03bc88da7fc9fa52a9f3893f47f74606be29f18",
        "id": "UuqFcEW_DUOM",
        "colab_type": "text"
      },
      "source": [
        "**> Price Differences by Neighbourhood**"
      ]
    },
    {
      "cell_type": "code",
      "metadata": {
        "trusted": true,
        "_uuid": "72e7d1a1408bcbf8f97c3b138945fb5610d895fa",
        "id": "QTnA9upeDUON",
        "colab_type": "code",
        "outputId": "0162f9f8-6399-47b5-c904-303291976979",
        "colab": {
          "base_uri": "https://localhost:8080/",
          "height": 362
        }
      },
      "source": [
        "df['neighbourhood_group_cleansed'].value_counts().sort_values().plot(kind='barh', color='darkgrey')\n",
        "plt.title('Number of Accommodations per District');"
      ],
      "execution_count": 283,
      "outputs": [
        {
          "output_type": "display_data",
          "data": {
            "image/png": "[encoded data removed]",
            "text/plain": [
              "<Figure size 576x396 with 1 Axes>"
            ]
          },
          "metadata": {
            "tags": []
          }
        }
      ]
    },
    {
      "cell_type": "code",
      "metadata": {
        "trusted": true,
        "_uuid": "a98dfb3122d824fb532942f065e0085e6a7ff939",
        "id": "2VVT1KwfDUOR",
        "colab_type": "code",
        "outputId": "2c516956-5b7c-4192-cb50-eb85a8209bdc",
        "colab": {
          "base_uri": "https://localhost:8080/",
          "height": 453
        }
      },
      "source": [
        "# group_by neighbourhood groups, take the median price and store new values in sub_df \n",
        "df_grouped = pd.DataFrame(df.groupby(['neighbourhood_group_cleansed'])['price'].agg(np.median))\n",
        "df_grouped.reset_index(inplace=True)\n",
        "\n",
        "# plot this \n",
        "df_grouped.sort_values(by=['price'], ascending=True)\\\n",
        "          .plot(kind='barh', x='neighbourhood_group_cleansed', y='price', \n",
        "                figsize=(10,6), legend=False, color='salmon')\n",
        "\n",
        "plt.xlabel('\\nMedian Price', fontsize=12)\n",
        "plt.ylabel('District\\n', fontsize=12)\n",
        "plt.title('\\nMedian Prices by Neighbourhood\\n', fontsize=14, fontweight='bold');"
      ],
      "execution_count": 284,
      "outputs": [
        {
          "output_type": "display_data",
          "data": {
            "image/png": "[encoded data removed]",
            "text/plain": [
              "<Figure size 720x432 with 1 Axes>"
            ]
          },
          "metadata": {
            "tags": []
          }
        }
      ]
    },
    {
      "cell_type": "code",
      "metadata": {
        "trusted": true,
        "_uuid": "afa324e00bfacda186a945d33968bdda71d8feff",
        "id": "5RlsLmu1DUOe",
        "colab_type": "code",
        "outputId": "f1f555f9-4777-4122-897e-d7a281480105",
        "colab": {
          "base_uri": "https://localhost:8080/",
          "height": 559
        }
      },
      "source": [
        "red_square = dict(markerfacecolor='salmon', markeredgecolor='salmon', marker='.')\n",
        "\n",
        "df.boxplot(column='price', by='neighbourhood_group_cleansed', \n",
        "           flierprops=red_square, vert=False, figsize=(10,8))\n",
        "\n",
        "plt.xlabel('\\nMedian Price', fontsize=12)\n",
        "plt.ylabel('District\\n', fontsize=12)\n",
        "plt.title('\\nBoxplot: Prices by Neighbourhood\\n', fontsize=14, fontweight='bold')\n",
        "\n",
        "# get rid of automatic boxplot title\n",
        "plt.suptitle('');"
      ],
      "execution_count": 285,
      "outputs": [
        {
          "output_type": "display_data",
          "data": {
            "image/png": "[encoded data removed]",
            "text/plain": [
              "<Figure size 720x576 with 1 Axes>"
            ]
          },
          "metadata": {
            "tags": []
          }
        }
      ]
    },
    {
      "cell_type": "markdown",
      "metadata": {
        "_uuid": "bcb77c46de800f8462e58ce91af98cc6cb0a0d36",
        "id": "PvsFEWMYDUOj",
        "colab_type": "text"
      },
      "source": [
        "**> Price Differences by Accommodation Distance to Center of Berlin**"
      ]
    },
    {
      "cell_type": "code",
      "metadata": {
        "trusted": true,
        "_uuid": "a29551f9b10e77e2f2bfd51d504ec87ca3d00d4a",
        "id": "AE4GUMvZDUOk",
        "colab_type": "code",
        "outputId": "f5eb468e-16f5-4c97-cc42-6112d9758002",
        "colab": {
          "base_uri": "https://localhost:8080/",
          "height": 437
        }
      },
      "source": [
        "df.plot.scatter(x=\"distance\", y=\"price\", figsize=(9,6), c='dimgrey')\n",
        "plt.title('\\nRelation between Distance & Median Price\\n', fontsize=14, fontweight='bold');"
      ],
      "execution_count": 286,
      "outputs": [
        {
          "output_type": "display_data",
          "data": {
            "image/png": "[encoded data removed]",
            "text/plain": [
              "<Figure size 648x432 with 1 Axes>"
            ]
          },
          "metadata": {
            "tags": []
          }
        }
      ]
    },
    {
      "cell_type": "code",
      "metadata": {
        "trusted": true,
        "_uuid": "42f7fbec9dcee2468f334bf1507ff4791873a9ef",
        "id": "4mrHY14oDUOq",
        "colab_type": "code",
        "outputId": "8410e313-6600-4ffc-994c-3b696fb51d00",
        "colab": {
          "base_uri": "https://localhost:8080/",
          "height": 441
        }
      },
      "source": [
        "sns.jointplot(x=df[\"distance\"], y=df[\"price\"], kind='hex')\n",
        "plt.title('\\nRelation between Distance & Median Price\\n', fontsize=14, fontweight='bold');"
      ],
      "execution_count": 287,
      "outputs": [
        {
          "output_type": "display_data",
          "data": {
            "image/png": "[encoded data removed]",
            "text/plain": [
              "<Figure size 432x432 with 3 Axes>"
            ]
          },
          "metadata": {
            "tags": []
          }
        }
      ]
    },
    {
      "cell_type": "markdown",
      "metadata": {
        "_uuid": "38406f6ba42d2a4d7f5e824e2122875357f57096",
        "id": "qGBEvBllDUO_",
        "colab_type": "text"
      },
      "source": [
        "**> Price Differences by Accommodation Size**"
      ]
    },
    {
      "cell_type": "code",
      "metadata": {
        "trusted": true,
        "_uuid": "e68837c288c1befe9f319c29c051d4e1b5d667ad",
        "id": "XlGPgZr8DUPQ",
        "colab_type": "code",
        "outputId": "00192371-a887-45a8-943b-d50d328ac8f3",
        "colab": {
          "base_uri": "https://localhost:8080/",
          "height": 492
        }
      },
      "source": [
        "sns.set_style(\"white\")\n",
        "cmap = sns.cubehelix_palette(rot=-.2, as_cmap=True)\n",
        "\n",
        "fig, ax = plt.subplots(figsize=(12,7))\n",
        "ax = sns.scatterplot(x=\"size\", y=\"price\", size='cleaning_fee', sizes=(5, 200),\n",
        "                      hue='size', palette=cmap,  data=df)\n",
        "\n",
        "plt.title('\\nRelation between Size & Median Price\\n', fontsize=14, fontweight='bold')\n",
        "\n",
        "# putting legend out of the plot\n",
        "plt.legend(bbox_to_anchor=(1.05, 1), loc=2, borderaxespad=0.);"
      ],
      "execution_count": 288,
      "outputs": [
        {
          "output_type": "display_data",
          "data": {
            "image/png": "[encoded data removed]",
            "text/plain": [
              "<Figure size 864x504 with 1 Axes>"
            ]
          },
          "metadata": {
            "tags": []
          }
        }
      ]
    },
    {
      "cell_type": "markdown",
      "metadata": {
        "_uuid": "2f7ca576640a99f83f4882d118ec553bb240d0cb",
        "id": "HC7TKGL1DUPU",
        "colab_type": "text"
      },
      "source": [
        "**> Price Differences by Number of Bedrooms**"
      ]
    },
    {
      "cell_type": "code",
      "metadata": {
        "trusted": true,
        "_uuid": "75311f21d8d6b5e3f6b906c8b279b9fb31586bac",
        "id": "s0Fkj4KEDUPW",
        "colab_type": "code",
        "outputId": "88c4bf71-ef79-446f-f7db-cca2d4658cec",
        "colab": {
          "base_uri": "https://localhost:8080/",
          "height": 472
        }
      },
      "source": [
        "plt.figure(figsize=(6,6))\n",
        "sns.heatmap(df.groupby(['neighbourhood_group_cleansed', 'bedrooms']).price.median().unstack(), \n",
        "            cmap='Reds', annot=True, fmt=\".0f\")\n",
        "\n",
        "plt.xlabel('\\nBedrooms', fontsize=12)\n",
        "plt.ylabel('District\\n', fontsize=12)\n",
        "plt.title('\\nHeatmap: Median Prices by Neighbourhood and Number of Bedrooms\\n\\n', fontsize=14, fontweight='bold');"
      ],
      "execution_count": 289,
      "outputs": [
        {
          "output_type": "display_data",
          "data": {
            "image/png": "[encoded data removed]",
            "text/plain": [
              "<Figure size 432x432 with 2 Axes>"
            ]
          },
          "metadata": {
            "tags": []
          }
        }
      ]
    },
    {
      "cell_type": "markdown",
      "metadata": {
        "_uuid": "ab8d2e3428b994f407b15b790ed122fe4d77da5f",
        "id": "8IGDeawsDUPf",
        "colab_type": "text"
      },
      "source": [
        "**> Price Differences by Cancellation Policy**"
      ]
    },
    {
      "cell_type": "code",
      "metadata": {
        "trusted": true,
        "_uuid": "077b747470fc9624fb8d0efd4cd6f5b51bd72842",
        "id": "tZ8NtWZNDUPg",
        "colab_type": "code",
        "outputId": "89b3a7e1-71d0-4104-b9e1-e5680ddf1862",
        "colab": {
          "base_uri": "https://localhost:8080/",
          "height": 401
        }
      },
      "source": [
        "# group_by neighbourhood groups, take the median price and store new values in sub_df \n",
        "df_grouped = pd.DataFrame(df.groupby(['cancellation_policy'])['price'].agg(np.median))\n",
        "df_grouped.reset_index(inplace=True)\n",
        "\n",
        "# plot this \n",
        "df_grouped.sort_values(by=['price'], ascending=True)\\\n",
        "          .plot(kind='barh', x='cancellation_policy', y='price', \n",
        "                figsize=(9,5), legend=False, color='darkblue')\n",
        "\n",
        "plt.xlabel('\\nMedian Price', fontsize=12)\n",
        "plt.ylabel('Cancellation Policy\\n', fontsize=12)\n",
        "plt.title('\\nMedian Prices by Cancellation Policy\\n', fontsize=14, fontweight='bold');"
      ],
      "execution_count": 290,
      "outputs": [
        {
          "output_type": "display_data",
          "data": {
            "image/png": "[encoded data removed]",
            "text/plain": [
              "<Figure size 648x360 with 1 Axes>"
            ]
          },
          "metadata": {
            "tags": []
          }
        }
      ]
    },
    {
      "cell_type": "markdown",
      "metadata": {
        "_uuid": "e35a2573b26e939d659270cb98bb7230d369d15d",
        "id": "ad8NnWwnDUPm",
        "colab_type": "text"
      },
      "source": [
        "*Back to: <a href='#Table of contents'> Table of contents</a>*\n",
        "### 4. Modeling the Data \n",
        "<a id='4. Modeling the Data'></a>"
      ]
    },
    {
      "cell_type": "markdown",
      "metadata": {
        "_uuid": "49fb22997d511dfe32249ac6e9b08f9f6024dc77",
        "id": "aElf3nEoDUPn",
        "colab_type": "text"
      },
      "source": [
        "#### 4.1. Preparing Target and Features\n",
        "<a id='4.1. Preparing Target and Features'></a>"
      ]
    },
    {
      "cell_type": "code",
      "metadata": {
        "trusted": true,
        "_uuid": "4f8c67fdd393ba4cbcd03b2d9ee2a350ec611a47",
        "id": "L0oiQqRbDUPo",
        "colab_type": "code",
        "outputId": "c0aa2e1a-95ee-4395-d73b-445eac6fa896",
        "colab": {
          "base_uri": "https://localhost:8080/",
          "height": 153
        }
      },
      "source": [
        "df.columns"
      ],
      "execution_count": 291,
      "outputs": [
        {
          "output_type": "execute_result",
          "data": {
            "text/plain": [
              "Index(['accommodates', 'bathrooms', 'bedrooms', 'price', 'cleaning_fee',\n",
              "       'security_deposit', 'extra_people', 'guests_included', 'distance',\n",
              "       'size', 'host_has_profile_pic', 'neighbourhood_group_cleansed',\n",
              "       'latitude', 'longitude', 'property_type', 'room_type', 'bed_type',\n",
              "       'minimum_nights', 'instant_bookable', 'is_business_travel_ready',\n",
              "       'cancellation_policy', 'Laptop_friendly_workspace', 'TV',\n",
              "       'Family_kid_friendly', 'Host_greets_you', 'Smoking_allowed'],\n",
              "      dtype='object')"
            ]
          },
          "metadata": {
            "tags": []
          },
          "execution_count": 291
        }
      ]
    },
    {
      "cell_type": "code",
      "metadata": {
        "trusted": true,
        "_uuid": "162ffe3c48afff7f7082657cccdddcf02cf5ba75",
        "id": "gUUwGC4MDUQH",
        "colab_type": "code",
        "outputId": "93151688-3997-4d2e-b8d4-e0c0c32e252e",
        "colab": {
          "base_uri": "https://localhost:8080/",
          "height": 544
        }
      },
      "source": [
        "df.info()"
      ],
      "execution_count": 292,
      "outputs": [
        {
          "output_type": "stream",
          "text": [
            "<class 'pandas.core.frame.DataFrame'>\n",
            "Int64Index: 21958 entries, 2015 to 29867352\n",
            "Data columns (total 26 columns):\n",
            "accommodates                    21958 non-null int64\n",
            "bathrooms                       21958 non-null float64\n",
            "bedrooms                        21958 non-null float64\n",
            "price                           21958 non-null float64\n",
            "cleaning_fee                    21958 non-null float64\n",
            "security_deposit                21958 non-null float64\n",
            "extra_people                    21958 non-null float64\n",
            "guests_included                 21958 non-null int64\n",
            "distance                        21958 non-null float64\n",
            "size                            21958 non-null float64\n",
            "host_has_profile_pic            21958 non-null object\n",
            "neighbourhood_group_cleansed    21958 non-null object\n",
            "latitude                        21958 non-null float64\n",
            "longitude                       21958 non-null float64\n",
            "property_type                   21958 non-null object\n",
            "room_type                       21958 non-null object\n",
            "bed_type                        21958 non-null object\n",
            "minimum_nights                  21958 non-null int64\n",
            "instant_bookable                21958 non-null object\n",
            "is_business_travel_ready        21958 non-null object\n",
            "cancellation_policy             21958 non-null object\n",
            "Laptop_friendly_workspace       21958 non-null bool\n",
            "TV                              21958 non-null bool\n",
            "Family_kid_friendly             21958 non-null bool\n",
            "Host_greets_you                 21958 non-null bool\n",
            "Smoking_allowed                 21958 non-null bool\n",
            "dtypes: bool(5), float64(10), int64(3), object(8)\n",
            "memory usage: 3.8+ MB\n"
          ],
          "name": "stdout"
        }
      ]
    },
    {
      "cell_type": "markdown",
      "metadata": {
        "_uuid": "bafc3692ca21b64122c4049a6a312b681ce8ae8a",
        "id": "uq1-qC6zDUQQ",
        "colab_type": "text"
      },
      "source": [
        "As we work with the distance to the center, let's drop the `neighbourhood_group_cleansed`. Furthermore, `property_types` may not be that helpful."
      ]
    },
    {
      "cell_type": "code",
      "metadata": {
        "trusted": true,
        "_uuid": "2e13cd8f0aa7e1e6f12fa3192b0cac654818389f",
        "id": "VwULa-sxDUQR",
        "colab_type": "code",
        "colab": {}
      },
      "source": [
        "df.drop(['latitude', 'longitude', 'neighbourhood_group_cleansed', 'property_type'], axis=1, inplace=True)"
      ],
      "execution_count": 0,
      "outputs": []
    },
    {
      "cell_type": "markdown",
      "metadata": {
        "_uuid": "356412d3be9967a9495b95bfa6c23fab0c04950e",
        "id": "P87yF_A0DUQd",
        "colab_type": "text"
      },
      "source": [
        "Now let's convert all string columns into categorical ones:"
      ]
    },
    {
      "cell_type": "code",
      "metadata": {
        "trusted": true,
        "_uuid": "d3372d9c15237f705fa5a959ab4bf96733e9ec2c",
        "id": "rFWxrpVVDUQf",
        "colab_type": "code",
        "colab": {}
      },
      "source": [
        "for col in ['host_has_profile_pic', 'room_type', 'bed_type', 'instant_bookable', \n",
        "            'is_business_travel_ready', 'cancellation_policy']:\n",
        "    df[col] = df[col].astype('category')"
      ],
      "execution_count": 0,
      "outputs": []
    },
    {
      "cell_type": "code",
      "metadata": {
        "trusted": true,
        "_uuid": "db32f594aedc3ffbed9c79209711d01d3a6a156a",
        "id": "ICu7B6vvDUQu",
        "colab_type": "code",
        "colab": {}
      },
      "source": [
        "# define our target\n",
        "target = df[[\"price\"]]\n",
        "\n",
        "# define our features \n",
        "features = df.drop([\"price\"], axis=1)"
      ],
      "execution_count": 0,
      "outputs": []
    },
    {
      "cell_type": "markdown",
      "metadata": {
        "_uuid": "3ff23e9a2a032c8d90407965ff20bee352869312",
        "id": "q2ISOWt6DUQ7",
        "colab_type": "text"
      },
      "source": [
        "***Recoding Categorical Features***"
      ]
    },
    {
      "cell_type": "markdown",
      "metadata": {
        "_uuid": "8e356b754177a374180770860f6f83d247524cac",
        "id": "HR6Zy1HsDUQ9",
        "colab_type": "text"
      },
      "source": [
        "Machine learning algorithms generally need all data - including categorical data - in numeric form. To satisfy these algorithms, categorical features are converted into separate binary features called dummy variables. Therefore, we have to find a way to represent these variables as numbers before handing them off to the model. One typical way of doing this in one-hot encoding, which creates a new column for each unique category in a categorical variable. Each observation receives a 1 in the column for its corresponding category (= \"HOT\") and a 0 in all other new columns. To conduct one-hot encoding, we use the pandas get_dummies function."
      ]
    },
    {
      "cell_type": "code",
      "metadata": {
        "trusted": true,
        "_uuid": "83eef52f4afd65edaf2b798aea12b021d3813498",
        "id": "lc4Ie47-DUQ-",
        "colab_type": "code",
        "colab": {}
      },
      "source": [
        "num_feats = features.select_dtypes(include=['float64', 'int64', 'bool']).copy()\n",
        "\n",
        "# one-hot encoding of categorical features\n",
        "cat_feats = features.select_dtypes(include=['category']).copy()\n",
        "cat_feats = pd.get_dummies(cat_feats)"
      ],
      "execution_count": 0,
      "outputs": []
    },
    {
      "cell_type": "code",
      "metadata": {
        "trusted": true,
        "_uuid": "6c919724f12ebcbab1bb67d86c9d8a41aa212bf3",
        "id": "isJ2KKMHDURE",
        "colab_type": "code",
        "colab": {}
      },
      "source": [
        "features_recoded = pd.concat([num_feats, cat_feats], axis=1)"
      ],
      "execution_count": 0,
      "outputs": []
    },
    {
      "cell_type": "code",
      "metadata": {
        "trusted": true,
        "_uuid": "9cde0fb453af5d66164ca16e079bfa3b842a9a68",
        "id": "AnntB139DURO",
        "colab_type": "code",
        "outputId": "4d4c0f0b-3c35-4961-f8ea-69631e5e117b",
        "colab": {
          "base_uri": "https://localhost:8080/",
          "height": 165
        }
      },
      "source": [
        "print(features_recoded.shape)\n",
        "features_recoded.head(2)"
      ],
      "execution_count": 298,
      "outputs": [
        {
          "output_type": "stream",
          "text": [
            "(21958, 33)\n"
          ],
          "name": "stdout"
        },
        {
          "output_type": "execute_result",
          "data": {
            "text/html": [
              "<div>\n",
              "<style scoped>\n",
              "    .dataframe tbody tr th:only-of-type {\n",
              "        vertical-align: middle;\n",
              "    }\n",
              "\n",
              "    .dataframe tbody tr th {\n",
              "        vertical-align: top;\n",
              "    }\n",
              "\n",
              "    .dataframe thead th {\n",
              "        text-align: right;\n",
              "    }\n",
              "</style>\n",
              "<table border=\"1\" class=\"dataframe\">\n",
              "  <thead>\n",
              "    <tr style=\"text-align: right;\">\n",
              "      <th></th>\n",
              "      <th>accommodates</th>\n",
              "      <th>bathrooms</th>\n",
              "      <th>bedrooms</th>\n",
              "      <th>cleaning_fee</th>\n",
              "      <th>security_deposit</th>\n",
              "      <th>extra_people</th>\n",
              "      <th>guests_included</th>\n",
              "      <th>distance</th>\n",
              "      <th>size</th>\n",
              "      <th>minimum_nights</th>\n",
              "      <th>Laptop_friendly_workspace</th>\n",
              "      <th>TV</th>\n",
              "      <th>Family_kid_friendly</th>\n",
              "      <th>Host_greets_you</th>\n",
              "      <th>Smoking_allowed</th>\n",
              "      <th>host_has_profile_pic_f</th>\n",
              "      <th>host_has_profile_pic_t</th>\n",
              "      <th>room_type_Entire home/apt</th>\n",
              "      <th>room_type_Private room</th>\n",
              "      <th>room_type_Shared room</th>\n",
              "      <th>bed_type_Airbed</th>\n",
              "      <th>bed_type_Couch</th>\n",
              "      <th>bed_type_Futon</th>\n",
              "      <th>bed_type_Pull-out Sofa</th>\n",
              "      <th>bed_type_Real Bed</th>\n",
              "      <th>instant_bookable_f</th>\n",
              "      <th>instant_bookable_t</th>\n",
              "      <th>is_business_travel_ready_f</th>\n",
              "      <th>cancellation_policy_flexible</th>\n",
              "      <th>cancellation_policy_moderate</th>\n",
              "      <th>cancellation_policy_strict_14_with_grace_period</th>\n",
              "      <th>cancellation_policy_super_strict_30</th>\n",
              "      <th>cancellation_policy_super_strict_60</th>\n",
              "    </tr>\n",
              "  </thead>\n",
              "  <tbody>\n",
              "    <tr>\n",
              "      <th>2015</th>\n",
              "      <td>3</td>\n",
              "      <td>1.0</td>\n",
              "      <td>1.0</td>\n",
              "      <td>30.0</td>\n",
              "      <td>200.0</td>\n",
              "      <td>28.0</td>\n",
              "      <td>1</td>\n",
              "      <td>3.533182</td>\n",
              "      <td>75.0</td>\n",
              "      <td>4</td>\n",
              "      <td>True</td>\n",
              "      <td>True</td>\n",
              "      <td>True</td>\n",
              "      <td>False</td>\n",
              "      <td>False</td>\n",
              "      <td>0</td>\n",
              "      <td>1</td>\n",
              "      <td>1</td>\n",
              "      <td>0</td>\n",
              "      <td>0</td>\n",
              "      <td>0</td>\n",
              "      <td>0</td>\n",
              "      <td>0</td>\n",
              "      <td>0</td>\n",
              "      <td>1</td>\n",
              "      <td>1</td>\n",
              "      <td>0</td>\n",
              "      <td>1</td>\n",
              "      <td>0</td>\n",
              "      <td>0</td>\n",
              "      <td>1</td>\n",
              "      <td>0</td>\n",
              "      <td>0</td>\n",
              "    </tr>\n",
              "    <tr>\n",
              "      <th>2695</th>\n",
              "      <td>2</td>\n",
              "      <td>1.0</td>\n",
              "      <td>1.0</td>\n",
              "      <td>0.0</td>\n",
              "      <td>0.0</td>\n",
              "      <td>0.0</td>\n",
              "      <td>1</td>\n",
              "      <td>5.085573</td>\n",
              "      <td>25.0</td>\n",
              "      <td>2</td>\n",
              "      <td>True</td>\n",
              "      <td>False</td>\n",
              "      <td>False</td>\n",
              "      <td>False</td>\n",
              "      <td>False</td>\n",
              "      <td>0</td>\n",
              "      <td>1</td>\n",
              "      <td>0</td>\n",
              "      <td>1</td>\n",
              "      <td>0</td>\n",
              "      <td>0</td>\n",
              "      <td>0</td>\n",
              "      <td>0</td>\n",
              "      <td>0</td>\n",
              "      <td>1</td>\n",
              "      <td>1</td>\n",
              "      <td>0</td>\n",
              "      <td>1</td>\n",
              "      <td>1</td>\n",
              "      <td>0</td>\n",
              "      <td>0</td>\n",
              "      <td>0</td>\n",
              "      <td>0</td>\n",
              "    </tr>\n",
              "  </tbody>\n",
              "</table>\n",
              "</div>"
            ],
            "text/plain": [
              "      accommodates  ...  cancellation_policy_super_strict_60\n",
              "2015             3  ...                                    0\n",
              "2695             2  ...                                    0\n",
              "\n",
              "[2 rows x 33 columns]"
            ]
          },
          "metadata": {
            "tags": []
          },
          "execution_count": 298
        }
      ]
    },
    {
      "cell_type": "markdown",
      "metadata": {
        "_uuid": "b0850edd1c4be6a9f85f6d90af425833a2d82a84",
        "id": "MKJyDVKtDURS",
        "colab_type": "text"
      },
      "source": [
        "#### 4.2. Splitting and Scaling the Data\n",
        "<a id='4.2. Splitting and Scaling the Data'></a>"
      ]
    },
    {
      "cell_type": "code",
      "metadata": {
        "trusted": true,
        "_uuid": "d02b729157e675c68fbdebc4ea99cdd69150c08f",
        "id": "8MK-6UbIDURU",
        "colab_type": "code",
        "colab": {}
      },
      "source": [
        "# import train_test_split function\n",
        "from sklearn.model_selection import train_test_split\n",
        "# import metrics\n",
        "from sklearn.metrics import mean_squared_error, r2_score\n",
        "\n",
        "# split our data\n",
        "X_train, X_test, y_train, y_test = train_test_split(features_recoded, target, test_size=0.2)"
      ],
      "execution_count": 0,
      "outputs": []
    },
    {
      "cell_type": "markdown",
      "metadata": {
        "_uuid": "561cbfa89c038f3630c34fc0cb34ede28a5ca1f2",
        "id": "ZRvatrsGDURZ",
        "colab_type": "text"
      },
      "source": [
        "One of the challenges in building models is mixing features that have different scales. Look at our dataset and compare bathrooms with size or maximum_nights. When we mix units with ranges that have different orders of magnitude, our models may not be able to find the proper coefficients. To account for this problem, we standardize or normalize the features."
      ]
    },
    {
      "cell_type": "code",
      "metadata": {
        "trusted": true,
        "_uuid": "d9faf319babe87f261162e37fa4bf5d623e8e2ef",
        "id": "pbMK8LNXDURa",
        "colab_type": "code",
        "colab": {}
      },
      "source": [
        "# scale data\n",
        "from sklearn.preprocessing import StandardScaler\n",
        "sc = StandardScaler()\n",
        "X_train = sc.fit_transform(X_train)\n",
        "X_test  = sc.transform(X_test)"
      ],
      "execution_count": 0,
      "outputs": []
    },
    {
      "cell_type": "markdown",
      "metadata": {
        "_uuid": "bf45f94c04f8b5869f87092e9d41458e0e0018f5",
        "id": "Uzx5M7SSDURe",
        "colab_type": "text"
      },
      "source": [
        "#### 4.3. Training an XGBoost Regressor\n",
        "<a id='4.3. Training an XGBoost Regressor'></a>"
      ]
    },
    {
      "cell_type": "code",
      "metadata": {
        "trusted": true,
        "_uuid": "dd6679ee078dc6734a5fb012132f32fcd9173063",
        "id": "Am9tM2fGDURr",
        "colab_type": "code",
        "colab": {}
      },
      "source": [
        "# create a baseline\n",
        "booster = xgb.XGBRegressor()"
      ],
      "execution_count": 0,
      "outputs": []
    },
    {
      "cell_type": "markdown",
      "metadata": {
        "_uuid": "0666a0568d1c9d44935d47272dd4386558f68317",
        "id": "_gp12LehDURv",
        "colab_type": "text"
      },
      "source": [
        "Some of the important hyperparameters to tune an XGBoost are:\n",
        "- `n_estimators` $\\;\\;\\;\\;\\;$ = Number of trees one wants to build.\n",
        "- `learning_rate` $\\;\\;\\;\\;$= Rate at which our model learns patterns in data. After every round, it shrinks the feature weights to reach the best optimum.\n",
        "- `max_depth` $\\;\\;\\;\\;\\;\\;\\;\\;\\;\\;\\;$= Determines how deeply each tree is allowed to grow during any boosting round.\n",
        "- `colsample_bytree` = Percentage of features used per tree. \n",
        "- `gamma` $\\;\\;\\;\\;\\;\\;\\;\\;\\;\\;\\;\\;\\;\\;\\;\\;\\;$= Specifies the minimum loss reduction required to make a split."
      ]
    },
    {
      "cell_type": "code",
      "metadata": {
        "trusted": true,
        "_uuid": "9a637fb845ee679e98d197fb8c287e34207d2564",
        "id": "Ng9Ybd2ADURw",
        "colab_type": "code",
        "outputId": "27d1188c-623c-4c9c-a0c4-0c16972fa10b",
        "colab": {
          "base_uri": "https://localhost:8080/",
          "height": 51
        }
      },
      "source": [
        "from sklearn.model_selection import GridSearchCV\n",
        "\n",
        "# create Grid\n",
        "param_grid = {'n_estimators': [100, 150, 200],\n",
        "              'learning_rate': [0.01, 0.05, 0.1], \n",
        "              'max_depth': [3, 4, 5, 6, 7],\n",
        "              'colsample_bytree': [0.6, 0.7, 1],\n",
        "              'gamma': [0.0, 0.1, 0.2]}\n",
        "\n",
        "# instantiate the tuned random forest\n",
        "booster_grid_search = GridSearchCV(booster, param_grid, cv=3, n_jobs=-1)\n",
        "\n",
        "# train the tuned random forest\n",
        "booster_grid_search.fit(X_train, y_train)\n",
        "\n",
        "# print best estimator parameters found during the grid search\n",
        "print(booster_grid_search.best_params_)"
      ],
      "execution_count": 302,
      "outputs": [
        {
          "output_type": "stream",
          "text": [
            "[06:01:58] WARNING: /workspace/src/objective/regression_obj.cu:152: reg:linear is now deprecated in favor of reg:squarederror.\n",
            "{'colsample_bytree': 0.6, 'gamma': 0.1, 'learning_rate': 0.1, 'max_depth': 7, 'n_estimators': 200}\n"
          ],
          "name": "stdout"
        }
      ]
    },
    {
      "cell_type": "code",
      "metadata": {
        "trusted": false,
        "_uuid": "e89b6eb2625fd0b7e5477e8ea73b23f5422af3db",
        "id": "fZey2DQIDUR0",
        "colab_type": "code",
        "colab": {
          "base_uri": "https://localhost:8080/",
          "height": 34
        },
        "outputId": "0e0539df-2324-4e8e-f308-aa898958fd10"
      },
      "source": [
        "# instantiate xgboost with best parameters\n",
        "booster = xgb.XGBRegressor(colsample_bytree=0.7, gamma=0.2, learning_rate=0.1, \n",
        "                           max_depth=6, n_estimators=200, random_state=4)\n",
        "\n",
        "# train\n",
        "booster.fit(X_train, y_train)\n",
        "\n",
        "# predict\n",
        "y_pred_train = booster.predict(X_train)\n",
        "y_pred_test = booster.predict(X_test)"
      ],
      "execution_count": 303,
      "outputs": [
        {
          "output_type": "stream",
          "text": [
            "[06:02:05] WARNING: /workspace/src/objective/regression_obj.cu:152: reg:linear is now deprecated in favor of reg:squarederror.\n"
          ],
          "name": "stdout"
        }
      ]
    },
    {
      "cell_type": "code",
      "metadata": {
        "trusted": false,
        "_uuid": "3e577653bc64cb838d134df993a3aee0891ed650",
        "id": "wgzMANHeDUR4",
        "colab_type": "code",
        "colab": {
          "base_uri": "https://localhost:8080/",
          "height": 34
        },
        "outputId": "3050e090-33fb-4a55-f0ed-e1ba28311021"
      },
      "source": [
        "RMSE = np.sqrt(mean_squared_error(y_test, y_pred_test))\n",
        "print(f\"RMSE: {round(RMSE, 4)}\")"
      ],
      "execution_count": 304,
      "outputs": [
        {
          "output_type": "stream",
          "text": [
            "RMSE: 24.554\n"
          ],
          "name": "stdout"
        }
      ]
    },
    {
      "cell_type": "code",
      "metadata": {
        "id": "xzwpP2GeW3Z_",
        "colab_type": "code",
        "colab": {
          "base_uri": "https://localhost:8080/",
          "height": 85
        },
        "outputId": "0623bad3-8021-493e-e3c2-f6f3a3141caa"
      },
      "source": [
        "#Create Regression Model\n",
        "from sklearn.tree import DecisionTreeRegressor\n",
        "regr_tree = DecisionTreeRegressor()\n",
        "#Search best parameters\n",
        "from sklearn.model_selection import GridSearchCV\n",
        "param_grid = [{'max_depth': np.arange(1, 10),\n",
        "              'min_samples_leaf': [1, 5, 10, 20, 50, 100],\n",
        "              'min_weight_fraction_leaf': [0.0,0.1,0.3,0.5],\n",
        "              'random_state':[1,3,4,7]}]\n",
        "gridCV = GridSearchCV(estimator=regr_tree, param_grid=param_grid,cv=10)\n",
        "gridCV = gridCV.fit(X_train, y_train)\n",
        "print(gridCV.best_score_)\n",
        "print(gridCV.best_params_)\n",
        "md = gridCV.best_params_[\"max_depth\"]\n",
        "msl  = gridCV.best_params_[\"min_samples_leaf\"]\n",
        "mwfl = gridCV.best_params_[\"min_weight_fraction_leaf\"]\n",
        "rs = gridCV.best_params_[\"random_state\"]\n",
        "#fit model and prediction with best parameters\n",
        "regr_tree = DecisionTreeRegressor(max_depth=md,min_samples_leaf=msl,min_weight_fraction_leaf=mwfl,random_state=rs)\n",
        "regr_tree.fit(X_train, y_train)\n",
        "tree_pred = regr_tree.predict(X_test)\n",
        "#Measure error\n",
        "from sklearn.metrics import mean_squared_error, r2_score\n",
        "RMSE = np.sqrt(mean_squared_error(y_test, tree_pred))\n",
        "print(f\"RMSE: {round(RMSE, 4)}\")\n",
        "\n",
        "r2 = r2_score(y_test, tree_pred)\n",
        "print(f\"r2: {round(r2, 4)}\")"
      ],
      "execution_count": 312,
      "outputs": [
        {
          "output_type": "stream",
          "text": [
            "0.5733666935648792\n",
            "{'max_depth': 9, 'min_samples_leaf': 20, 'min_weight_fraction_leaf': 0.0, 'random_state': 1}\n",
            "RMSE: 28.1375\n",
            "r2: 0.5927\n"
          ],
          "name": "stdout"
        }
      ]
    },
    {
      "cell_type": "code",
      "metadata": {
        "trusted": false,
        "_uuid": "60ea08d1b8186b06bd8550132a38de38ab5886e5",
        "id": "yj8r4jIlDUR7",
        "colab_type": "code",
        "colab": {
          "base_uri": "https://localhost:8080/",
          "height": 34
        },
        "outputId": "522fc6ea-2342-4f44-b1a1-2463668b85f7"
      },
      "source": [
        "r2 = r2_score(y_test, y_pred_test)\n",
        "r2\n",
        "print(f\"r2: {round(r2, 4)}\")"
      ],
      "execution_count": 306,
      "outputs": [
        {
          "output_type": "stream",
          "text": [
            "r2: 0.6898\n"
          ],
          "name": "stdout"
        }
      ]
    },
    {
      "cell_type": "markdown",
      "metadata": {
        "_uuid": "25181e2635222e8dff1dbb09da26f5c9aa3f9316",
        "id": "Ld3wuw5_DUR_",
        "colab_type": "text"
      },
      "source": [
        "#### 4.4. Cross Validation\n",
        "<a id='4.4. Cross Validation'></a>"
      ]
    },
    {
      "cell_type": "markdown",
      "metadata": {
        "_uuid": "96cf4c7c34e47e5a9268616c13f7bbe04146ce84",
        "id": "iEUSRpQ2DUSA",
        "colab_type": "text"
      },
      "source": [
        "In order to build more robust models, it is common to conduct a k-fold cross validation where all the entries in the original training dataset are used for both training and validation. XGBoost supports k-fold cross validation via the cv method. All we have to do is specify the `nfolds` parameter, which is the number of cross validation rounds you want to build. \n",
        "\n",
        "Also, it supports many other parameters:\n",
        "- `num_boost_round` $\\;\\;\\;\\;\\;\\;\\;\\;$ = Specifies the number of trees to build (analogous to n_estimators).\n",
        "- `metrics` $\\;\\;\\;\\;\\;\\;\\;\\;\\;\\;\\;\\;\\;\\;\\;\\;\\;\\;\\;\\;\\;$ = Specifies the evaluation metrics to be checked during CV.\n",
        "- `as_pandas` $\\;\\;\\;\\;\\;\\;\\;\\;\\;\\;\\;\\;\\;\\;\\;\\;\\;\\;\\;$= Returns the results in a decent pandas DataFrame.\n",
        "- `early_stopping_rounds` = Finishes model training early if the hold-out metric does not improve for a given number of rounds. \n",
        "\n",
        "We will have to first convert the dataset into an optimized data structure called DMatrix so that XGBoost's cross validation method is supported."
      ]
    },
    {
      "cell_type": "code",
      "metadata": {
        "trusted": false,
        "_uuid": "653940a470b91b71a96ea42f805f2dc8698d4524",
        "id": "bq0mRpV-DUSB",
        "colab_type": "code",
        "colab": {}
      },
      "source": [
        "xg_train = xgb.DMatrix(data=X_train, label=y_train)"
      ],
      "execution_count": 0,
      "outputs": []
    },
    {
      "cell_type": "code",
      "metadata": {
        "trusted": false,
        "_uuid": "24668f7b0fd9539f50ae1187624cd1e45e7cd622",
        "id": "zp2YfnwIDUSJ",
        "colab_type": "code",
        "colab": {}
      },
      "source": [
        "params = {'colsample_bytree':0.6, 'gamma':0.2, 'learning_rate':0.05, 'max_depth':6}\n",
        "\n",
        "cv_results = xgb.cv(dtrain=xg_train, params=params, nfold=3,\n",
        "                    num_boost_round=200, early_stopping_rounds=10, \n",
        "                    metrics=\"rmse\", as_pandas=True)"
      ],
      "execution_count": 0,
      "outputs": []
    },
    {
      "cell_type": "code",
      "metadata": {
        "trusted": false,
        "_uuid": "e8c65ed025bc9afd9d010e716825120221b8bdc6",
        "id": "JoqZtvVHDUSn",
        "colab_type": "code",
        "colab": {
          "base_uri": "https://localhost:8080/",
          "height": 204
        },
        "outputId": "3de0df7a-ff18-479e-e5da-6c4906df1fbd"
      },
      "source": [
        "cv_results.head()"
      ],
      "execution_count": 309,
      "outputs": [
        {
          "output_type": "execute_result",
          "data": {
            "text/html": [
              "<div>\n",
              "<style scoped>\n",
              "    .dataframe tbody tr th:only-of-type {\n",
              "        vertical-align: middle;\n",
              "    }\n",
              "\n",
              "    .dataframe tbody tr th {\n",
              "        vertical-align: top;\n",
              "    }\n",
              "\n",
              "    .dataframe thead th {\n",
              "        text-align: right;\n",
              "    }\n",
              "</style>\n",
              "<table border=\"1\" class=\"dataframe\">\n",
              "  <thead>\n",
              "    <tr style=\"text-align: right;\">\n",
              "      <th></th>\n",
              "      <th>train-rmse-mean</th>\n",
              "      <th>train-rmse-std</th>\n",
              "      <th>test-rmse-mean</th>\n",
              "      <th>test-rmse-std</th>\n",
              "    </tr>\n",
              "  </thead>\n",
              "  <tbody>\n",
              "    <tr>\n",
              "      <th>0</th>\n",
              "      <td>67.443749</td>\n",
              "      <td>0.379349</td>\n",
              "      <td>67.476977</td>\n",
              "      <td>0.792413</td>\n",
              "    </tr>\n",
              "    <tr>\n",
              "      <th>1</th>\n",
              "      <td>64.613345</td>\n",
              "      <td>0.349570</td>\n",
              "      <td>64.697469</td>\n",
              "      <td>0.780455</td>\n",
              "    </tr>\n",
              "    <tr>\n",
              "      <th>2</th>\n",
              "      <td>61.997500</td>\n",
              "      <td>0.357879</td>\n",
              "      <td>62.125636</td>\n",
              "      <td>0.740132</td>\n",
              "    </tr>\n",
              "    <tr>\n",
              "      <th>3</th>\n",
              "      <td>59.511836</td>\n",
              "      <td>0.308193</td>\n",
              "      <td>59.708423</td>\n",
              "      <td>0.773231</td>\n",
              "    </tr>\n",
              "    <tr>\n",
              "      <th>4</th>\n",
              "      <td>57.198671</td>\n",
              "      <td>0.356854</td>\n",
              "      <td>57.442262</td>\n",
              "      <td>0.706146</td>\n",
              "    </tr>\n",
              "  </tbody>\n",
              "</table>\n",
              "</div>"
            ],
            "text/plain": [
              "   train-rmse-mean  train-rmse-std  test-rmse-mean  test-rmse-std\n",
              "0        67.443749        0.379349       67.476977       0.792413\n",
              "1        64.613345        0.349570       64.697469       0.780455\n",
              "2        61.997500        0.357879       62.125636       0.740132\n",
              "3        59.511836        0.308193       59.708423       0.773231\n",
              "4        57.198671        0.356854       57.442262       0.706146"
            ]
          },
          "metadata": {
            "tags": []
          },
          "execution_count": 309
        }
      ]
    },
    {
      "cell_type": "code",
      "metadata": {
        "trusted": false,
        "_uuid": "7048af5e46d626415f70c7f783b8d51ef594de20",
        "id": "uZRLZ3AJDUSs",
        "colab_type": "code",
        "colab": {
          "base_uri": "https://localhost:8080/",
          "height": 204
        },
        "outputId": "2339da0a-9297-484f-d6df-d9c4d83f3a9d"
      },
      "source": [
        "cv_results.tail()"
      ],
      "execution_count": 310,
      "outputs": [
        {
          "output_type": "execute_result",
          "data": {
            "text/html": [
              "<div>\n",
              "<style scoped>\n",
              "    .dataframe tbody tr th:only-of-type {\n",
              "        vertical-align: middle;\n",
              "    }\n",
              "\n",
              "    .dataframe tbody tr th {\n",
              "        vertical-align: top;\n",
              "    }\n",
              "\n",
              "    .dataframe thead th {\n",
              "        text-align: right;\n",
              "    }\n",
              "</style>\n",
              "<table border=\"1\" class=\"dataframe\">\n",
              "  <thead>\n",
              "    <tr style=\"text-align: right;\">\n",
              "      <th></th>\n",
              "      <th>train-rmse-mean</th>\n",
              "      <th>train-rmse-std</th>\n",
              "      <th>test-rmse-mean</th>\n",
              "      <th>test-rmse-std</th>\n",
              "    </tr>\n",
              "  </thead>\n",
              "  <tbody>\n",
              "    <tr>\n",
              "      <th>195</th>\n",
              "      <td>17.292848</td>\n",
              "      <td>0.189176</td>\n",
              "      <td>23.522722</td>\n",
              "      <td>0.272621</td>\n",
              "    </tr>\n",
              "    <tr>\n",
              "      <th>196</th>\n",
              "      <td>17.273785</td>\n",
              "      <td>0.179642</td>\n",
              "      <td>23.522474</td>\n",
              "      <td>0.271166</td>\n",
              "    </tr>\n",
              "    <tr>\n",
              "      <th>197</th>\n",
              "      <td>17.245287</td>\n",
              "      <td>0.184955</td>\n",
              "      <td>23.515607</td>\n",
              "      <td>0.270168</td>\n",
              "    </tr>\n",
              "    <tr>\n",
              "      <th>198</th>\n",
              "      <td>17.221252</td>\n",
              "      <td>0.183488</td>\n",
              "      <td>23.509824</td>\n",
              "      <td>0.272092</td>\n",
              "    </tr>\n",
              "    <tr>\n",
              "      <th>199</th>\n",
              "      <td>17.202464</td>\n",
              "      <td>0.196907</td>\n",
              "      <td>23.504977</td>\n",
              "      <td>0.270075</td>\n",
              "    </tr>\n",
              "  </tbody>\n",
              "</table>\n",
              "</div>"
            ],
            "text/plain": [
              "     train-rmse-mean  train-rmse-std  test-rmse-mean  test-rmse-std\n",
              "195        17.292848        0.189176       23.522722       0.272621\n",
              "196        17.273785        0.179642       23.522474       0.271166\n",
              "197        17.245287        0.184955       23.515607       0.270168\n",
              "198        17.221252        0.183488       23.509824       0.272092\n",
              "199        17.202464        0.196907       23.504977       0.270075"
            ]
          },
          "metadata": {
            "tags": []
          },
          "execution_count": 310
        }
      ]
    },
    {
      "cell_type": "markdown",
      "metadata": {
        "_uuid": "dcd7f019a1c14ae85dcefd2899989ef308443f43",
        "id": "9HQD_HDWDUSw",
        "colab_type": "text"
      },
      "source": [
        "*Back to: <a href='#Table of contents'> Table of contents</a>*\n",
        "### 5. Interpreting the Data \n",
        "<a id='5. Interpreting the Data'></a>"
      ]
    },
    {
      "cell_type": "markdown",
      "metadata": {
        "_uuid": "5b68d875abc9c483c04f4b4e2ddd60383ede07b4",
        "id": "nPvd0jqNDUS3",
        "colab_type": "text"
      },
      "source": [
        "We can see that our average error (RMSE) in the initial XGBoost is around 22€, which improves to 17.5€ by cross validation. Given the fact that after cleaning up the price column, 50% of our lodgings cost only up to 45€ and 75% of our lodgings up to 70€ - even the improved standard deviation of 17€ is quite a massive inaccuracy that doesn't help much in recommending a price.\n",
        "\n",
        "It turns out that the price is dependent not only on geography, size, and features. It stands to reason that \n",
        "- the quality of presentation (e.g. pictures), \n",
        "- availability, \n",
        "- the number and content of reviews, \n",
        "- communication (e.g. acceptance rate, host response time) or \n",
        "- status ((whether or not the host is a super host)) \n",
        "\n",
        "might have a substantial influence too. But the purpose of this analysis was to recommend a price to a \"rookie\" without any reviews or status. With this in mind, we might say that we can't recommend an exact price, but rather a range..\n",
        "\n",
        "The next step (and maybe an idea for the reader) would be to start all over again and include the features mentioned above to try to find out if accuracy improves. That might help a beginner on Airbnb better know what price to aim for.\n",
        "\n",
        "With what we have done here, we have explained 71% of the variance (R^2) with the most important accommodation features, as pictured below:"
      ]
    },
    {
      "cell_type": "code",
      "metadata": {
        "trusted": false,
        "_uuid": "f78e997a77c02ea26a7ac77f43df34b7afc89651",
        "id": "WDlrUH0fDUS4",
        "colab_type": "code",
        "colab": {
          "base_uri": "https://localhost:8080/",
          "height": 334
        },
        "outputId": "d80b75c0-ab86-4f54-9d03-882a7fbdfe27"
      },
      "source": [
        "# plot the important features\n",
        "feat_importances = pd.Series(booster.feature_importances_, index=features_recoded.columns)\n",
        "feat_importances.nlargest(15).sort_values().plot(kind='barh', color='darkgrey', figsize=(10,5))\n",
        "plt.xlabel('Relative Feature Importance with XGBoost');"
      ],
      "execution_count": 311,
      "outputs": [
        {
          "output_type": "display_data",
          "data": {
            "image/png": "[encoded data removed]",
            "text/plain": [
              "<Figure size 720x360 with 1 Axes>"
            ]
          },
          "metadata": {
            "tags": []
          }
        }
      ]
    },
    {
      "cell_type": "markdown",
      "metadata": {
        "_uuid": "89fac2d9584bff38894303530b58784325d71b02",
        "id": "yhqaqlt7DUS8",
        "colab_type": "text"
      },
      "source": [
        "As we see, the **most important features are size, distance, and cleaning fee**, which account for approximately 45% of the daily price. Other top features are the number of people the apartment accommodates, other fees such as security deposit or the price for extra people, minimum night stay and bathrooms."
      ]
    },
    {
      "cell_type": "markdown",
      "metadata": {
        "_uuid": "3acac64c36dd9de1bda0947706ded0143ecff6a8",
        "id": "0t3Hb07BDUS9",
        "colab_type": "text"
      },
      "source": [
        "*Back to: <a href='#Table of contents'> Table of contents</a>*\n",
        "### 6. Appendix \n",
        "<a id='6. Appendix'></a>"
      ]
    },
    {
      "cell_type": "markdown",
      "metadata": {
        "_uuid": "59c64c16beeb70af4dc55cac4de18502cd449ad1",
        "id": "eKBzjotoDUS_",
        "colab_type": "text"
      },
      "source": [
        "All resources used in this notebook are listed below.\n",
        "\n",
        "Data\n",
        "- http://insideairbnb.com/get-the-data.html\n",
        "\n",
        "Imputing missing values with Linear Regression\n",
        "- https://towardsdatascience.com/the-tale-of-missing-values-in-python-c96beb0e8a9d\n",
        "\n",
        "XGBoost\n",
        "- https://www.datacamp.com/community/tutorials/xgboost-in-python\n",
        "- https://www.kaggle.com/marcelo06/cross-validation-with-xgboost-python\n",
        "\n",
        "Geocoding\n",
        "- https://pypi.org/project/geopy/\n",
        "\n",
        "Centroid of Berlin (in German!)\n",
        "- https://www.tagesspiegel.de/berlin/bezirke/friedrichshain-kreuzberg/reise-zum-mittelpunkt-berlins-am-ruhepol/9837502.html\n",
        "\n",
        "Visualizations\n",
        "- https://python-graph-gallery.com\n",
        "- https://www.kaggle.com/kostyabahshetsyan/boston-airbnb-visualization\n",
        "\n",
        "Inspiration for Analysis\n",
        "- https://towardsdatascience.com/digging-into-airbnb-data-reviews-sentiments-superhosts-and-prices-prediction-part1-6c80ccb26c6a\n",
        "- https://www.kaggle.com/ibjohnsson/predicting-listing-prices\n",
        "- https://www.kaggle.com/mathvv/prediction-on-house-prices-xgboost-tutorial\n",
        "- https://towardsdatascience.com/improving-airbnb-yield-prediction-with-text-mining-9472c0181731\n",
        "- https://github.com/joaeechew/airbnb_nlp/blob/master/Capstone%20Project.ipynb"
      ]
    }
  ]
}